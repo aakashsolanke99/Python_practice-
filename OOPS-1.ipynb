{
 "cells": [
  {
   "cell_type": "code",
   "execution_count": 1,
   "id": "1f23c9cf",
   "metadata": {},
   "outputs": [],
   "source": [
    "class car:\n",
    "    pass"
   ]
  },
  {
   "cell_type": "code",
   "execution_count": 10,
   "id": "32349899",
   "metadata": {},
   "outputs": [],
   "source": [
    "class car:\n",
    "    def __init__(self, brand_name, fuel_type, body_type):  # in bield function  \n",
    "                                                           ## (__init__) it is a constructor it provide data to the class\n",
    "                                                          \n",
    "        self.brand_name=brand_name\n",
    "        self.fuel_type=fuel_type                             # self is just a pointer  \n",
    "        self.body_type=body_type\n",
    "        \n",
    "    \n",
    "    def desc_car(self):\n",
    "        print(self.brand_name, self.fuel_type,self.body_type)"
   ]
  },
  {
   "cell_type": "code",
   "execution_count": 14,
   "id": "ae6ce853",
   "metadata": {},
   "outputs": [],
   "source": [
    "innova = car(\"toyota\",\"petrol\",\"suv\")      # innova , nexon and fortuner is object\n",
    "nexon = car(\"tata\",\"petrol\",\"min suv\")\n",
    "fortuner = car(\"toyota\",\"disiel\",\"suv\")"
   ]
  },
  {
   "cell_type": "code",
   "execution_count": 15,
   "id": "30df2fd5",
   "metadata": {},
   "outputs": [
    {
     "name": "stdout",
     "output_type": "stream",
     "text": [
      "toyota petrol suv\n"
     ]
    }
   ],
   "source": [
    "innova.desc_car()"
   ]
  },
  {
   "cell_type": "code",
   "execution_count": 16,
   "id": "1d3dc7e6",
   "metadata": {},
   "outputs": [
    {
     "data": {
      "text/plain": [
       "'toyota'"
      ]
     },
     "execution_count": 16,
     "metadata": {},
     "output_type": "execute_result"
    }
   ],
   "source": [
    "innova.brand_name"
   ]
  },
  {
   "cell_type": "code",
   "execution_count": 18,
   "id": "d2b366d2",
   "metadata": {},
   "outputs": [
    {
     "data": {
      "text/plain": [
       "__main__.car"
      ]
     },
     "execution_count": 18,
     "metadata": {},
     "output_type": "execute_result"
    }
   ],
   "source": [
    "type(innova)"
   ]
  },
  {
   "cell_type": "code",
   "execution_count": 22,
   "id": "4848b90e",
   "metadata": {},
   "outputs": [
    {
     "data": {
      "text/plain": [
       "str"
      ]
     },
     "execution_count": 22,
     "metadata": {},
     "output_type": "execute_result"
    }
   ],
   "source": [
    "type(innova.brand_name)"
   ]
  },
  {
   "cell_type": "code",
   "execution_count": 23,
   "id": "630db433",
   "metadata": {},
   "outputs": [
    {
     "data": {
      "text/plain": [
       "'tata'"
      ]
     },
     "execution_count": 23,
     "metadata": {},
     "output_type": "execute_result"
    }
   ],
   "source": [
    "nexon.brand_name"
   ]
  },
  {
   "cell_type": "code",
   "execution_count": 24,
   "id": "35274ae0",
   "metadata": {},
   "outputs": [
    {
     "data": {
      "text/plain": [
       "'petrol'"
      ]
     },
     "execution_count": 24,
     "metadata": {},
     "output_type": "execute_result"
    }
   ],
   "source": [
    "nexon.fuel_type"
   ]
  },
  {
   "cell_type": "code",
   "execution_count": 38,
   "id": "ac7f62eb",
   "metadata": {},
   "outputs": [],
   "source": [
    "class car:\n",
    "    def __init__(self, brand_name, fuel_type, body_type):  # in bield function  \n",
    "                                                           ## (__init__) it is a constructor it provide data to the class\n",
    "                                                          \n",
    "        self.brand_name1=brand_name\n",
    "        self.fuel_type=fuel_type                             # self is just a pointer  \n",
    "        self.body_type=body_type\n",
    "        \n",
    "    \n",
    "    def desc_car(self):\n",
    "        print(self.brand_name1, self.fuel_type,self.body_type)"
   ]
  },
  {
   "cell_type": "code",
   "execution_count": 39,
   "id": "21a31419",
   "metadata": {},
   "outputs": [],
   "source": [
    "innova = car(\"toyota\",\"petrol\",\"suv\")      # innova , nexon and fortuner is object\n",
    "nexon = car(\"tata\",\"petrol\",\"min suv\")\n",
    "fortuner = car(\"toyota\",\"disiel\",\"suv\")"
   ]
  },
  {
   "cell_type": "code",
   "execution_count": 40,
   "id": "71f23229",
   "metadata": {},
   "outputs": [
    {
     "ename": "AttributeError",
     "evalue": "'car' object has no attribute 'brand_name'",
     "output_type": "error",
     "traceback": [
      "\u001b[1;31m---------------------------------------------------------------------------\u001b[0m",
      "\u001b[1;31mAttributeError\u001b[0m                            Traceback (most recent call last)",
      "Input \u001b[1;32mIn [40]\u001b[0m, in \u001b[0;36m<cell line: 1>\u001b[1;34m()\u001b[0m\n\u001b[1;32m----> 1\u001b[0m \u001b[43minnova\u001b[49m\u001b[38;5;241;43m.\u001b[39;49m\u001b[43mbrand_name\u001b[49m\n",
      "\u001b[1;31mAttributeError\u001b[0m: 'car' object has no attribute 'brand_name'"
     ]
    }
   ],
   "source": [
    "innova.brand_name"
   ]
  },
  {
   "cell_type": "code",
   "execution_count": 41,
   "id": "172a88e9",
   "metadata": {},
   "outputs": [
    {
     "data": {
      "text/plain": [
       "'toyota'"
      ]
     },
     "execution_count": 41,
     "metadata": {},
     "output_type": "execute_result"
    }
   ],
   "source": [
    "innova.brand_name1"
   ]
  },
  {
   "cell_type": "code",
   "execution_count": 42,
   "id": "6e4413a0",
   "metadata": {},
   "outputs": [
    {
     "name": "stdout",
     "output_type": "stream",
     "text": [
      "toyota petrol suv\n"
     ]
    }
   ],
   "source": [
    "innova.desc_car()"
   ]
  },
  {
   "cell_type": "code",
   "execution_count": 3,
   "id": "48f65f24",
   "metadata": {},
   "outputs": [],
   "source": [
    "class car:\n",
    "    def test(sudh,a,b):  ### first variable act like a pointer \n",
    "        print(\"this is my class car\")"
   ]
  },
  {
   "cell_type": "code",
   "execution_count": 4,
   "id": "349b5429",
   "metadata": {},
   "outputs": [],
   "source": [
    "x=car()"
   ]
  },
  {
   "cell_type": "code",
   "execution_count": 5,
   "id": "05e94b9a",
   "metadata": {},
   "outputs": [
    {
     "name": "stdout",
     "output_type": "stream",
     "text": [
      "<class '__main__.car'>\n"
     ]
    }
   ],
   "source": [
    "print(type(x))"
   ]
  },
  {
   "cell_type": "code",
   "execution_count": 54,
   "id": "00ec99b6",
   "metadata": {},
   "outputs": [
    {
     "ename": "TypeError",
     "evalue": "test() missing 2 required positional arguments: 'a' and 'b'",
     "output_type": "error",
     "traceback": [
      "\u001b[1;31m---------------------------------------------------------------------------\u001b[0m",
      "\u001b[1;31mTypeError\u001b[0m                                 Traceback (most recent call last)",
      "Input \u001b[1;32mIn [54]\u001b[0m, in \u001b[0;36m<cell line: 1>\u001b[1;34m()\u001b[0m\n\u001b[1;32m----> 1\u001b[0m \u001b[43mx\u001b[49m\u001b[38;5;241;43m.\u001b[39;49m\u001b[43mtest\u001b[49m\u001b[43m(\u001b[49m\u001b[43m)\u001b[49m\n",
      "\u001b[1;31mTypeError\u001b[0m: test() missing 2 required positional arguments: 'a' and 'b'"
     ]
    }
   ],
   "source": [
    "x.test()"
   ]
  },
  {
   "cell_type": "code",
   "execution_count": 55,
   "id": "3770c6b9",
   "metadata": {},
   "outputs": [
    {
     "name": "stdout",
     "output_type": "stream",
     "text": [
      "this is my class car\n"
     ]
    }
   ],
   "source": [
    "x.test(4,5)"
   ]
  },
  {
   "cell_type": "code",
   "execution_count": 48,
   "id": "df75842a",
   "metadata": {},
   "outputs": [
    {
     "name": "stdout",
     "output_type": "stream",
     "text": [
      "this is my class car\n"
     ]
    }
   ],
   "source": [
    "car.test(\"sjas\")"
   ]
  },
  {
   "cell_type": "code",
   "execution_count": null,
   "id": "0765241e",
   "metadata": {},
   "outputs": [],
   "source": []
  },
  {
   "cell_type": "code",
   "execution_count": 17,
   "id": "7e556da7",
   "metadata": {},
   "outputs": [],
   "source": [
    "class list_parsar:\n",
    "    \n",
    "    def __init__(self,l):\n",
    "        self.l = l\n",
    "    \n",
    "    def parcer(self):\n",
    "        if type(self.l)==list:\n",
    "            for i in self.l:\n",
    "                print(i)\n",
    "    \n",
    "    def reverse(self):\n",
    "        if type(self.l)==list:\n",
    "            return self.l[::-1]\n",
    "        \n",
    "    "
   ]
  },
  {
   "cell_type": "code",
   "execution_count": 20,
   "id": "66fc0965",
   "metadata": {},
   "outputs": [
    {
     "name": "stdout",
     "output_type": "stream",
     "text": [
      "2\n",
      "3\n",
      "4\n",
      "5\n",
      "7\n",
      "8\n"
     ]
    }
   ],
   "source": [
    "c=list_parsar([2,3,4,5,7,8])\n",
    "c.parcer()"
   ]
  },
  {
   "cell_type": "code",
   "execution_count": 22,
   "id": "ded83634",
   "metadata": {},
   "outputs": [
    {
     "data": {
      "text/plain": [
       "[8, 7, 5, 4, 3, 2]"
      ]
     },
     "execution_count": 22,
     "metadata": {},
     "output_type": "execute_result"
    }
   ],
   "source": [
    "c.reverse()"
   ]
  },
  {
   "cell_type": "markdown",
   "id": "b57f7158",
   "metadata": {},
   "source": [
    "create a class for dictonary parsing\n",
    "\n",
    "1. write a function to give all the keys \n",
    "2. write a function to give all the values\n",
    "3. write a function to throw an exception in case of inpute is not dictonary\n",
    "4. write a function to take user input and then parse a key and value out of dictonary \n",
    "5.write a functon to insert new kay value pair into dictonary\n"
   ]
  },
  {
   "cell_type": "code",
   "execution_count": 7,
   "id": "2d5f84e9",
   "metadata": {},
   "outputs": [],
   "source": [
    "class dictonary:\n",
    "    def __init__(self,d):\n",
    "             self.d=d\n",
    "        \n",
    "    def kays(self):\n",
    "            return self.d.keys()\n",
    "        \n",
    "    def values(self):\n",
    "        return self.d.values()\n",
    "    \n",
    "    def exceptionraise(self):\n",
    "        if type(self.d)!=dict:\n",
    "            raise Exception(self.d,\"not a dictionary\")\n",
    "        return 1\n",
    "        \n",
    "    def userinput(self):\n",
    "        self.a=eval(input())\n",
    "        print(self.a,type(self.a))\n",
    "        print(self.a.keys())\n",
    "        print(self.a.values())\n",
    "        \n",
    "    def insert(self,k,v):\n",
    "        self.d[k]=v\n",
    "        return self.d\n",
    "        \n",
    "        "
   ]
  },
  {
   "cell_type": "code",
   "execution_count": 8,
   "id": "546d9d61",
   "metadata": {},
   "outputs": [],
   "source": [
    "d1={\"name\":\"aakash\",\"age\":24,\"add\":\"sunder nager\"}\n",
    "c=dictonary(d1)"
   ]
  },
  {
   "cell_type": "code",
   "execution_count": 9,
   "id": "e9ce7a7f",
   "metadata": {},
   "outputs": [
    {
     "data": {
      "text/plain": [
       "dict_keys(['name', 'age', 'add'])"
      ]
     },
     "execution_count": 9,
     "metadata": {},
     "output_type": "execute_result"
    }
   ],
   "source": [
    "c.kays()"
   ]
  },
  {
   "cell_type": "code",
   "execution_count": 10,
   "id": "14e44ccd",
   "metadata": {},
   "outputs": [
    {
     "data": {
      "text/plain": [
       "dict_values(['aakash', 24, 'sunder nager'])"
      ]
     },
     "execution_count": 10,
     "metadata": {},
     "output_type": "execute_result"
    }
   ],
   "source": [
    "c.values()"
   ]
  },
  {
   "cell_type": "code",
   "execution_count": 47,
   "id": "fe65c095",
   "metadata": {},
   "outputs": [
    {
     "name": "stdout",
     "output_type": "stream",
     "text": [
      "{\"age\":24}\n",
      "{'age': 24} <class 'dict'>\n",
      "dict_keys(['age'])\n",
      "dict_values([24])\n"
     ]
    }
   ],
   "source": [
    "c.userinput()"
   ]
  },
  {
   "cell_type": "code",
   "execution_count": 16,
   "id": "27a27393",
   "metadata": {},
   "outputs": [
    {
     "ename": "TypeError",
     "evalue": "exceptionraise() takes 1 positional argument but 2 were given",
     "output_type": "error",
     "traceback": [
      "\u001b[1;31m---------------------------------------------------------------------------\u001b[0m",
      "\u001b[1;31mTypeError\u001b[0m                                 Traceback (most recent call last)",
      "Input \u001b[1;32mIn [16]\u001b[0m, in \u001b[0;36m<cell line: 1>\u001b[1;34m()\u001b[0m\n\u001b[1;32m----> 1\u001b[0m \u001b[43mc\u001b[49m\u001b[38;5;241;43m.\u001b[39;49m\u001b[43mexceptionraise\u001b[49m\u001b[43m(\u001b[49m\u001b[43m[\u001b[49m\u001b[38;5;124;43m\"\u001b[39;49m\u001b[38;5;124;43mjhv\u001b[39;49m\u001b[38;5;124;43m\"\u001b[39;49m\u001b[43m]\u001b[49m\u001b[43m)\u001b[49m\n",
      "\u001b[1;31mTypeError\u001b[0m: exceptionraise() takes 1 positional argument but 2 were given"
     ]
    }
   ],
   "source": [
    "c.exceptionraise([\"jhv\"])      ### problem\n"
   ]
  },
  {
   "cell_type": "code",
   "execution_count": 17,
   "id": "5e1112b5",
   "metadata": {},
   "outputs": [
    {
     "data": {
      "text/plain": [
       "{'name': 'aakash', 'age': 24, 'add': 'sunder nager', 'k1': [2, 2, 3, 5, 6]}"
      ]
     },
     "execution_count": 17,
     "metadata": {},
     "output_type": "execute_result"
    }
   ],
   "source": [
    "c.insert(\"k1\",[2,2,3,5,6])"
   ]
  },
  {
   "cell_type": "code",
   "execution_count": 18,
   "id": "cda8e3c0",
   "metadata": {},
   "outputs": [
    {
     "data": {
      "text/plain": [
       "<_io.TextIOWrapper name='my_dict.py' mode='w' encoding='cp1252'>"
      ]
     },
     "execution_count": 18,
     "metadata": {},
     "output_type": "execute_result"
    }
   ],
   "source": [
    "open(\"my_dict.py\",\"w\")"
   ]
  },
  {
   "cell_type": "code",
   "execution_count": 19,
   "id": "02c9f05d",
   "metadata": {},
   "outputs": [
    {
     "name": "stdout",
     "output_type": "stream",
     "text": [
      " Volume in drive C is Acer\n",
      " Volume Serial Number is 44A5-598D\n",
      "\n",
      " Directory of C:\\Users\\aakas\\Documents\\INeuron\n",
      "\n",
      "24-11-2022  12:22    <DIR>          .\n",
      "24-11-2022  12:22    <DIR>          ..\n",
      "22-11-2022  16:26    <DIR>          .ipynb_checkpoints\n",
      "22-11-2022  09:03    <DIR>          __pycache__\n",
      "20-11-2022  10:19            23,572 demo_003.ipynb\n",
      "08-11-2022  22:49            14,946 demo_004.ipynb\n",
      "10-11-2022  12:12            27,467 demo_005.ipynb\n",
      "10-11-2022  22:19             5,992 demo_006.ipynb\n",
      "11-11-2022  23:28            25,248 demo_007.ipynb\n",
      "15-11-2022  15:30            40,831 demo_functions.ipynb\n",
      "18-11-2022  19:17            26,773 exception handling .ipynb\n",
      "16-11-2022  22:57            85,130 function_continued.ipynb\n",
      "18-11-2022  11:49               816 google.txt\n",
      "18-11-2022  17:47            45,288 iterator-generator-file-system .ipynb\n",
      "20-11-2022  20:14            20,283 logging.ipynb\n",
      "22-11-2022  11:06            10,451 module and packages.ipynb\n",
      "24-11-2022  12:22                 0 my_dict.py\n",
      "22-11-2022  09:03               232 my_module.py\n",
      "24-11-2022  12:12            14,186 OOPS.ipynb\n",
      "21-11-2022  16:24               141 test.py\n",
      "18-11-2022  17:43                19 test.txt\n",
      "18-11-2022  17:52                 0 test3.txt\n",
      "18-11-2022  17:58                 0 test4.txt\n",
      "20-11-2022  20:07               860 text.log\n",
      "18-11-2022  10:09                 0 text.txt\n",
      "18-11-2022  10:31                78 text1.txt\n",
      "20-11-2022  19:41                 0 text2.log\n",
      "18-11-2022  10:19                51 text2.txt\n",
      "20-11-2022  20:07                 0 text3.log\n",
      "21-11-2022  16:12             1,065 Untitled.ipynb\n",
      "              26 File(s)        343,429 bytes\n",
      "               4 Dir(s)  222,190,039,040 bytes free\n"
     ]
    }
   ],
   "source": [
    "ls"
   ]
  },
  {
   "cell_type": "code",
   "execution_count": 21,
   "id": "41f5734b",
   "metadata": {},
   "outputs": [],
   "source": []
  },
  {
   "cell_type": "code",
   "execution_count": 27,
   "id": "d540fa94",
   "metadata": {},
   "outputs": [],
   "source": [
    "import my_dict"
   ]
  },
  {
   "cell_type": "code",
   "execution_count": 31,
   "id": "8542fcb8",
   "metadata": {},
   "outputs": [],
   "source": [
    "d=my_dict.dictonary({\"k1\":\"sudh\",\"k2\":[2,3,4,5]})    # by creating object we can "
   ]
  },
  {
   "cell_type": "code",
   "execution_count": 33,
   "id": "832186d9",
   "metadata": {},
   "outputs": [
    {
     "data": {
      "text/plain": [
       "dict_keys(['k1', 'k2'])"
      ]
     },
     "execution_count": 33,
     "metadata": {},
     "output_type": "execute_result"
    }
   ],
   "source": [
    "d.kays()"
   ]
  },
  {
   "cell_type": "code",
   "execution_count": 34,
   "id": "228eb84d",
   "metadata": {},
   "outputs": [
    {
     "data": {
      "text/plain": [
       "dict_values(['sudh', [2, 3, 4, 5]])"
      ]
     },
     "execution_count": 34,
     "metadata": {},
     "output_type": "execute_result"
    }
   ],
   "source": [
    "\n",
    "d.values()"
   ]
  },
  {
   "cell_type": "markdown",
   "id": "80ada3cd",
   "metadata": {},
   "source": [
    "-\n",
    "- 1 .Create your own package for all the list function\n",
    "- 2.Create your own package for all the tuple function\n",
    "- 3.Create your own package for all the dictionry function\n",
    "- 4.Create your own package for all the set function\n"
   ]
  },
  {
   "cell_type": "markdown",
   "id": "dfde28a5",
   "metadata": {},
   "source": [
    "restriction\n",
    "  - always use exception handling\n",
    "  - never use print function\n",
    "  - alwys use logger wrting a code log every activity perform by code in respective logging file"
   ]
  },
  {
   "cell_type": "code",
   "execution_count": null,
   "id": "1beaf019",
   "metadata": {},
   "outputs": [],
   "source": []
  }
 ],
 "metadata": {
  "kernelspec": {
   "display_name": "Python 3 (ipykernel)",
   "language": "python",
   "name": "python3"
  },
  "language_info": {
   "codemirror_mode": {
    "name": "ipython",
    "version": 3
   },
   "file_extension": ".py",
   "mimetype": "text/x-python",
   "name": "python",
   "nbconvert_exporter": "python",
   "pygments_lexer": "ipython3",
   "version": "3.9.12"
  }
 },
 "nbformat": 4,
 "nbformat_minor": 5
}
