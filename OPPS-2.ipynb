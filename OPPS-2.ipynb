{
 "cells": [
  {
   "cell_type": "markdown",
   "id": "e6490820",
   "metadata": {},
   "source": [
    "## Inheritance"
   ]
  },
  {
   "cell_type": "code",
   "execution_count": 1,
   "id": "a60c958b",
   "metadata": {},
   "outputs": [],
   "source": [
    "class xyz:\n",
    "    def __init__(self,a,b,c):\n",
    "        self.a=a\n",
    "        self.b=b\n",
    "        self.c=c\n",
    "        \n",
    "    def test(self):\n",
    "        print(\"this is my first method of xyz class\")\n",
    "    \n",
    "    def test1(self):\n",
    "        print(\"this is my test1 method of xyz class\")\n",
    "    \n",
    "    def test2(self):\n",
    "        print(\"this is my test2 method of xyz class\")"
   ]
  },
  {
   "cell_type": "code",
   "execution_count": 2,
   "id": "35cd7bda",
   "metadata": {},
   "outputs": [],
   "source": [
    "class xyz1(xyz):        # inheritance    xyz is parent class and xyz1 is chield class\n",
    "    pass\n",
    "    "
   ]
  },
  {
   "cell_type": "code",
   "execution_count": 3,
   "id": "714f03c9",
   "metadata": {},
   "outputs": [],
   "source": [
    "p=xyz(1,2,3)\n",
    "    "
   ]
  },
  {
   "cell_type": "code",
   "execution_count": 4,
   "id": "abb4198b",
   "metadata": {},
   "outputs": [
    {
     "name": "stdout",
     "output_type": "stream",
     "text": [
      "this is my first method of xyz class\n"
     ]
    }
   ],
   "source": [
    "p.test()"
   ]
  },
  {
   "cell_type": "code",
   "execution_count": 5,
   "id": "0c2c00fc",
   "metadata": {},
   "outputs": [
    {
     "ename": "TypeError",
     "evalue": "__init__() missing 3 required positional arguments: 'a', 'b', and 'c'",
     "output_type": "error",
     "traceback": [
      "\u001b[1;31m---------------------------------------------------------------------------\u001b[0m",
      "\u001b[1;31mTypeError\u001b[0m                                 Traceback (most recent call last)",
      "Input \u001b[1;32mIn [5]\u001b[0m, in \u001b[0;36m<cell line: 1>\u001b[1;34m()\u001b[0m\n\u001b[1;32m----> 1\u001b[0m q\u001b[38;5;241m=\u001b[39m\u001b[43mxyz1\u001b[49m\u001b[43m(\u001b[49m\u001b[43m)\u001b[49m\n",
      "\u001b[1;31mTypeError\u001b[0m: __init__() missing 3 required positional arguments: 'a', 'b', and 'c'"
     ]
    }
   ],
   "source": [
    "q=xyz1()     # geting error because we inherited the xyz class so need to pass a,b,c"
   ]
  },
  {
   "cell_type": "code",
   "execution_count": 6,
   "id": "3aba9c31",
   "metadata": {},
   "outputs": [],
   "source": [
    "q=xyz1(2,3,4)"
   ]
  },
  {
   "cell_type": "code",
   "execution_count": 7,
   "id": "95f8d84b",
   "metadata": {},
   "outputs": [
    {
     "name": "stdout",
     "output_type": "stream",
     "text": [
      "this is my test1 method of xyz class\n"
     ]
    }
   ],
   "source": [
    "q.test1()"
   ]
  },
  {
   "cell_type": "code",
   "execution_count": 8,
   "id": "922eac90",
   "metadata": {},
   "outputs": [],
   "source": [
    "class xyz1(xyz):\n",
    "    def test(self):\n",
    "        print(\"this is a test method available in xyz1\")"
   ]
  },
  {
   "cell_type": "code",
   "execution_count": 9,
   "id": "108f7888",
   "metadata": {},
   "outputs": [],
   "source": [
    "g=xyz1(4,5,6)"
   ]
  },
  {
   "cell_type": "code",
   "execution_count": 10,
   "id": "0b636c7e",
   "metadata": {},
   "outputs": [
    {
     "name": "stdout",
     "output_type": "stream",
     "text": [
      "this is a test method available in xyz1\n"
     ]
    }
   ],
   "source": [
    "g.test()       # get from child class"
   ]
  },
  {
   "cell_type": "code",
   "execution_count": 3,
   "id": "35aadf3e",
   "metadata": {},
   "outputs": [],
   "source": [
    "class xyz():\n",
    "    def __init__(self,a,b,c):\n",
    "        self.a=a\n",
    "        self.b=b\n",
    "        self.c=c\n",
    "        \n",
    "    def test(self):\n",
    "        print(\"this is method of xyz class \")\n",
    "        \n",
    "        \n",
    "class xyz1():\n",
    "    def __init__(self,p,q,r):\n",
    "        self.p=p\n",
    "        self.q=q\n",
    "        self.r=r\n",
    "        \n",
    "    def test1(self):\n",
    "        print(\"this is method form class xyz1\")\n",
    "        \n",
    "        \n",
    "class child(xyz1,xyz):                    \n",
    "    def __init__(self,*args,**kwargs):        #this is multipal inheritance\n",
    "        xyz.__init__(self,*args)\n",
    "        xyz1.__init__(self,**kwargs)"
   ]
  },
  {
   "cell_type": "code",
   "execution_count": 4,
   "id": "b4e6b311",
   "metadata": {},
   "outputs": [],
   "source": [
    "n = child(4,5,6, p = 2, q = 3, r = 9)"
   ]
  },
  {
   "cell_type": "code",
   "execution_count": 5,
   "id": "e058a0a4",
   "metadata": {},
   "outputs": [
    {
     "data": {
      "text/plain": [
       "4"
      ]
     },
     "execution_count": 5,
     "metadata": {},
     "output_type": "execute_result"
    }
   ],
   "source": [
    "n.a"
   ]
  },
  {
   "cell_type": "code",
   "execution_count": 6,
   "id": "d4184742",
   "metadata": {},
   "outputs": [
    {
     "data": {
      "text/plain": [
       "5"
      ]
     },
     "execution_count": 6,
     "metadata": {},
     "output_type": "execute_result"
    }
   ],
   "source": [
    "n.b"
   ]
  },
  {
   "cell_type": "code",
   "execution_count": 7,
   "id": "fa300a2f",
   "metadata": {},
   "outputs": [
    {
     "data": {
      "text/plain": [
       "3"
      ]
     },
     "execution_count": 7,
     "metadata": {},
     "output_type": "execute_result"
    }
   ],
   "source": [
    "n.q"
   ]
  },
  {
   "cell_type": "code",
   "execution_count": 8,
   "id": "e2aa5944",
   "metadata": {},
   "outputs": [
    {
     "data": {
      "text/plain": [
       "9"
      ]
     },
     "execution_count": 8,
     "metadata": {},
     "output_type": "execute_result"
    }
   ],
   "source": [
    "n.r"
   ]
  },
  {
   "cell_type": "code",
   "execution_count": 8,
   "id": "46027896",
   "metadata": {},
   "outputs": [],
   "source": [
    "class xyz():\n",
    "    def __init__(self,a,b,c):\n",
    "        self.a=a\n",
    "        self.b=b\n",
    "        self.c=c\n",
    "        \n",
    "    def test(self):\n",
    "        print(\"this is method of xyz class \")\n",
    "        \n",
    "        \n",
    "class xyz1(xyz):\n",
    "    def test1(self):\n",
    "        print(\"this is method form class xyz1\")\n",
    " \n",
    "\n",
    "\n",
    "class xyz2(xyz1):                                     # multilevel inheritance\n",
    "    def test2(self):\n",
    "        print(\"this is a method of from class 2\")\n",
    "        \n",
    "        \n",
    "class xyz3(xyz2):\n",
    "    def test3(self):\n",
    "        print(\"this is method from xyz3\")"
   ]
  },
  {
   "cell_type": "code",
   "execution_count": 9,
   "id": "17deada8",
   "metadata": {},
   "outputs": [],
   "source": [
    "v=xyz2(4,5,6)"
   ]
  },
  {
   "cell_type": "code",
   "execution_count": 10,
   "id": "4a4f3499",
   "metadata": {},
   "outputs": [
    {
     "name": "stdout",
     "output_type": "stream",
     "text": [
      "this is a method of from class 2\n"
     ]
    }
   ],
   "source": [
    "v.test2()"
   ]
  },
  {
   "cell_type": "code",
   "execution_count": 13,
   "id": "41badc5b",
   "metadata": {},
   "outputs": [],
   "source": [
    "y=xyz3(10,28,4)"
   ]
  },
  {
   "cell_type": "code",
   "execution_count": 14,
   "id": "14f39e84",
   "metadata": {},
   "outputs": [
    {
     "name": "stdout",
     "output_type": "stream",
     "text": [
      "this is method from xyz3\n"
     ]
    }
   ],
   "source": [
    "y.test3()"
   ]
  },
  {
   "cell_type": "markdown",
   "id": "a552d799",
   "metadata": {},
   "source": [
    "- 1.create a file class for reading data from respective file with a method name read and write \n",
    "- 2.try to inherite read and write method from parent class to child class to perfrom read and write operation"
   ]
  },
  {
   "cell_type": "code",
   "execution_count": 24,
   "id": "5d2bceb2",
   "metadata": {},
   "outputs": [
    {
     "name": "stdout",
     "output_type": "stream",
     "text": [
      "inserted line......\n"
     ]
    }
   ],
   "source": [
    "class readfile:\n",
    "    def __init__(self,fileobj,line):\n",
    "        self.file=fileobj\n",
    "        self.line = line\n",
    "        \n",
    "    def readfile(self):\n",
    "        file2=open(self.file,\"r\")\n",
    "        line=file2.readline()\n",
    "        while line!=\"\":\n",
    "            print(line)\n",
    "            line=file2.readline()\n",
    "            \n",
    "    def writefile(self):\n",
    "        write=open(self.file,\"w\")\n",
    "        write.writelines(line)\n",
    "        write.close()\n",
    "        \n",
    "class readfile1(readfile):\n",
    "    def redfile1(self):\n",
    "        print(\"inheritance of readfile class\")\n",
    "        \n",
    "file1=r\"test1.txt\"\n",
    "line=\"inserted line......\"\n",
    "\n",
    "read_write=readfile1(file1,line)\n",
    "read_write.writefile()\n",
    "read_write.readfile()"
   ]
  },
  {
   "cell_type": "markdown",
   "id": "5b467205",
   "metadata": {},
   "source": []
  },
  {
   "cell_type": "markdown",
   "id": "38ef1328",
   "metadata": {},
   "source": [
    "### public , private and protected"
   ]
  },
  {
   "cell_type": "code",
   "execution_count": 26,
   "id": "31df1c6a",
   "metadata": {},
   "outputs": [],
   "source": [
    "class test():\n",
    "    def __init__(self):\n",
    "        self.a=4\n",
    "        \n",
    "class test1(test):\n",
    "    def __init__(self):\n",
    "        self.a=7"
   ]
  },
  {
   "cell_type": "code",
   "execution_count": 27,
   "id": "2944f41f",
   "metadata": {},
   "outputs": [],
   "source": [
    "c=test()"
   ]
  },
  {
   "cell_type": "code",
   "execution_count": 31,
   "id": "5995a540",
   "metadata": {},
   "outputs": [
    {
     "data": {
      "text/plain": [
       "4"
      ]
     },
     "execution_count": 31,
     "metadata": {},
     "output_type": "execute_result"
    }
   ],
   "source": [
    "c.a"
   ]
  },
  {
   "cell_type": "code",
   "execution_count": 33,
   "id": "e5b911a6",
   "metadata": {},
   "outputs": [],
   "source": [
    "v=test1()\n"
   ]
  },
  {
   "cell_type": "code",
   "execution_count": 34,
   "id": "8f799652",
   "metadata": {},
   "outputs": [
    {
     "data": {
      "text/plain": [
       "7"
      ]
     },
     "execution_count": 34,
     "metadata": {},
     "output_type": "execute_result"
    }
   ],
   "source": [
    "v.a"
   ]
  },
  {
   "cell_type": "code",
   "execution_count": 36,
   "id": "abd8cd1a",
   "metadata": {},
   "outputs": [],
   "source": [
    "class test():\n",
    "    def __init__(self):\n",
    "        self.a=4\n",
    "        \n",
    "class test1(test):\n",
    "    def __init__(self):\n",
    "        test.__init__(self)\n",
    "        self.a=7\n",
    "            \n",
    "c=test()  \n",
    "v=test1()"
   ]
  },
  {
   "cell_type": "code",
   "execution_count": 37,
   "id": "ea31f224",
   "metadata": {},
   "outputs": [
    {
     "data": {
      "text/plain": [
       "4"
      ]
     },
     "execution_count": 37,
     "metadata": {},
     "output_type": "execute_result"
    }
   ],
   "source": [
    "c.a"
   ]
  },
  {
   "cell_type": "code",
   "execution_count": 39,
   "id": "245747ee",
   "metadata": {},
   "outputs": [],
   "source": [
    "v=test1()"
   ]
  },
  {
   "cell_type": "code",
   "execution_count": 40,
   "id": "f9508bea",
   "metadata": {},
   "outputs": [
    {
     "data": {
      "text/plain": [
       "7"
      ]
     },
     "execution_count": 40,
     "metadata": {},
     "output_type": "execute_result"
    }
   ],
   "source": [
    "v.a"
   ]
  },
  {
   "cell_type": "code",
   "execution_count": 41,
   "id": "a2eebf3b",
   "metadata": {},
   "outputs": [],
   "source": [
    "class test():\n",
    "    def __init__(self):\n",
    "        self._a=4     # this is protected variable\n",
    "        \n",
    "class test1(test):\n",
    "    def __init__(self):\n",
    "        test.__init__(self)\n",
    "        self._a=7           # this is protected variable (__) double underscore is ude to protect the varible\n",
    "            \n",
    "c=test()  \n",
    "v=test1()"
   ]
  },
  {
   "cell_type": "code",
   "execution_count": 42,
   "id": "1a77758a",
   "metadata": {},
   "outputs": [
    {
     "ename": "AttributeError",
     "evalue": "'test' object has no attribute 'a'",
     "output_type": "error",
     "traceback": [
      "\u001b[1;31m---------------------------------------------------------------------------\u001b[0m",
      "\u001b[1;31mAttributeError\u001b[0m                            Traceback (most recent call last)",
      "Input \u001b[1;32mIn [42]\u001b[0m, in \u001b[0;36m<cell line: 1>\u001b[1;34m()\u001b[0m\n\u001b[1;32m----> 1\u001b[0m \u001b[43mc\u001b[49m\u001b[38;5;241;43m.\u001b[39;49m\u001b[43ma\u001b[49m\n",
      "\u001b[1;31mAttributeError\u001b[0m: 'test' object has no attribute 'a'"
     ]
    }
   ],
   "source": [
    "c.a       #when we create variable with _ (underscore) then it is protected variable"
   ]
  },
  {
   "cell_type": "code",
   "execution_count": 44,
   "id": "70d74cf4",
   "metadata": {},
   "outputs": [
    {
     "data": {
      "text/plain": [
       "4"
      ]
     },
     "execution_count": 44,
     "metadata": {},
     "output_type": "execute_result"
    }
   ],
   "source": [
    "c._a"
   ]
  },
  {
   "cell_type": "code",
   "execution_count": 46,
   "id": "18cc720a",
   "metadata": {},
   "outputs": [
    {
     "ename": "NameError",
     "evalue": "name 'u' is not defined",
     "output_type": "error",
     "traceback": [
      "\u001b[1;31m---------------------------------------------------------------------------\u001b[0m",
      "\u001b[1;31mNameError\u001b[0m                                 Traceback (most recent call last)",
      "Input \u001b[1;32mIn [46]\u001b[0m, in \u001b[0;36m<cell line: 1>\u001b[1;34m()\u001b[0m\n\u001b[1;32m----> 1\u001b[0m \u001b[43mu\u001b[49m\u001b[38;5;241m.\u001b[39ma\n",
      "\u001b[1;31mNameError\u001b[0m: name 'u' is not defined"
     ]
    }
   ],
   "source": [
    "u.a"
   ]
  },
  {
   "cell_type": "code",
   "execution_count": 49,
   "id": "ab5ea229",
   "metadata": {},
   "outputs": [],
   "source": [
    "class test():\n",
    "    def __init__(self):\n",
    "        self.__a=4     # this is rivate variable\n",
    "        \n",
    "class test1(test):\n",
    "    def __init__(self):\n",
    "        test.__init__(self)\n",
    "        self.__a=7           # this is protected variable (__) double underscore is ude to protect the varible\n",
    "            \n",
    "c=test()  \n",
    "v=test1()"
   ]
  },
  {
   "cell_type": "code",
   "execution_count": 51,
   "id": "f8323d1d",
   "metadata": {},
   "outputs": [
    {
     "ename": "AttributeError",
     "evalue": "'test1' object has no attribute '__a'",
     "output_type": "error",
     "traceback": [
      "\u001b[1;31m---------------------------------------------------------------------------\u001b[0m",
      "\u001b[1;31mAttributeError\u001b[0m                            Traceback (most recent call last)",
      "Input \u001b[1;32mIn [51]\u001b[0m, in \u001b[0;36m<cell line: 1>\u001b[1;34m()\u001b[0m\n\u001b[1;32m----> 1\u001b[0m \u001b[43mv\u001b[49m\u001b[38;5;241;43m.\u001b[39;49m\u001b[43m__a\u001b[49m\n",
      "\u001b[1;31mAttributeError\u001b[0m: 'test1' object has no attribute '__a'"
     ]
    }
   ],
   "source": [
    "v.__a     # "
   ]
  },
  {
   "cell_type": "code",
   "execution_count": 52,
   "id": "0e4aea66",
   "metadata": {},
   "outputs": [
    {
     "ename": "AttributeError",
     "evalue": "'test' object has no attribute '__a'",
     "output_type": "error",
     "traceback": [
      "\u001b[1;31m---------------------------------------------------------------------------\u001b[0m",
      "\u001b[1;31mAttributeError\u001b[0m                            Traceback (most recent call last)",
      "Input \u001b[1;32mIn [52]\u001b[0m, in \u001b[0;36m<cell line: 1>\u001b[1;34m()\u001b[0m\n\u001b[1;32m----> 1\u001b[0m \u001b[43mc\u001b[49m\u001b[38;5;241;43m.\u001b[39;49m\u001b[43m__a\u001b[49m\n",
      "\u001b[1;31mAttributeError\u001b[0m: 'test' object has no attribute '__a'"
     ]
    }
   ],
   "source": [
    "c.__a"
   ]
  },
  {
   "cell_type": "code",
   "execution_count": 58,
   "id": "88d7b245",
   "metadata": {},
   "outputs": [],
   "source": [
    "class test():\n",
    "    def __init__(self,a,b,c):\n",
    "        self._a=a     # protected\n",
    "        self.__b=b    # private\n",
    "        self.c=c      # public\n",
    "        \n",
    "        \n",
    "c=test(4,5,6)"
   ]
  },
  {
   "cell_type": "code",
   "execution_count": 59,
   "id": "16c1e2f9",
   "metadata": {},
   "outputs": [
    {
     "ename": "AttributeError",
     "evalue": "'test' object has no attribute 'a'",
     "output_type": "error",
     "traceback": [
      "\u001b[1;31m---------------------------------------------------------------------------\u001b[0m",
      "\u001b[1;31mAttributeError\u001b[0m                            Traceback (most recent call last)",
      "Input \u001b[1;32mIn [59]\u001b[0m, in \u001b[0;36m<cell line: 1>\u001b[1;34m()\u001b[0m\n\u001b[1;32m----> 1\u001b[0m \u001b[43mc\u001b[49m\u001b[38;5;241;43m.\u001b[39;49m\u001b[43ma\u001b[49m\n",
      "\u001b[1;31mAttributeError\u001b[0m: 'test' object has no attribute 'a'"
     ]
    }
   ],
   "source": [
    "c.a"
   ]
  },
  {
   "cell_type": "code",
   "execution_count": 60,
   "id": "c965c6a4",
   "metadata": {},
   "outputs": [
    {
     "data": {
      "text/plain": [
       "4"
      ]
     },
     "execution_count": 60,
     "metadata": {},
     "output_type": "execute_result"
    }
   ],
   "source": [
    "c._a"
   ]
  },
  {
   "cell_type": "code",
   "execution_count": 62,
   "id": "0a21203e",
   "metadata": {},
   "outputs": [
    {
     "ename": "AttributeError",
     "evalue": "'test' object has no attribute '__b'",
     "output_type": "error",
     "traceback": [
      "\u001b[1;31m---------------------------------------------------------------------------\u001b[0m",
      "\u001b[1;31mAttributeError\u001b[0m                            Traceback (most recent call last)",
      "Input \u001b[1;32mIn [62]\u001b[0m, in \u001b[0;36m<cell line: 1>\u001b[1;34m()\u001b[0m\n\u001b[1;32m----> 1\u001b[0m \u001b[43mc\u001b[49m\u001b[38;5;241;43m.\u001b[39;49m\u001b[43m__b\u001b[49m\n",
      "\u001b[1;31mAttributeError\u001b[0m: 'test' object has no attribute '__b'"
     ]
    }
   ],
   "source": [
    "c.__b"
   ]
  },
  {
   "cell_type": "code",
   "execution_count": 63,
   "id": "83da0b02",
   "metadata": {},
   "outputs": [
    {
     "data": {
      "text/plain": [
       "5"
      ]
     },
     "execution_count": 63,
     "metadata": {},
     "output_type": "execute_result"
    }
   ],
   "source": [
    "c._test__b   # for private we have to give _classname__variablename"
   ]
  },
  {
   "cell_type": "code",
   "execution_count": 64,
   "id": "b42d6e5f",
   "metadata": {},
   "outputs": [],
   "source": [
    "class test():\n",
    "    def __init__(self,a,b,c):\n",
    "        self._a=a     # protected\n",
    "        self.__b=b    # private\n",
    "        self.c=c      # public\n",
    "        \n",
    "class test1(test):\n",
    "        pass\n",
    "c=test(4,5,6)"
   ]
  },
  {
   "cell_type": "code",
   "execution_count": 65,
   "id": "b30af13e",
   "metadata": {},
   "outputs": [
    {
     "data": {
      "text/plain": [
       "4"
      ]
     },
     "execution_count": 65,
     "metadata": {},
     "output_type": "execute_result"
    }
   ],
   "source": [
    "c._a"
   ]
  },
  {
   "cell_type": "code",
   "execution_count": 66,
   "id": "578570fb",
   "metadata": {},
   "outputs": [
    {
     "data": {
      "text/plain": [
       "5"
      ]
     },
     "execution_count": 66,
     "metadata": {},
     "output_type": "execute_result"
    }
   ],
   "source": [
    "c._test__b"
   ]
  },
  {
   "cell_type": "code",
   "execution_count": 67,
   "id": "97816af7",
   "metadata": {},
   "outputs": [
    {
     "data": {
      "text/plain": [
       "6"
      ]
     },
     "execution_count": 67,
     "metadata": {},
     "output_type": "execute_result"
    }
   ],
   "source": [
    "c.c"
   ]
  },
  {
   "cell_type": "code",
   "execution_count": 68,
   "id": "b7f19a83",
   "metadata": {},
   "outputs": [],
   "source": [
    "v=test1(5,6,7)"
   ]
  },
  {
   "cell_type": "code",
   "execution_count": 70,
   "id": "87be8231",
   "metadata": {},
   "outputs": [
    {
     "data": {
      "text/plain": [
       "5"
      ]
     },
     "execution_count": 70,
     "metadata": {},
     "output_type": "execute_result"
    }
   ],
   "source": [
    "v._a"
   ]
  },
  {
   "cell_type": "code",
   "execution_count": 71,
   "id": "a54f55e1",
   "metadata": {},
   "outputs": [
    {
     "ename": "AttributeError",
     "evalue": "'test1' object has no attribute '__b'",
     "output_type": "error",
     "traceback": [
      "\u001b[1;31m---------------------------------------------------------------------------\u001b[0m",
      "\u001b[1;31mAttributeError\u001b[0m                            Traceback (most recent call last)",
      "Input \u001b[1;32mIn [71]\u001b[0m, in \u001b[0;36m<cell line: 1>\u001b[1;34m()\u001b[0m\n\u001b[1;32m----> 1\u001b[0m \u001b[43mv\u001b[49m\u001b[38;5;241;43m.\u001b[39;49m\u001b[43m__b\u001b[49m\n",
      "\u001b[1;31mAttributeError\u001b[0m: 'test1' object has no attribute '__b'"
     ]
    }
   ],
   "source": [
    "v.__b"
   ]
  },
  {
   "cell_type": "code",
   "execution_count": 72,
   "id": "09e4a02a",
   "metadata": {},
   "outputs": [
    {
     "ename": "AttributeError",
     "evalue": "'test1' object has no attribute '_test1__b'",
     "output_type": "error",
     "traceback": [
      "\u001b[1;31m---------------------------------------------------------------------------\u001b[0m",
      "\u001b[1;31mAttributeError\u001b[0m                            Traceback (most recent call last)",
      "Input \u001b[1;32mIn [72]\u001b[0m, in \u001b[0;36m<cell line: 1>\u001b[1;34m()\u001b[0m\n\u001b[1;32m----> 1\u001b[0m \u001b[43mv\u001b[49m\u001b[38;5;241;43m.\u001b[39;49m\u001b[43m_test1__b\u001b[49m\n",
      "\u001b[1;31mAttributeError\u001b[0m: 'test1' object has no attribute '_test1__b'"
     ]
    }
   ],
   "source": [
    "v._test1__b"
   ]
  },
  {
   "cell_type": "code",
   "execution_count": 73,
   "id": "f410cd10",
   "metadata": {},
   "outputs": [],
   "source": [
    "class bonuscalculater():\n",
    "    def __init__(self,empid,empidrating):\n",
    "        self.empid =  empid\n",
    "        self.empidrating = empidrating\n",
    "        self.__bonusforratingA=\"70%\"\n",
    "        self.__bonusforratingB=\"60%\"\n",
    "        self.__bonusforratingC=\"40%\"\n",
    "    \n",
    "    def bonuscalculater(self):\n",
    "        if self.empidrating==\"A\":\n",
    "            bonus =self.__bonusforratingA\n",
    "            return bonus\n",
    "        elif self.empidrating==\"B\":\n",
    "            bonus =self.__bonusforratingB\n",
    "            return bonus\n",
    "        else:\n",
    "            bonus =self.__bonusforratingC\n",
    "            return bonus\n",
    "        \n"
   ]
  },
  {
   "cell_type": "code",
   "execution_count": 76,
   "id": "196aa4c7",
   "metadata": {},
   "outputs": [],
   "source": [
    "emp1=bonuscalculater(101,\"A\")\n",
    "emp2=bonuscalculater(102,\"B\")\n",
    "emp3=bonuscalculater(103,\"C\")\n"
   ]
  },
  {
   "cell_type": "code",
   "execution_count": 79,
   "id": "05cab5ab",
   "metadata": {},
   "outputs": [
    {
     "name": "stdout",
     "output_type": "stream",
     "text": [
      "70%\n",
      "60%\n",
      "40%\n"
     ]
    }
   ],
   "source": [
    "print(emp1.bonuscalculater())\n",
    "print(emp2.bonuscalculater())\n",
    "print(emp3.bonuscalculater())"
   ]
  },
  {
   "cell_type": "code",
   "execution_count": null,
   "id": "977fc0dc",
   "metadata": {},
   "outputs": [],
   "source": []
  }
 ],
 "metadata": {
  "kernelspec": {
   "display_name": "Python 3 (ipykernel)",
   "language": "python",
   "name": "python3"
  },
  "language_info": {
   "codemirror_mode": {
    "name": "ipython",
    "version": 3
   },
   "file_extension": ".py",
   "mimetype": "text/x-python",
   "name": "python",
   "nbconvert_exporter": "python",
   "pygments_lexer": "ipython3",
   "version": "3.9.12"
  }
 },
 "nbformat": 4,
 "nbformat_minor": 5
}
