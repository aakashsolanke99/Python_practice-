{
 "cells": [
  {
   "cell_type": "markdown",
   "id": "9788e88d",
   "metadata": {},
   "source": [
    "### Polymorphisam"
   ]
  },
  {
   "cell_type": "code",
   "execution_count": 1,
   "id": "f3881468",
   "metadata": {},
   "outputs": [
    {
     "data": {
      "text/plain": [
       "7"
      ]
     },
     "execution_count": 1,
     "metadata": {},
     "output_type": "execute_result"
    }
   ],
   "source": [
    "def test(a,b):\n",
    "    return a+b\n",
    "\n",
    "test(3,4)"
   ]
  },
  {
   "cell_type": "code",
   "execution_count": 2,
   "id": "e9acbd92",
   "metadata": {},
   "outputs": [
    {
     "data": {
      "text/plain": [
       "'sudhaaksh'"
      ]
     },
     "execution_count": 2,
     "metadata": {},
     "output_type": "execute_result"
    }
   ],
   "source": [
    "test(\"sudh\",\"aaksh\")"
   ]
  },
  {
   "cell_type": "code",
   "execution_count": 7,
   "id": "0498ef9c",
   "metadata": {},
   "outputs": [],
   "source": [
    "class insta:\n",
    "    def share_story(self):\n",
    "        print(\"this will share my insta story\")\n",
    "\n",
    "class facebook:\n",
    "    def share_story(self):\n",
    "        print(\"this will share my facebook story\")"
   ]
  },
  {
   "cell_type": "code",
   "execution_count": 8,
   "id": "3a295fdf",
   "metadata": {},
   "outputs": [],
   "source": [
    "def sharestory(app):\n",
    "    app.share_story()"
   ]
  },
  {
   "cell_type": "code",
   "execution_count": 9,
   "id": "34e2ba2d",
   "metadata": {},
   "outputs": [],
   "source": [
    "i=insta()\n",
    "f=facebook()"
   ]
  },
  {
   "cell_type": "code",
   "execution_count": 10,
   "id": "2f8e623f",
   "metadata": {},
   "outputs": [
    {
     "name": "stdout",
     "output_type": "stream",
     "text": [
      "this will share my insta story\n"
     ]
    }
   ],
   "source": [
    "sharestory(i)"
   ]
  },
  {
   "cell_type": "code",
   "execution_count": 11,
   "id": "901173a0",
   "metadata": {},
   "outputs": [
    {
     "name": "stdout",
     "output_type": "stream",
     "text": [
      "this will share my facebook story\n"
     ]
    }
   ],
   "source": [
    "sharestory(f)"
   ]
  },
  {
   "cell_type": "code",
   "execution_count": 23,
   "id": "e2587296",
   "metadata": {},
   "outputs": [],
   "source": [
    "class social_media:\n",
    "    def share_story(self):\n",
    "        print(\"share story of social media\")\n",
    "        \n",
    "    def upload_pic(self):\n",
    "        print(\"this will upplod pic of social media\")\n",
    "    \n",
    "class facebook(social_media):\n",
    "    def share_story(self):\n",
    "        print(\"this is function for sharing an story of facebook\")\n",
    "        \n",
    "class insta(social_media):\n",
    "    def share_story(self):\n",
    "        print(\"this will print story from insta\")"
   ]
  },
  {
   "cell_type": "code",
   "execution_count": 24,
   "id": "3424b2d9",
   "metadata": {},
   "outputs": [],
   "source": [
    "i=insta()\n",
    "f=facebook()"
   ]
  },
  {
   "cell_type": "code",
   "execution_count": 29,
   "id": "fa8fcbb7",
   "metadata": {},
   "outputs": [
    {
     "name": "stdout",
     "output_type": "stream",
     "text": [
      "this is function for sharing an story of facebook\n"
     ]
    }
   ],
   "source": [
    "f.share_story()"
   ]
  },
  {
   "cell_type": "code",
   "execution_count": 30,
   "id": "a52cbefa",
   "metadata": {},
   "outputs": [
    {
     "name": "stdout",
     "output_type": "stream",
     "text": [
      "this will print story from insta\n"
     ]
    }
   ],
   "source": [
    "i.share_story()"
   ]
  },
  {
   "cell_type": "code",
   "execution_count": 31,
   "id": "691e91ed",
   "metadata": {},
   "outputs": [
    {
     "name": "stdout",
     "output_type": "stream",
     "text": [
      "this will print story from insta\n"
     ]
    }
   ],
   "source": [
    "i.share_story()"
   ]
  },
  {
   "cell_type": "code",
   "execution_count": 32,
   "id": "b111f2f7",
   "metadata": {},
   "outputs": [],
   "source": [
    "class test(Exception):\n",
    "    def __init__(self,msg):\n",
    "        self.msg=msg\n",
    "        \n",
    "        \n",
    "        "
   ]
  },
  {
   "cell_type": "code",
   "execution_count": 33,
   "id": "9446d2e5",
   "metadata": {},
   "outputs": [
    {
     "name": "stdout",
     "output_type": "stream",
     "text": [
      "this is my own exceptiion class\n"
     ]
    }
   ],
   "source": [
    "try:\n",
    "    raise(test(\"this is my own exceptiion class\"))\n",
    "    \n",
    "except test as t:\n",
    "    print(t)"
   ]
  },
  {
   "cell_type": "code",
   "execution_count": 34,
   "id": "82335a15",
   "metadata": {},
   "outputs": [
    {
     "ename": "ZeroDivisionError",
     "evalue": "division by zero",
     "output_type": "error",
     "traceback": [
      "\u001b[1;31m---------------------------------------------------------------------------\u001b[0m",
      "\u001b[1;31mZeroDivisionError\u001b[0m                         Traceback (most recent call last)",
      "Input \u001b[1;32mIn [34]\u001b[0m, in \u001b[0;36m<cell line: 1>\u001b[1;34m()\u001b[0m\n\u001b[0;32m      1\u001b[0m \u001b[38;5;28;01mtry\u001b[39;00m:\n\u001b[1;32m----> 2\u001b[0m    \u001b[38;5;241;43m5\u001b[39;49m\u001b[38;5;241;43m/\u001b[39;49m\u001b[38;5;241;43m0\u001b[39;49m\n\u001b[0;32m      4\u001b[0m \u001b[38;5;28;01mexcept\u001b[39;00m test \u001b[38;5;28;01mas\u001b[39;00m t:\n\u001b[0;32m      5\u001b[0m     \u001b[38;5;28mprint\u001b[39m(t)\n",
      "\u001b[1;31mZeroDivisionError\u001b[0m: division by zero"
     ]
    }
   ],
   "source": [
    "try:\n",
    "   5/0\n",
    "    \n",
    "except test as t:\n",
    "    print(t)"
   ]
  },
  {
   "cell_type": "markdown",
   "id": "b1dd0027",
   "metadata": {},
   "source": [
    "- 1. create your own class for to achive multipal, multilevel inheritance\n",
    "- 2. create your own class for to represent polymorphisam\n",
    "- 3. create your own class for custom exception\n",
    "- 4. create your own class for achive encapsulation\n",
    "- 5. create your own class for to achive method overloading and method overriding"
   ]
  },
  {
   "cell_type": "code",
   "execution_count": 72,
   "id": "98df8580",
   "metadata": {},
   "outputs": [],
   "source": [
    "#1__\n",
    "\n",
    "class xyz:\n",
    "    def __init__(self,a):\n",
    "        self.a=a\n",
    "        \n",
    "    def test(self):\n",
    "        print(\"this this test for class xyz\",self.a)\n",
    "    \n",
    "class xyz1(xyz):\n",
    "    def test1(self):\n",
    "        print(\"this is test for xyz1 class\")\n",
    "    \n",
    "class xyz2(xyz1):\n",
    "    def test2(self):\n",
    "        print(\"this is test of class xyz2\")\n",
    "        \n",
    "class xyz3(xyz2,xyz1):\n",
    "    def test3(self):\n",
    "        print(\"this is test of xyz3 class\")"
   ]
  },
  {
   "cell_type": "code",
   "execution_count": 73,
   "id": "12d32ab8",
   "metadata": {},
   "outputs": [
    {
     "name": "stdout",
     "output_type": "stream",
     "text": [
      "this this test for class xyz 8\n"
     ]
    }
   ],
   "source": [
    "c=xyz(8)\n",
    "c.test()"
   ]
  },
  {
   "cell_type": "code",
   "execution_count": 74,
   "id": "3509b722",
   "metadata": {},
   "outputs": [],
   "source": [
    "z=xyz2(\"aakash\")"
   ]
  },
  {
   "cell_type": "code",
   "execution_count": 75,
   "id": "31b0e335",
   "metadata": {},
   "outputs": [
    {
     "data": {
      "text/plain": [
       "'aakash'"
      ]
     },
     "execution_count": 75,
     "metadata": {},
     "output_type": "execute_result"
    }
   ],
   "source": [
    "z.a"
   ]
  },
  {
   "cell_type": "code",
   "execution_count": 76,
   "id": "929fc51e",
   "metadata": {},
   "outputs": [
    {
     "name": "stdout",
     "output_type": "stream",
     "text": [
      "this this test for class xyz aakash\n"
     ]
    }
   ],
   "source": [
    "z.test()"
   ]
  },
  {
   "cell_type": "code",
   "execution_count": 77,
   "id": "0da4f5dd",
   "metadata": {},
   "outputs": [],
   "source": [
    "y=xyz3(33)"
   ]
  },
  {
   "cell_type": "code",
   "execution_count": 78,
   "id": "5a9ffbe5",
   "metadata": {},
   "outputs": [
    {
     "name": "stdout",
     "output_type": "stream",
     "text": [
      "this is test for xyz1 class\n"
     ]
    }
   ],
   "source": [
    "y.test1()"
   ]
  },
  {
   "cell_type": "code",
   "execution_count": 79,
   "id": "519dddd0",
   "metadata": {},
   "outputs": [],
   "source": [
    "# 2\n",
    "\n",
    "class xyz:\n",
    "    def __init__(self,a):\n",
    "        self.a=a\n",
    "        \n",
    "    def printfuc(self):\n",
    "        print(\"this is print function of class xyz\",self.a)\n",
    "\n",
    "        \n",
    "class xyz1:\n",
    "    def printfuc(self):\n",
    "        print(\"this is print function of class xyz1\")\n",
    "\n",
    "class xyz2:\n",
    "    def printfuc(self):\n",
    "        print(\"this is print fucntion of class xyz2\")\n",
    "        \n",
    "        \n",
    "a=xyz(3)\n",
    "b=xyz1()\n",
    "c=xyz2()"
   ]
  },
  {
   "cell_type": "code",
   "execution_count": 80,
   "id": "5c970431",
   "metadata": {},
   "outputs": [
    {
     "name": "stdout",
     "output_type": "stream",
     "text": [
      "this is print function of class xyz 3\n"
     ]
    }
   ],
   "source": [
    "a.printfuc()"
   ]
  },
  {
   "cell_type": "code",
   "execution_count": 81,
   "id": "d4573eaf",
   "metadata": {},
   "outputs": [
    {
     "name": "stdout",
     "output_type": "stream",
     "text": [
      "this is print function of class xyz1\n"
     ]
    }
   ],
   "source": [
    "b.printfuc()"
   ]
  },
  {
   "cell_type": "code",
   "execution_count": 82,
   "id": "67101019",
   "metadata": {},
   "outputs": [],
   "source": [
    "class batch_no:\n",
    "    batchnumber=\"\"\n",
    "    def __init__(self,a,b,c):\n",
    "        self.a=a\n",
    "        self.b=b\n",
    "        self.c=c\n",
    "    #@staticmethod\n",
    "    def batch(self):   \n",
    "        print(self.batchnumber)\n",
    "        "
   ]
  },
  {
   "cell_type": "code",
   "execution_count": 83,
   "id": "c0521de2",
   "metadata": {},
   "outputs": [],
   "source": [
    "bn=batch_no(3,4,5)"
   ]
  },
  {
   "cell_type": "code",
   "execution_count": 84,
   "id": "8d4a0d9d",
   "metadata": {},
   "outputs": [
    {
     "name": "stdout",
     "output_type": "stream",
     "text": [
      "\n"
     ]
    }
   ],
   "source": [
    "bn.batch()"
   ]
  },
  {
   "cell_type": "code",
   "execution_count": 85,
   "id": "ac4a1e96",
   "metadata": {},
   "outputs": [],
   "source": [
    "class batch_no:\n",
    "    batchnumber=\"\"\n",
    "    def __init__(self,a,b,c):\n",
    "        self.a=a\n",
    "        self.b=b\n",
    "        self.c=c\n",
    "    #@staticmethod\n",
    "    def batch():   #after removing self it give error\n",
    "        print(self.batchnumber)\n",
    "        "
   ]
  },
  {
   "cell_type": "code",
   "execution_count": 86,
   "id": "1ccd9210",
   "metadata": {},
   "outputs": [],
   "source": [
    "bn=batch_no(3,4,5)"
   ]
  },
  {
   "cell_type": "code",
   "execution_count": 89,
   "id": "ec975b31",
   "metadata": {},
   "outputs": [
    {
     "ename": "TypeError",
     "evalue": "batch() takes 0 positional arguments but 1 was given",
     "output_type": "error",
     "traceback": [
      "\u001b[1;31m---------------------------------------------------------------------------\u001b[0m",
      "\u001b[1;31mTypeError\u001b[0m                                 Traceback (most recent call last)",
      "Input \u001b[1;32mIn [89]\u001b[0m, in \u001b[0;36m<cell line: 1>\u001b[1;34m()\u001b[0m\n\u001b[1;32m----> 1\u001b[0m \u001b[43mbn\u001b[49m\u001b[38;5;241;43m.\u001b[39;49m\u001b[43mbatch\u001b[49m\u001b[43m(\u001b[49m\u001b[43m)\u001b[49m\n",
      "\u001b[1;31mTypeError\u001b[0m: batch() takes 0 positional arguments but 1 was given"
     ]
    }
   ],
   "source": [
    "bn.batch()"
   ]
  },
  {
   "cell_type": "code",
   "execution_count": 88,
   "id": "c5dd4925",
   "metadata": {},
   "outputs": [],
   "source": [
    "class batch_no:\n",
    "    batchnumber=\"\"     ##  static variable or class variable only class can update this value \n",
    "    def __init__(self,a,b,c):\n",
    "        self.a=a\n",
    "        self.b=b   ## and this three are instance variable\n",
    "        self.c=c\n",
    "        \n",
    "    @staticmethod\n",
    "    def batch():   #we can use this method without self because we use decorater here \n",
    "        print(\"this is batch function\")        "
   ]
  },
  {
   "cell_type": "code",
   "execution_count": 90,
   "id": "6288fec1",
   "metadata": {},
   "outputs": [],
   "source": [
    "bn=batch_no(3,4,5)"
   ]
  },
  {
   "cell_type": "code",
   "execution_count": 91,
   "id": "30f0ed1e",
   "metadata": {},
   "outputs": [
    {
     "name": "stdout",
     "output_type": "stream",
     "text": [
      "this is batch function\n"
     ]
    }
   ],
   "source": [
    "bn.batch()"
   ]
  },
  {
   "cell_type": "code",
   "execution_count": 103,
   "id": "3f0af777",
   "metadata": {},
   "outputs": [],
   "source": [
    "class batch_no:\n",
    "    batchnumber=\"aakash\"     ##  static variable or class variable only class can update this value \n",
    "    def __init__(self,a,b,c):\n",
    "        self.a=a\n",
    "        self.b=b   ## and this three are instance variable\n",
    "        self.c=c\n",
    "        \n",
    "    @staticmethod    # by using decorator we can say this is staic or class method\n",
    "    def batch():   #we can use this method without self because we use decorater here \n",
    "        print(\"this is batch function\")\n",
    "        \n",
    "    def batch1(self):   \n",
    "        print(\"this is batch-1 function\") "
   ]
  },
  {
   "cell_type": "code",
   "execution_count": 95,
   "id": "e6f6c489",
   "metadata": {},
   "outputs": [
    {
     "data": {
      "text/plain": [
       "'aakash'"
      ]
     },
     "execution_count": 95,
     "metadata": {},
     "output_type": "execute_result"
    }
   ],
   "source": [
    "batch_no.batchnumber"
   ]
  },
  {
   "cell_type": "code",
   "execution_count": 97,
   "id": "255c051f",
   "metadata": {},
   "outputs": [
    {
     "ename": "AttributeError",
     "evalue": "type object 'batch_no' has no attribute 'a'",
     "output_type": "error",
     "traceback": [
      "\u001b[1;31m---------------------------------------------------------------------------\u001b[0m",
      "\u001b[1;31mAttributeError\u001b[0m                            Traceback (most recent call last)",
      "Input \u001b[1;32mIn [97]\u001b[0m, in \u001b[0;36m<cell line: 1>\u001b[1;34m()\u001b[0m\n\u001b[1;32m----> 1\u001b[0m \u001b[43mbatch_no\u001b[49m\u001b[38;5;241;43m.\u001b[39;49m\u001b[43ma\u001b[49m\n",
      "\u001b[1;31mAttributeError\u001b[0m: type object 'batch_no' has no attribute 'a'"
     ]
    }
   ],
   "source": [
    "batch_no.a   #not able to acces first we need to create object then we will able to acces"
   ]
  },
  {
   "cell_type": "code",
   "execution_count": 102,
   "id": "0e7c49a9",
   "metadata": {},
   "outputs": [
    {
     "data": {
      "text/plain": [
       "5"
      ]
     },
     "execution_count": 102,
     "metadata": {},
     "output_type": "execute_result"
    }
   ],
   "source": [
    "b=batch_no(3,4,5)\n",
    "b.c"
   ]
  },
  {
   "cell_type": "code",
   "execution_count": 100,
   "id": "fba189ef",
   "metadata": {},
   "outputs": [
    {
     "data": {
      "text/plain": [
       "3"
      ]
     },
     "execution_count": 100,
     "metadata": {},
     "output_type": "execute_result"
    }
   ],
   "source": [
    "b.a    # without object we can not acces instance variable"
   ]
  },
  {
   "cell_type": "code",
   "execution_count": 106,
   "id": "968d8089",
   "metadata": {},
   "outputs": [
    {
     "name": "stdout",
     "output_type": "stream",
     "text": [
      "this is batch function\n"
     ]
    }
   ],
   "source": [
    "batch_no.batch()  # we can acces it without creating obj beacuse it is static class"
   ]
  },
  {
   "cell_type": "code",
   "execution_count": 107,
   "id": "fcd42547",
   "metadata": {},
   "outputs": [
    {
     "ename": "TypeError",
     "evalue": "batch1() missing 1 required positional argument: 'self'",
     "output_type": "error",
     "traceback": [
      "\u001b[1;31m---------------------------------------------------------------------------\u001b[0m",
      "\u001b[1;31mTypeError\u001b[0m                                 Traceback (most recent call last)",
      "Input \u001b[1;32mIn [107]\u001b[0m, in \u001b[0;36m<cell line: 1>\u001b[1;34m()\u001b[0m\n\u001b[1;32m----> 1\u001b[0m \u001b[43mbatch_no\u001b[49m\u001b[38;5;241;43m.\u001b[39;49m\u001b[43mbatch1\u001b[49m\u001b[43m(\u001b[49m\u001b[43m)\u001b[49m\n",
      "\u001b[1;31mTypeError\u001b[0m: batch1() missing 1 required positional argument: 'self'"
     ]
    }
   ],
   "source": [
    "batch_no.batch1()  #we need to create object for batch1 because it is instance functio"
   ]
  },
  {
   "cell_type": "code",
   "execution_count": 108,
   "id": "4f353d87",
   "metadata": {},
   "outputs": [],
   "source": [
    "b=batch_no(8,9,7)"
   ]
  },
  {
   "cell_type": "code",
   "execution_count": 109,
   "id": "8d8281f6",
   "metadata": {},
   "outputs": [
    {
     "name": "stdout",
     "output_type": "stream",
     "text": [
      "this is batch-1 function\n"
     ]
    }
   ],
   "source": [
    "b.batch1()    # now we can able to acces beacuse we create object of class"
   ]
  },
  {
   "cell_type": "code",
   "execution_count": null,
   "id": "e01b6c50",
   "metadata": {},
   "outputs": [],
   "source": []
  },
  {
   "cell_type": "code",
   "execution_count": 112,
   "id": "f6eaf1b9",
   "metadata": {},
   "outputs": [],
   "source": [
    "class accountdetail:\n",
    "    account_n0=\"2138728\"   # acc_no cant be change\n",
    "    def __init__(self,amount):\n",
    "        self.amount=amount\n",
    "        \n",
    "    def show_balnce(self,deduction):\n",
    "        self.amount=self.amount-deduction\n",
    "        return self.amount, account_no"
   ]
  },
  {
   "cell_type": "code",
   "execution_count": 116,
   "id": "0f8900df",
   "metadata": {},
   "outputs": [
    {
     "name": "stdout",
     "output_type": "stream",
     "text": [
      "enter first number1\n",
      "enter second number0\n",
      "division by 5 error\n"
     ]
    }
   ],
   "source": [
    "#3\n",
    "\n",
    "class division_by5(Exception):\n",
    "    def __init__(self,msg):\n",
    "        self.msg=msg\n",
    "        \n",
    "        \n",
    "try:\n",
    "    a=int(input(\"enter first number\"))\n",
    "    b=int(input(\"enter second number\"))\n",
    "    if b==0:\n",
    "        raise division_by5(\"division by 5 error\")\n",
    "        \n",
    "except ValueError as msg:\n",
    "    print(msg)\n",
    "except ZeroDivisionError as msg:\n",
    "    print(msg)\n",
    "except division_by5 as msg:\n",
    "    print(msg)\n",
    "else:\n",
    "    try:\n",
    "        result=a/b\n",
    "        print(result)\n",
    "    except Exception as e:\n",
    "        print(e)"
   ]
  },
  {
   "cell_type": "markdown",
   "id": "01b22570",
   "metadata": {},
   "source": [
    "### Abstraction"
   ]
  },
  {
   "cell_type": "code",
   "execution_count": 117,
   "id": "e60dea74",
   "metadata": {},
   "outputs": [],
   "source": [
    "class abc:\n",
    "    pass"
   ]
  },
  {
   "cell_type": "code",
   "execution_count": 119,
   "id": "1a0b5a7c",
   "metadata": {},
   "outputs": [],
   "source": [
    "class data_project():\n",
    "    \n",
    "    \n",
    "    def read_file(self):\n",
    "        pass\n",
    "    \n",
    "    def validate_file_name(self):\n",
    "        pass\n",
    "    \n",
    "    def validate_datatype(self):\n",
    "        pass\n",
    "\n",
    "    def validate_db_conn(self):\n",
    "        pass\n",
    "    \n",
    "    def create_conn(self):\n",
    "        pass\n",
    "    \n",
    "    def insert_data(self):\n",
    "        pass\n",
    "\n",
    "    def delete_data(self):\n",
    "        pass\n",
    "    \n",
    "    def update_data(self):\n",
    "        pass\n",
    "    \n",
    "    def perform_state(self):\n",
    "        pass"
   ]
  },
  {
   "cell_type": "code",
   "execution_count": 120,
   "id": "d87f1978",
   "metadata": {},
   "outputs": [],
   "source": [
    "class db_opp(data_project):\n",
    "    pass"
   ]
  },
  {
   "cell_type": "markdown",
   "id": "1b6d87db",
   "metadata": {},
   "source": [
    "## overloading and overriding "
   ]
  },
  {
   "cell_type": "code",
   "execution_count": 121,
   "id": "3686d88a",
   "metadata": {},
   "outputs": [],
   "source": [
    "class test:\n",
    "    def fun(self):\n",
    "        print(\"this is my sample class\")"
   ]
  },
  {
   "cell_type": "code",
   "execution_count": 122,
   "id": "21f89229",
   "metadata": {},
   "outputs": [],
   "source": [
    "t=test()"
   ]
  },
  {
   "cell_type": "code",
   "execution_count": 123,
   "id": "b95d5fae",
   "metadata": {},
   "outputs": [
    {
     "name": "stdout",
     "output_type": "stream",
     "text": [
      "<__main__.test object at 0x00000178C955DEB0>\n"
     ]
    }
   ],
   "source": [
    "print(t)"
   ]
  },
  {
   "cell_type": "code",
   "execution_count": 127,
   "id": "db457da1",
   "metadata": {},
   "outputs": [],
   "source": [
    "class test:\n",
    "    def fun(self):\n",
    "        print(\"this is my sample class\")\n",
    "        \n",
    "    def __str__(self):    # overload   # __str__ use to give msg to object\n",
    "        return str(\"this is function call at a time of obj print\")"
   ]
  },
  {
   "cell_type": "code",
   "execution_count": 128,
   "id": "e429f320",
   "metadata": {},
   "outputs": [],
   "source": [
    "t=test()"
   ]
  },
  {
   "cell_type": "code",
   "execution_count": 129,
   "id": "62afabc4",
   "metadata": {},
   "outputs": [
    {
     "name": "stdout",
     "output_type": "stream",
     "text": [
      "this is function call at a time of obj print\n"
     ]
    }
   ],
   "source": [
    "print(t)"
   ]
  },
  {
   "cell_type": "code",
   "execution_count": null,
   "id": "651cdd04",
   "metadata": {},
   "outputs": [],
   "source": []
  },
  {
   "cell_type": "code",
   "execution_count": null,
   "id": "3e116658",
   "metadata": {},
   "outputs": [],
   "source": []
  }
 ],
 "metadata": {
  "kernelspec": {
   "display_name": "Python 3 (ipykernel)",
   "language": "python",
   "name": "python3"
  },
  "language_info": {
   "codemirror_mode": {
    "name": "ipython",
    "version": 3
   },
   "file_extension": ".py",
   "mimetype": "text/x-python",
   "name": "python",
   "nbconvert_exporter": "python",
   "pygments_lexer": "ipython3",
   "version": "3.9.12"
  }
 },
 "nbformat": 4,
 "nbformat_minor": 5
}
