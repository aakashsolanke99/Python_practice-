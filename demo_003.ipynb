{
 "cells": [
  {
   "cell_type": "markdown",
   "id": "fc8a68e4",
   "metadata": {},
   "source": [
    "### varaible case sensitivity"
   ]
  },
  {
   "cell_type": "code",
   "execution_count": 1,
   "id": "f3d174ad",
   "metadata": {},
   "outputs": [
    {
     "name": "stdout",
     "output_type": "stream",
     "text": [
      "10\n",
      "20\n"
     ]
    }
   ],
   "source": [
    "Ten= 10\n",
    "ten=20\n",
    "#Ten and ten both are different in terms of lowercase and upercase letter\n",
    "print(Ten)\n",
    "print(ten)"
   ]
  },
  {
   "cell_type": "markdown",
   "id": "f85637fe",
   "metadata": {},
   "source": [
    "### Reserved word in python "
   ]
  },
  {
   "cell_type": "markdown",
   "id": "b89d7bd8",
   "metadata": {},
   "source": [
    "### 1. we should not use reserved words as variable names\n",
    "### 2. Also python does not restrict the user to use reserved keywords as variable names"
   ]
  },
  {
   "cell_type": "code",
   "execution_count": 1,
   "id": "fe96f35f",
   "metadata": {},
   "outputs": [
    {
     "name": "stdout",
     "output_type": "stream",
     "text": [
      "hi aakash\n"
     ]
    }
   ],
   "source": [
    "print(\"hi aakash\")"
   ]
  },
  {
   "cell_type": "code",
   "execution_count": 4,
   "id": "6601fb8c",
   "metadata": {},
   "outputs": [
    {
     "data": {
      "text/plain": [
       "str"
      ]
     },
     "execution_count": 4,
     "metadata": {},
     "output_type": "execute_result"
    }
   ],
   "source": [
    "print= \"hi there\"\n",
    "type(print)"
   ]
  },
  {
   "cell_type": "code",
   "execution_count": 5,
   "id": "55606863",
   "metadata": {},
   "outputs": [
    {
     "ename": "TypeError",
     "evalue": "'str' object is not callable",
     "output_type": "error",
     "traceback": [
      "\u001b[1;31m---------------------------------------------------------------------------\u001b[0m",
      "\u001b[1;31mTypeError\u001b[0m                                 Traceback (most recent call last)",
      "Input \u001b[1;32mIn [5]\u001b[0m, in \u001b[0;36m<cell line: 1>\u001b[1;34m()\u001b[0m\n\u001b[1;32m----> 1\u001b[0m \u001b[38;5;28;43mprint\u001b[39;49m\u001b[43m(\u001b[49m\u001b[38;5;124;43m\"\u001b[39;49m\u001b[38;5;124;43mhi there\u001b[39;49m\u001b[38;5;124;43m\"\u001b[39;49m\u001b[43m)\u001b[49m\n",
      "\u001b[1;31mTypeError\u001b[0m: 'str' object is not callable"
     ]
    }
   ],
   "source": [
    "print(\"hi there\")"
   ]
  },
  {
   "cell_type": "code",
   "execution_count": 6,
   "id": "a73c08a6",
   "metadata": {},
   "outputs": [],
   "source": [
    "del print"
   ]
  },
  {
   "cell_type": "code",
   "execution_count": 7,
   "id": "91970943",
   "metadata": {},
   "outputs": [
    {
     "name": "stdout",
     "output_type": "stream",
     "text": [
      "gi\n"
     ]
    }
   ],
   "source": [
    "print(\"gi\")"
   ]
  },
  {
   "cell_type": "markdown",
   "id": "42cd9017",
   "metadata": {},
   "source": [
    "### Multi assignment of variable "
   ]
  },
  {
   "cell_type": "code",
   "execution_count": 11,
   "id": "6402e59a",
   "metadata": {},
   "outputs": [],
   "source": [
    "a,b,c, yes = 10, 30 ,\" aakash\", True"
   ]
  },
  {
   "cell_type": "code",
   "execution_count": 12,
   "id": "1e83c7af",
   "metadata": {},
   "outputs": [
    {
     "data": {
      "text/plain": [
       "int"
      ]
     },
     "execution_count": 12,
     "metadata": {},
     "output_type": "execute_result"
    }
   ],
   "source": [
    "type(a)"
   ]
  },
  {
   "cell_type": "code",
   "execution_count": 13,
   "id": "0793f549",
   "metadata": {},
   "outputs": [
    {
     "data": {
      "text/plain": [
       "str"
      ]
     },
     "execution_count": 13,
     "metadata": {},
     "output_type": "execute_result"
    }
   ],
   "source": [
    "type(c)"
   ]
  },
  {
   "cell_type": "code",
   "execution_count": 15,
   "id": "0815a964",
   "metadata": {},
   "outputs": [
    {
     "data": {
      "text/plain": [
       "bool"
      ]
     },
     "execution_count": 15,
     "metadata": {},
     "output_type": "execute_result"
    }
   ],
   "source": [
    "type(yes)"
   ]
  },
  {
   "cell_type": "code",
   "execution_count": 16,
   "id": "bfe164fb",
   "metadata": {},
   "outputs": [],
   "source": [
    "a=b=c=10"
   ]
  },
  {
   "cell_type": "code",
   "execution_count": 17,
   "id": "c5e0c4cf",
   "metadata": {},
   "outputs": [
    {
     "data": {
      "text/plain": [
       "(10, 10, 10)"
      ]
     },
     "execution_count": 17,
     "metadata": {},
     "output_type": "execute_result"
    }
   ],
   "source": [
    "a,b,c"
   ]
  },
  {
   "cell_type": "markdown",
   "id": "49f9210c",
   "metadata": {},
   "source": [
    "### User inputs"
   ]
  },
  {
   "cell_type": "code",
   "execution_count": 22,
   "id": "29cf64f6",
   "metadata": {},
   "outputs": [
    {
     "name": "stdout",
     "output_type": "stream",
     "text": [
      "enter your name : Aakash\n",
      "you have enter Aakash\n"
     ]
    }
   ],
   "source": [
    "name= input(\"enter your name : \")\n",
    "print(f\"you have enter {name}\")"
   ]
  },
  {
   "cell_type": "code",
   "execution_count": 23,
   "id": "b98bbac3",
   "metadata": {},
   "outputs": [
    {
     "name": "stdout",
     "output_type": "stream",
     "text": [
      "enter value of A12\n",
      "enter the value of B12\n",
      "sum of A and B is 1212\n"
     ]
    }
   ],
   "source": [
    "a= input(\"enter value of A\")\n",
    "b= input(\"enter the value of B\")\n",
    "print(f\"sum of A and B is {a+b}\")"
   ]
  },
  {
   "cell_type": "code",
   "execution_count": 25,
   "id": "31d30640",
   "metadata": {},
   "outputs": [
    {
     "name": "stdout",
     "output_type": "stream",
     "text": [
      "enter value of A23\n",
      "enter the value of Bsad\n",
      "<class 'str'> <class 'str'>\n"
     ]
    }
   ],
   "source": [
    "a= input(\"enter value of A\")\n",
    "b= input(\"enter the value of B\")\n",
    "\n",
    "print(type(a), type(b))"
   ]
  },
  {
   "cell_type": "code",
   "execution_count": 26,
   "id": "dcb96f71",
   "metadata": {},
   "outputs": [
    {
     "name": "stdout",
     "output_type": "stream",
     "text": [
      "enter value of A213\n",
      "enter the value of B23\n",
      "sum of A and B is 236\n",
      "<class 'int'> <class 'int'>\n"
     ]
    }
   ],
   "source": [
    "a= int(input(\"enter value of A\"))\n",
    "b= int(input(\"enter the value of B\"))\n",
    "print(f\"sum of A and B is {a+b}\")\n",
    "\n",
    "print(type(a), type(b))"
   ]
  },
  {
   "cell_type": "code",
   "execution_count": 28,
   "id": "89edc69c",
   "metadata": {},
   "outputs": [
    {
     "name": "stdout",
     "output_type": "stream",
     "text": [
      "enter value of A23.34\n",
      "enter the value of B23.5\n",
      "sum of A and B is 46.84\n",
      "<class 'float'> <class 'float'>\n"
     ]
    }
   ],
   "source": [
    "a= float(input(\"enter value of A\"))\n",
    "b= float(input(\"enter the value of B\"))\n",
    "print(f\"sum of A and B is {a+b}\")\n",
    "\n",
    "print(type(a), type(b))"
   ]
  },
  {
   "cell_type": "code",
   "execution_count": 31,
   "id": "62e87b4d",
   "metadata": {},
   "outputs": [
    {
     "name": "stdout",
     "output_type": "stream",
     "text": [
      "data type befor :<class 'str'>, Value of A 50 \n",
      "data type after: <class 'int'>,Value of A 50\n"
     ]
    }
   ],
   "source": [
    "# String to integer\n",
    "\n",
    "A=\"50\"\n",
    "print(f\"data type befor :{type(A)}, Value of A {A} \")\n",
    "A=int(A)\n",
    "print(f\"data type after: {type(A)},Value of A {A}\")"
   ]
  },
  {
   "cell_type": "code",
   "execution_count": 33,
   "id": "d0051ff7",
   "metadata": {},
   "outputs": [
    {
     "name": "stdout",
     "output_type": "stream",
     "text": [
      "data type befor :<class 'str'>, Value of A 50.98 \n"
     ]
    },
    {
     "ename": "ValueError",
     "evalue": "invalid literal for int() with base 10: '50.98'",
     "output_type": "error",
     "traceback": [
      "\u001b[1;31m---------------------------------------------------------------------------\u001b[0m",
      "\u001b[1;31mValueError\u001b[0m                                Traceback (most recent call last)",
      "Input \u001b[1;32mIn [33]\u001b[0m, in \u001b[0;36m<cell line: 5>\u001b[1;34m()\u001b[0m\n\u001b[0;32m      3\u001b[0m A\u001b[38;5;241m=\u001b[39m\u001b[38;5;124m\"\u001b[39m\u001b[38;5;124m50.98\u001b[39m\u001b[38;5;124m\"\u001b[39m\n\u001b[0;32m      4\u001b[0m \u001b[38;5;28mprint\u001b[39m(\u001b[38;5;124mf\u001b[39m\u001b[38;5;124m\"\u001b[39m\u001b[38;5;124mdata type befor :\u001b[39m\u001b[38;5;132;01m{\u001b[39;00m\u001b[38;5;28mtype\u001b[39m(A)\u001b[38;5;132;01m}\u001b[39;00m\u001b[38;5;124m, Value of A \u001b[39m\u001b[38;5;132;01m{\u001b[39;00mA\u001b[38;5;132;01m}\u001b[39;00m\u001b[38;5;124m \u001b[39m\u001b[38;5;124m\"\u001b[39m)\n\u001b[1;32m----> 5\u001b[0m A\u001b[38;5;241m=\u001b[39m\u001b[38;5;28;43mint\u001b[39;49m\u001b[43m(\u001b[49m\u001b[43mA\u001b[49m\u001b[43m)\u001b[49m\n\u001b[0;32m      6\u001b[0m \u001b[38;5;28mprint\u001b[39m(\u001b[38;5;124mf\u001b[39m\u001b[38;5;124m\"\u001b[39m\u001b[38;5;124mdata type after: \u001b[39m\u001b[38;5;132;01m{\u001b[39;00m\u001b[38;5;28mtype\u001b[39m(A)\u001b[38;5;132;01m}\u001b[39;00m\u001b[38;5;124m,Value of A \u001b[39m\u001b[38;5;132;01m{\u001b[39;00mA\u001b[38;5;132;01m}\u001b[39;00m\u001b[38;5;124m\"\u001b[39m)\n",
      "\u001b[1;31mValueError\u001b[0m: invalid literal for int() with base 10: '50.98'"
     ]
    }
   ],
   "source": [
    "# String to integer\n",
    "\n",
    "A=\"50.98\"\n",
    "print(f\"data type befor :{type(A)}, Value of A {A} \")\n",
    "A=int(A)\n",
    "print(f\"data type after: {type(A)},Value of A {A}\")"
   ]
  },
  {
   "cell_type": "code",
   "execution_count": 32,
   "id": "1285d3a2",
   "metadata": {},
   "outputs": [
    {
     "name": "stdout",
     "output_type": "stream",
     "text": [
      "data type befor :<class 'float'> ,Value of A 49.49\n",
      "data type after: <class 'int'>,Value of A 49\n"
     ]
    }
   ],
   "source": [
    "# Float to int\n",
    "A = 49.49\n",
    "print(f\"data type befor :{type(A)} ,Value of A {A}\")\n",
    "A=int(A)\n",
    "print(f\"data type after: {type(A)},Value of A {A}\")"
   ]
  },
  {
   "cell_type": "code",
   "execution_count": 34,
   "id": "94d0f8aa",
   "metadata": {},
   "outputs": [
    {
     "name": "stdout",
     "output_type": "stream",
     "text": [
      "data type befor :<class 'int'> ,Value of A 49\n",
      "data type after: <class 'float'>,Value of A 49.0\n"
     ]
    }
   ],
   "source": [
    "# INT TO Float\n",
    "A = 49\n",
    "print(f\"data type befor :{type(A)} ,Value of A {A}\")\n",
    "A=float(A)\n",
    "print(f\"data type after: {type(A)},Value of A {A}\")"
   ]
  },
  {
   "cell_type": "code",
   "execution_count": 35,
   "id": "436051ff",
   "metadata": {},
   "outputs": [
    {
     "name": "stdout",
     "output_type": "stream",
     "text": [
      "data type befor :<class 'int'> ,Value of A 49\n",
      "data type after: <class 'bool'>,Value of A True\n"
     ]
    }
   ],
   "source": [
    "#int to bool \n",
    "A = 49\n",
    "print(f\"data type befor :{type(A)} ,Value of A {A}\")\n",
    "A=bool(A)\n",
    "print(f\"data type after: {type(A)},Value of A {A}\")"
   ]
  },
  {
   "cell_type": "code",
   "execution_count": 36,
   "id": "5e49629c",
   "metadata": {},
   "outputs": [
    {
     "name": "stdout",
     "output_type": "stream",
     "text": [
      "data type befor :<class 'int'> ,Value of A 0\n",
      "data type after: <class 'bool'>,Value of A False\n"
     ]
    }
   ],
   "source": [
    "#int to bool \n",
    "A = 0\n",
    "print(f\"data type befor :{type(A)} ,Value of A {A}\")\n",
    "A=bool(A)\n",
    "print(f\"data type after: {type(A)},Value of A {A}\")"
   ]
  },
  {
   "cell_type": "code",
   "execution_count": 37,
   "id": "32f90128",
   "metadata": {},
   "outputs": [
    {
     "name": "stdout",
     "output_type": "stream",
     "text": [
      "data type befor :<class 'int'> ,Value of A -29\n",
      "data type after: <class 'bool'>,Value of A True\n"
     ]
    }
   ],
   "source": [
    "#int to bool \n",
    "A = -29\n",
    "print(f\"data type befor :{type(A)} ,Value of A {A}\")\n",
    "A=bool(A)\n",
    "print(f\"data type after: {type(A)},Value of A {A}\")"
   ]
  },
  {
   "cell_type": "code",
   "execution_count": 39,
   "id": "e1549366",
   "metadata": {},
   "outputs": [
    {
     "name": "stdout",
     "output_type": "stream",
     "text": [
      "data type befor :<class 'str'> ,Value of A aakash\n",
      "data type after: <class 'bool'>,Value of A True\n"
     ]
    }
   ],
   "source": [
    "# string to bool \n",
    "A = \"aakash\"\n",
    "print(f\"data type befor :{type(A)} ,Value of A {A}\")\n",
    "A=bool(A)\n",
    "print(f\"data type after: {type(A)},Value of A {A}\")"
   ]
  },
  {
   "cell_type": "code",
   "execution_count": 40,
   "id": "013cc526",
   "metadata": {},
   "outputs": [
    {
     "name": "stdout",
     "output_type": "stream",
     "text": [
      "data type befor :<class 'str'> ,Value of A \n",
      "data type after: <class 'bool'>,Value of A False\n"
     ]
    }
   ],
   "source": [
    "# empty string to bool \n",
    "A = \"\"\n",
    "print(f\"data type befor :{type(A)} ,Value of A {A}\")\n",
    "A=bool(A)\n",
    "print(f\"data type after: {type(A)},Value of A {A}\")"
   ]
  },
  {
   "cell_type": "code",
   "execution_count": 41,
   "id": "82dbb48d",
   "metadata": {},
   "outputs": [
    {
     "name": "stdout",
     "output_type": "stream",
     "text": [
      "data type befor :<class 'str'> ,Value of A False\n",
      "data type after: <class 'bool'>,Value of A True\n"
     ]
    }
   ],
   "source": [
    "# string to bool \n",
    "A = \"False\"\n",
    "print(f\"data type befor :{type(A)} ,Value of A {A}\")\n",
    "A=bool(A)\n",
    "print(f\"data type after: {type(A)},Value of A {A}\")"
   ]
  },
  {
   "cell_type": "code",
   "execution_count": 42,
   "id": "1cd1158c",
   "metadata": {},
   "outputs": [
    {
     "name": "stdout",
     "output_type": "stream",
     "text": [
      "data type befor :<class 'str'> ,Value of A \n"
     ]
    },
    {
     "ename": "ValueError",
     "evalue": "invalid literal for int() with base 10: ''",
     "output_type": "error",
     "traceback": [
      "\u001b[1;31m---------------------------------------------------------------------------\u001b[0m",
      "\u001b[1;31mValueError\u001b[0m                                Traceback (most recent call last)",
      "Input \u001b[1;32mIn [42]\u001b[0m, in \u001b[0;36m<cell line: 4>\u001b[1;34m()\u001b[0m\n\u001b[0;32m      2\u001b[0m A \u001b[38;5;241m=\u001b[39m \u001b[38;5;124m\"\u001b[39m\u001b[38;5;124m\"\u001b[39m\n\u001b[0;32m      3\u001b[0m \u001b[38;5;28mprint\u001b[39m(\u001b[38;5;124mf\u001b[39m\u001b[38;5;124m\"\u001b[39m\u001b[38;5;124mdata type befor :\u001b[39m\u001b[38;5;132;01m{\u001b[39;00m\u001b[38;5;28mtype\u001b[39m(A)\u001b[38;5;132;01m}\u001b[39;00m\u001b[38;5;124m ,Value of A \u001b[39m\u001b[38;5;132;01m{\u001b[39;00mA\u001b[38;5;132;01m}\u001b[39;00m\u001b[38;5;124m\"\u001b[39m)\n\u001b[1;32m----> 4\u001b[0m A\u001b[38;5;241m=\u001b[39m\u001b[38;5;28;43mint\u001b[39;49m\u001b[43m(\u001b[49m\u001b[43mA\u001b[49m\u001b[43m)\u001b[49m\n\u001b[0;32m      5\u001b[0m \u001b[38;5;28mprint\u001b[39m(\u001b[38;5;124mf\u001b[39m\u001b[38;5;124m\"\u001b[39m\u001b[38;5;124mdata type after: \u001b[39m\u001b[38;5;132;01m{\u001b[39;00m\u001b[38;5;28mtype\u001b[39m(A)\u001b[38;5;132;01m}\u001b[39;00m\u001b[38;5;124m,Value of A \u001b[39m\u001b[38;5;132;01m{\u001b[39;00mA\u001b[38;5;132;01m}\u001b[39;00m\u001b[38;5;124m\"\u001b[39m)\n",
      "\u001b[1;31mValueError\u001b[0m: invalid literal for int() with base 10: ''"
     ]
    }
   ],
   "source": [
    "# string to bool \n",
    "A = \"\"\n",
    "print(f\"data type befor :{type(A)} ,Value of A {A}\")\n",
    "A=int(A)\n",
    "print(f\"data type after: {type(A)},Value of A {A}\")"
   ]
  },
  {
   "cell_type": "markdown",
   "id": "a9e9c00c",
   "metadata": {},
   "source": [
    "## Memory Block"
   ]
  },
  {
   "cell_type": "code",
   "execution_count": 47,
   "id": "0b51725a",
   "metadata": {},
   "outputs": [],
   "source": [
    "a=10\n",
    "b=20\n",
    "c=30\n",
    "d=10  #the add is same because it assigned same value "
   ]
  },
  {
   "cell_type": "code",
   "execution_count": 48,
   "id": "21deb34e",
   "metadata": {},
   "outputs": [
    {
     "name": "stdout",
     "output_type": "stream",
     "text": [
      "2576231787088\n",
      "2576231787408\n",
      "2576231787728\n",
      "2576231787088\n"
     ]
    }
   ],
   "source": [
    "print(id(a))\n",
    "print(id(b))\n",
    "print(id(c))\n",
    "print(id(d))  # "
   ]
  },
  {
   "cell_type": "code",
   "execution_count": 49,
   "id": "7ecdf98e",
   "metadata": {},
   "outputs": [],
   "source": [
    "d= d+3"
   ]
  },
  {
   "cell_type": "code",
   "execution_count": 50,
   "id": "df830f8b",
   "metadata": {},
   "outputs": [
    {
     "data": {
      "text/plain": [
       "2576231787184"
      ]
     },
     "execution_count": 50,
     "metadata": {},
     "output_type": "execute_result"
    }
   ],
   "source": [
    "id(d)"
   ]
  },
  {
   "cell_type": "code",
   "execution_count": 51,
   "id": "836b82bc",
   "metadata": {},
   "outputs": [
    {
     "name": "stdout",
     "output_type": "stream",
     "text": [
      "2576322843440\n",
      "2576322843440\n"
     ]
    }
   ],
   "source": [
    "a=\"aakash\"\n",
    "b=\"aakash\"\n",
    "print(id(a))\n",
    "print(id(a))"
   ]
  },
  {
   "cell_type": "code",
   "execution_count": 3,
   "id": "55ed1f30",
   "metadata": {},
   "outputs": [],
   "source": [
    "#\n",
    "\n",
    "def intresting_numb(a,b):\n",
    "    c=0\n",
    "    for i in range(a,b+1):\n",
    "        def if4(i):\n",
    "            while(i):\n",
    "                digit=i%10\n",
    "                if digit==4:\n",
    "                    return False\n",
    "                else:\n",
    "                    return True\n",
    "                i=i//10\n",
    "        if i%4!=0 and if4(i):\n",
    "            c=c+1\n",
    "    return c"
   ]
  },
  {
   "cell_type": "code",
   "execution_count": 7,
   "id": "92c25d17",
   "metadata": {},
   "outputs": [
    {
     "data": {
      "text/plain": [
       "5"
      ]
     },
     "execution_count": 7,
     "metadata": {},
     "output_type": "execute_result"
    }
   ],
   "source": [
    "intresting_numb(11,18)"
   ]
  },
  {
   "cell_type": "code",
   "execution_count": 8,
   "id": "9fd00655",
   "metadata": {},
   "outputs": [
    {
     "name": "stdout",
     "output_type": "stream",
     "text": [
      "20 10\n"
     ]
    }
   ],
   "source": [
    "a=10\n",
    "b=20\n",
    "\n",
    "a=a+b\n",
    "b=a-b\n",
    "a=a-b\n",
    "print(a,b)"
   ]
  },
  {
   "cell_type": "code",
   "execution_count": 11,
   "id": "a16d022e",
   "metadata": {},
   "outputs": [
    {
     "name": "stdout",
     "output_type": "stream",
     "text": [
      "123\n",
      "321\n"
     ]
    }
   ],
   "source": [
    "n=int(input())\n",
    "sum=0\n",
    "while(n):\n",
    "    r=n%10\n",
    "    sum=(sum*10)+r\n",
    "    n=n//10\n",
    "print(sum)"
   ]
  }
 ],
 "metadata": {
  "kernelspec": {
   "display_name": "Python 3 (ipykernel)",
   "language": "python",
   "name": "python3"
  },
  "language_info": {
   "codemirror_mode": {
    "name": "ipython",
    "version": 3
   },
   "file_extension": ".py",
   "mimetype": "text/x-python",
   "name": "python",
   "nbconvert_exporter": "python",
   "pygments_lexer": "ipython3",
   "version": "3.9.12"
  }
 },
 "nbformat": 4,
 "nbformat_minor": 5
}
