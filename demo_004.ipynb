{
 "cells": [
  {
   "cell_type": "markdown",
   "id": "ff0ad7ed",
   "metadata": {},
   "source": [
    "## Operators\n",
    "### Logical Operators"
   ]
  },
  {
   "cell_type": "code",
   "execution_count": 1,
   "id": "5fd7b615",
   "metadata": {},
   "outputs": [
    {
     "name": "stdout",
     "output_type": "stream",
     "text": [
      "True\n"
     ]
    }
   ],
   "source": [
    "START =True\n",
    "print(START)"
   ]
  },
  {
   "cell_type": "code",
   "execution_count": 2,
   "id": "19c165ba",
   "metadata": {},
   "outputs": [
    {
     "name": "stdout",
     "output_type": "stream",
     "text": [
      "False\n"
     ]
    }
   ],
   "source": [
    "START =True\n",
    "print(not START)"
   ]
  },
  {
   "cell_type": "code",
   "execution_count": 3,
   "id": "21f85fa9",
   "metadata": {},
   "outputs": [
    {
     "name": "stdout",
     "output_type": "stream",
     "text": [
      "Lets concentrate \n"
     ]
    }
   ],
   "source": [
    "class_started=True\n",
    "\n",
    "if class_started:\n",
    "    print(\"Lets concentrate \")"
   ]
  },
  {
   "cell_type": "code",
   "execution_count": 4,
   "id": "e8fa3295",
   "metadata": {},
   "outputs": [
    {
     "name": "stdout",
     "output_type": "stream",
     "text": [
      "lets revise previous class\n"
     ]
    }
   ],
   "source": [
    "class_started=False\n",
    "\n",
    "if class_started:\n",
    "    print(\"Lets concentrate \")\n",
    "else:\n",
    "    print(\"lets revise previous class\")"
   ]
  },
  {
   "cell_type": "code",
   "execution_count": 6,
   "id": "fcf633fe",
   "metadata": {},
   "outputs": [
    {
     "name": "stdout",
     "output_type": "stream",
     "text": [
      "Lets do work from home \n"
     ]
    }
   ],
   "source": [
    "raining =True\n",
    "\n",
    "if raining:\n",
    "    print(\"Lets do work from home \")\n",
    "else:\n",
    "    print(\"Lets go to office \")"
   ]
  },
  {
   "cell_type": "code",
   "execution_count": 7,
   "id": "365322c7",
   "metadata": {},
   "outputs": [
    {
     "name": "stdout",
     "output_type": "stream",
     "text": [
      "Lets go to office \n"
     ]
    }
   ],
   "source": [
    "raining =False\n",
    "\n",
    "if raining:\n",
    "    print(\"Lets do work from home \")\n",
    "else:\n",
    "    print(\"Lets go to office \")"
   ]
  },
  {
   "cell_type": "markdown",
   "id": "a17d3182",
   "metadata": {},
   "source": [
    " ## and - conditional AND\n",
    "    "
   ]
  },
  {
   "cell_type": "code",
   "execution_count": 9,
   "id": "7bbae892",
   "metadata": {},
   "outputs": [
    {
     "name": "stdout",
     "output_type": "stream",
     "text": [
      "its a bad dish \n",
      "beacuse vegetable presentFalse \n",
      "beacuse vegetable presentFalse \n"
     ]
    }
   ],
   "source": [
    "vegetable_present= False\n",
    "salt_present=False\n",
    "\n",
    "if vegetable_present and salt_present:\n",
    "    print(\"its a good dish\")\n",
    "else:\n",
    "    print(\"its a bad dish \")\n",
    "    print(f\"beacuse vegetable present {vegetable_present} \")\n",
    "    print(f\"beacuse vegetable present {salt_present} \")\n",
    "    "
   ]
  },
  {
   "cell_type": "code",
   "execution_count": 10,
   "id": "c68eedcc",
   "metadata": {},
   "outputs": [
    {
     "name": "stdout",
     "output_type": "stream",
     "text": [
      "its a bad dish \n",
      "beacuse vegetable present False \n",
      "beacuse vegetable present True \n"
     ]
    }
   ],
   "source": [
    "vegetable_present= False\n",
    "salt_present=True\n",
    "\n",
    "if vegetable_present and salt_present:\n",
    "    print(\"its a good dish\")\n",
    "else:\n",
    "    print(\"its a bad dish \")\n",
    "    print(f\"beacuse vegetable present {vegetable_present} \")\n",
    "    print(f\"beacuse vegetable present {salt_present} \")"
   ]
  },
  {
   "cell_type": "code",
   "execution_count": 11,
   "id": "abf838c8",
   "metadata": {},
   "outputs": [
    {
     "name": "stdout",
     "output_type": "stream",
     "text": [
      "its a good dish\n"
     ]
    }
   ],
   "source": [
    "vegetable_present= True\n",
    "salt_present=True\n",
    "\n",
    "if vegetable_present and salt_present:\n",
    "    print(\"its a good dish\")\n",
    "else:\n",
    "    print(\"its a bad dish \")\n",
    "    print(f\"beacuse vegetable present {vegetable_present} \")\n",
    "    print(f\"beacuse vegetable present {salt_present} \")"
   ]
  },
  {
   "cell_type": "markdown",
   "id": "d45c8f2e",
   "metadata": {},
   "source": [
    "## or - conditional OR"
   ]
  },
  {
   "cell_type": "code",
   "execution_count": 12,
   "id": "63c439bf",
   "metadata": {},
   "outputs": [
    {
     "name": "stdout",
     "output_type": "stream",
     "text": [
      "I am stuck as i dont have car or bike\n"
     ]
    }
   ],
   "source": [
    "car= False\n",
    "bike=False\n",
    "\n",
    "if car or bike:\n",
    "    print(\"I can travel 100km in a day \")\n",
    "else:\n",
    "    print(\"I am stuck as i dont have car or bike\")"
   ]
  },
  {
   "cell_type": "code",
   "execution_count": 13,
   "id": "90abd431",
   "metadata": {},
   "outputs": [
    {
     "name": "stdout",
     "output_type": "stream",
     "text": [
      "I can travel 100km in a day \n"
     ]
    }
   ],
   "source": [
    "car= False\n",
    "bike=True\n",
    "\n",
    "if car or bike:\n",
    "    print(\"I can travel 100km in a day \")\n",
    "else:\n",
    "    print(\"I am stuck as i dont have car or bike\")"
   ]
  },
  {
   "cell_type": "code",
   "execution_count": 14,
   "id": "cb71e0a7",
   "metadata": {},
   "outputs": [
    {
     "name": "stdout",
     "output_type": "stream",
     "text": [
      "I can travel 100km in a day \n"
     ]
    }
   ],
   "source": [
    "car= True\n",
    "bike=True\n",
    "\n",
    "if car or bike:\n",
    "    print(\"I can travel 100km in a day \")\n",
    "else:\n",
    "    print(\"I am stuck as i dont have car or bike\")"
   ]
  },
  {
   "cell_type": "code",
   "execution_count": 16,
   "id": "2d175942",
   "metadata": {},
   "outputs": [
    {
     "name": "stdout",
     "output_type": "stream",
     "text": [
      "attendence criteria met? 70\n",
      " assignment ceriteria met? 40\n",
      "the student is eligibal to appear in final exam\n"
     ]
    }
   ],
   "source": [
    "attendence=70\n",
    "assignment_submitted=40\n",
    "sport_player= True\n",
    "\n",
    "\n",
    "print(f\"attendence criteria met? {attendence}\")\n",
    "print(f\"assignment ceriteria met? {assignment_submitted}\")\n",
    "\n",
    "if attendence >=75 and assignment_submitted>=70 or sport_player:\n",
    "    print(\"the student is eligibal to appear in final exam\")\n",
    "else:\n",
    "    print(\"the student is not eligibal\")\n"
   ]
  },
  {
   "cell_type": "code",
   "execution_count": 20,
   "id": "5b883f28",
   "metadata": {},
   "outputs": [
    {
     "name": "stdout",
     "output_type": "stream",
     "text": [
      "attendence criteria met? 77\n",
      "assignment ceriteria met? 77\n",
      "the student is eligibal and get extra +10 marks\n"
     ]
    }
   ],
   "source": [
    "attendence=77\n",
    "assignment_submitted=77\n",
    "sport_player= True\n",
    "\n",
    "\n",
    "print(f\"attendence criteria met? {attendence}\")\n",
    "print(f\"assignment ceriteria met? {assignment_submitted}\")\n",
    "\n",
    "if attendence >=75 and assignment_submitted>=70 :\n",
    "    if sport_player:\n",
    "        print(\"the student is eligibal and get extra +10 marks\")\n",
    "    else:\n",
    "        print(\"the student is eligibal to appear in final exam\")\n",
    "else:\n",
    "    print(\"the student is not eligibal\")\n"
   ]
  },
  {
   "cell_type": "markdown",
   "id": "2cea98d6",
   "metadata": {},
   "source": [
    "## Equality operators"
   ]
  },
  {
   "cell_type": "code",
   "execution_count": 21,
   "id": "56a86178",
   "metadata": {},
   "outputs": [
    {
     "name": "stdout",
     "output_type": "stream",
     "text": [
      "A and B are same\n"
     ]
    }
   ],
   "source": [
    "A=1\n",
    "B=1\n",
    "\n",
    "if A is B:\n",
    "    print(\"A and B are same\")\n",
    "else:\n",
    "    print(\"A and B are not same\")"
   ]
  },
  {
   "cell_type": "code",
   "execution_count": 32,
   "id": "65561646",
   "metadata": {},
   "outputs": [
    {
     "name": "stdout",
     "output_type": "stream",
     "text": [
      "A and B are not same\n"
     ]
    }
   ],
   "source": [
    "A=1\n",
    "B=3\n",
    "\n",
    "if A is B:\n",
    "    print(\"A and B are same\")\n",
    "else:\n",
    "    print(\"A and B are not same\")"
   ]
  },
  {
   "cell_type": "code",
   "execution_count": 33,
   "id": "06dadd1a",
   "metadata": {},
   "outputs": [
    {
     "data": {
      "text/plain": [
       "1398098454832"
      ]
     },
     "execution_count": 33,
     "metadata": {},
     "output_type": "execute_result"
    }
   ],
   "source": [
    "id(A)"
   ]
  },
  {
   "cell_type": "code",
   "execution_count": 34,
   "id": "6dd1f4f8",
   "metadata": {},
   "outputs": [
    {
     "data": {
      "text/plain": [
       "1398098454896"
      ]
     },
     "execution_count": 34,
     "metadata": {},
     "output_type": "execute_result"
    }
   ],
   "source": [
    "id(B)"
   ]
  },
  {
   "cell_type": "code",
   "execution_count": 35,
   "id": "abbde27b",
   "metadata": {},
   "outputs": [
    {
     "name": "stdout",
     "output_type": "stream",
     "text": [
      "True\n"
     ]
    }
   ],
   "source": [
    "A=\"summy\"\n",
    "B=\"summy\"\n",
    "\n",
    "if  A is B:\n",
    "    print(\"True\")"
   ]
  },
  {
   "cell_type": "code",
   "execution_count": 36,
   "id": "6a4162a3",
   "metadata": {},
   "outputs": [
    {
     "data": {
      "text/plain": [
       "1398156541872"
      ]
     },
     "execution_count": 36,
     "metadata": {},
     "output_type": "execute_result"
    }
   ],
   "source": [
    "id(A)"
   ]
  },
  {
   "cell_type": "code",
   "execution_count": 37,
   "id": "3ae457ad",
   "metadata": {},
   "outputs": [
    {
     "data": {
      "text/plain": [
       "1398156541872"
      ]
     },
     "execution_count": 37,
     "metadata": {},
     "output_type": "execute_result"
    }
   ],
   "source": [
    "id(B)"
   ]
  },
  {
   "cell_type": "code",
   "execution_count": 1,
   "id": "8dba1cbd",
   "metadata": {},
   "outputs": [
    {
     "data": {
      "text/plain": [
       "False"
      ]
     },
     "execution_count": 1,
     "metadata": {},
     "output_type": "execute_result"
    }
   ],
   "source": [
    "A=[\"AAKASH\",\"SOLANKE\"]\n",
    "B=[\"AAKASH\",\"SOLANKE\"]\n",
    "\n",
    "A is B    ## list will assigned to differnt memory location so we can update it in future"
   ]
  },
  {
   "cell_type": "code",
   "execution_count": 39,
   "id": "b28ac431",
   "metadata": {},
   "outputs": [
    {
     "data": {
      "text/plain": [
       "1398156964544"
      ]
     },
     "execution_count": 39,
     "metadata": {},
     "output_type": "execute_result"
    }
   ],
   "source": [
    "id(A)"
   ]
  },
  {
   "cell_type": "code",
   "execution_count": 40,
   "id": "530d33bf",
   "metadata": {},
   "outputs": [
    {
     "data": {
      "text/plain": [
       "1398184929984"
      ]
     },
     "execution_count": 40,
     "metadata": {},
     "output_type": "execute_result"
    }
   ],
   "source": [
    "id(B)"
   ]
  },
  {
   "cell_type": "markdown",
   "id": "4e08ca65",
   "metadata": {},
   "source": [
    "## Comparision "
   ]
  },
  {
   "cell_type": "code",
   "execution_count": 41,
   "id": "0a3f53db",
   "metadata": {},
   "outputs": [
    {
     "name": "stdout",
     "output_type": "stream",
     "text": [
      "attendence criteria met? : True\n",
      "assignment criteria met? : True\n",
      "The student is eligible to appear in final exam\n"
     ]
    }
   ],
   "source": [
    "attendance = 75\n",
    "assignment_submitted = 70\n",
    "\n",
    "print(f\"attendence criteria met? : {attendance >= 75}\")\n",
    "print(f\"assignment criteria met? : {assignment_submitted >= 70}\")\n",
    "\n",
    "if attendance >= 75 and assignment_submitted >= 70:\n",
    "    print(\"The student is eligible to appear in final exam\")\n",
    "else:\n",
    "    print(\"The student is not eligible\")"
   ]
  },
  {
   "cell_type": "code",
   "execution_count": 42,
   "id": "36a496f6",
   "metadata": {},
   "outputs": [
    {
     "name": "stdout",
     "output_type": "stream",
     "text": [
      " since you have score 40 , you have passed the exams\n"
     ]
    }
   ],
   "source": [
    "your_score = 40\n",
    "passing_mark=33.33\n",
    "\n",
    "if your_score >=33.33:\n",
    "    print(f\" since you have score {your_score} , you have passed the exams\")\n",
    "else:\n",
    "    print(f\" Dad: you should have taken things seriously!\")"
   ]
  },
  {
   "cell_type": "code",
   "execution_count": 43,
   "id": "049419b1",
   "metadata": {},
   "outputs": [
    {
     "name": "stdout",
     "output_type": "stream",
     "text": [
      " Dad: you should have taken things seriously!\n"
     ]
    }
   ],
   "source": [
    "your_score = 30\n",
    "passing_mark=33.33\n",
    "\n",
    "if your_score >=33.33:\n",
    "    print(f\" since you have score {your_score} , you have passed the exams\")\n",
    "else:\n",
    "    print(f\" Dad: you should have taken things seriously!\")"
   ]
  },
  {
   "cell_type": "code",
   "execution_count": 46,
   "id": "9c29cd4c",
   "metadata": {},
   "outputs": [
    {
     "name": "stdout",
     "output_type": "stream",
     "text": [
      " since you have score 76 , you have passed the exams\n",
      "Dad : i will buy you a bike !well done!!\n"
     ]
    }
   ],
   "source": [
    "your_score = 76\n",
    "passing_mark=33.33\n",
    "destinction_marks=75\n",
    "\n",
    "if your_score >=33.33:\n",
    "    print(f\" since you have score {your_score} , you have passed the exams\")\n",
    "    if your_score>destinction_marks:\n",
    "        print(f\"Dad : i will buy you a bike !well done!!\")\n",
    "    else:\n",
    "        print(\"better luck next time\")\n",
    "else:\n",
    "    print(f\" Dad: you should have taken things seriously!\")"
   ]
  },
  {
   "cell_type": "code",
   "execution_count": null,
   "id": "3234d14a",
   "metadata": {},
   "outputs": [],
   "source": []
  }
 ],
 "metadata": {
  "kernelspec": {
   "display_name": "Python 3 (ipykernel)",
   "language": "python",
   "name": "python3"
  },
  "language_info": {
   "codemirror_mode": {
    "name": "ipython",
    "version": 3
   },
   "file_extension": ".py",
   "mimetype": "text/x-python",
   "name": "python",
   "nbconvert_exporter": "python",
   "pygments_lexer": "ipython3",
   "version": "3.9.12"
  }
 },
 "nbformat": 4,
 "nbformat_minor": 5
}
