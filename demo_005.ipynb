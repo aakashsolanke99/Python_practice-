{
 "cells": [
  {
   "cell_type": "markdown",
   "id": "2c119c1b",
   "metadata": {},
   "source": [
    "## Arithematic operators"
   ]
  },
  {
   "cell_type": "code",
   "execution_count": 4,
   "id": "eba6d904",
   "metadata": {},
   "outputs": [
    {
     "data": {
      "text/plain": [
       "2"
      ]
     },
     "execution_count": 4,
     "metadata": {},
     "output_type": "execute_result"
    }
   ],
   "source": [
    "A=5\n",
    "B=2\n",
    "\n",
    "A//B"
   ]
  },
  {
   "cell_type": "code",
   "execution_count": 2,
   "id": "d09a1aaa",
   "metadata": {},
   "outputs": [
    {
     "data": {
      "text/plain": [
       "2.5"
      ]
     },
     "execution_count": 2,
     "metadata": {},
     "output_type": "execute_result"
    }
   ],
   "source": [
    "A/B"
   ]
  },
  {
   "cell_type": "code",
   "execution_count": 3,
   "id": "cec10334",
   "metadata": {},
   "outputs": [
    {
     "data": {
      "text/plain": [
       "1"
      ]
     },
     "execution_count": 3,
     "metadata": {},
     "output_type": "execute_result"
    }
   ],
   "source": [
    "A%B"
   ]
  },
  {
   "cell_type": "code",
   "execution_count": 6,
   "id": "33240970",
   "metadata": {},
   "outputs": [
    {
     "name": "stdout",
     "output_type": "stream",
     "text": [
      " A 5 is not divisibal by B 2 \n"
     ]
    }
   ],
   "source": [
    "if A%B==0:\n",
    "    print(f\" A {A} is divisibal by B {B} \")\n",
    "else:\n",
    "    print(f\" A {A} is not divisibal by B {B} \")\n"
   ]
  },
  {
   "cell_type": "code",
   "execution_count": 7,
   "id": "04cc9d90",
   "metadata": {},
   "outputs": [
    {
     "name": "stdout",
     "output_type": "stream",
     "text": [
      " A 54 is divisibal by B 2 \n"
     ]
    }
   ],
   "source": [
    "A=54\n",
    "B=2\n",
    "\n",
    "if A%B==0:\n",
    "    print(f\" A {A} is divisibal by B {B} \")\n",
    "else:\n",
    "    print(f\" A {A} is not divisibal by B {B} \")\n"
   ]
  },
  {
   "cell_type": "code",
   "execution_count": 8,
   "id": "29a52987",
   "metadata": {},
   "outputs": [
    {
     "data": {
      "text/plain": [
       "2.0"
      ]
     },
     "execution_count": 8,
     "metadata": {},
     "output_type": "execute_result"
    }
   ],
   "source": [
    "A=4\n",
    "\n",
    "A**(1/2)"
   ]
  },
  {
   "cell_type": "markdown",
   "id": "248fbf81",
   "metadata": {},
   "source": [
    "# String methods"
   ]
  },
  {
   "cell_type": "code",
   "execution_count": 11,
   "id": "c6eab96e",
   "metadata": {},
   "outputs": [
    {
     "data": {
      "text/plain": [
       "'k'"
      ]
     },
     "execution_count": 11,
     "metadata": {},
     "output_type": "execute_result"
    }
   ],
   "source": [
    "#string indexing \n",
    "\n",
    "# 012345\n",
    "#-1-2-3-4-5\n",
    "\n",
    "name = \"Aakash\"\n",
    "\n",
    "name[2]\n"
   ]
  },
  {
   "cell_type": "code",
   "execution_count": 12,
   "id": "5da0e86e",
   "metadata": {},
   "outputs": [
    {
     "data": {
      "text/plain": [
       "'h'"
      ]
     },
     "execution_count": 12,
     "metadata": {},
     "output_type": "execute_result"
    }
   ],
   "source": [
    "name[5]"
   ]
  },
  {
   "cell_type": "code",
   "execution_count": 13,
   "id": "6ad0c705",
   "metadata": {},
   "outputs": [
    {
     "data": {
      "text/plain": [
       "'h'"
      ]
     },
     "execution_count": 13,
     "metadata": {},
     "output_type": "execute_result"
    }
   ],
   "source": [
    "name[-1]"
   ]
  },
  {
   "cell_type": "code",
   "execution_count": 14,
   "id": "09aaadd1",
   "metadata": {},
   "outputs": [
    {
     "data": {
      "text/plain": [
       "'A'"
      ]
     },
     "execution_count": 14,
     "metadata": {},
     "output_type": "execute_result"
    }
   ],
   "source": [
    "name[-0]"
   ]
  },
  {
   "cell_type": "code",
   "execution_count": 17,
   "id": "ccc9b9bc",
   "metadata": {},
   "outputs": [
    {
     "ename": "IndexError",
     "evalue": "string index out of range",
     "output_type": "error",
     "traceback": [
      "\u001b[1;31m---------------------------------------------------------------------------\u001b[0m",
      "\u001b[1;31mIndexError\u001b[0m                                Traceback (most recent call last)",
      "Input \u001b[1;32mIn [17]\u001b[0m, in \u001b[0;36m<cell line: 1>\u001b[1;34m()\u001b[0m\n\u001b[1;32m----> 1\u001b[0m \u001b[43mname\u001b[49m\u001b[43m[\u001b[49m\u001b[38;5;241;43m6\u001b[39;49m\u001b[43m]\u001b[49m\n",
      "\u001b[1;31mIndexError\u001b[0m: string index out of range"
     ]
    }
   ],
   "source": [
    "name[6]"
   ]
  },
  {
   "cell_type": "code",
   "execution_count": 20,
   "id": "5b560269",
   "metadata": {},
   "outputs": [
    {
     "data": {
      "text/plain": [
       "'un'"
      ]
     },
     "execution_count": 20,
     "metadata": {},
     "output_type": "execute_result"
    }
   ],
   "source": [
    "### String slicing\n",
    "name =\"sunny\"\n",
    "name[1:3]  # [staring point , ending point ]"
   ]
  },
  {
   "cell_type": "code",
   "execution_count": 21,
   "id": "a8a620c8",
   "metadata": {},
   "outputs": [
    {
     "data": {
      "text/plain": [
       "'unny'"
      ]
     },
     "execution_count": 21,
     "metadata": {},
     "output_type": "execute_result"
    }
   ],
   "source": [
    "name[1:5] # ending is excluded N-1 "
   ]
  },
  {
   "cell_type": "code",
   "execution_count": 23,
   "id": "4b81dbc0",
   "metadata": {},
   "outputs": [
    {
     "data": {
      "text/plain": [
       "'unn'"
      ]
     },
     "execution_count": 23,
     "metadata": {},
     "output_type": "execute_result"
    }
   ],
   "source": [
    "name[-4:-1]"
   ]
  },
  {
   "cell_type": "code",
   "execution_count": 25,
   "id": "0fe73afe",
   "metadata": {},
   "outputs": [
    {
     "data": {
      "text/plain": [
       "'08'"
      ]
     },
     "execution_count": 25,
     "metadata": {},
     "output_type": "execute_result"
    }
   ],
   "source": [
    "date =\"08/11/2022\"\n",
    "\n",
    "date[0:2]"
   ]
  },
  {
   "cell_type": "code",
   "execution_count": 27,
   "id": "e4569c1d",
   "metadata": {},
   "outputs": [
    {
     "data": {
      "text/plain": [
       "'11'"
      ]
     },
     "execution_count": 27,
     "metadata": {},
     "output_type": "execute_result"
    }
   ],
   "source": [
    "date[3:5]"
   ]
  },
  {
   "cell_type": "code",
   "execution_count": 29,
   "id": "7a0f144d",
   "metadata": {},
   "outputs": [
    {
     "data": {
      "text/plain": [
       "'2022'"
      ]
     },
     "execution_count": 29,
     "metadata": {},
     "output_type": "execute_result"
    }
   ],
   "source": [
    "date[6:10]"
   ]
  },
  {
   "cell_type": "code",
   "execution_count": 41,
   "id": "e7de18f5",
   "metadata": {},
   "outputs": [
    {
     "data": {
      "text/plain": [
       "'aah'"
      ]
     },
     "execution_count": 41,
     "metadata": {},
     "output_type": "execute_result"
    }
   ],
   "source": [
    "name=\"aakash\"\n",
    "\n",
    "name[1::2]"
   ]
  },
  {
   "cell_type": "code",
   "execution_count": 43,
   "id": "89aa7aeb",
   "metadata": {},
   "outputs": [
    {
     "name": "stdout",
     "output_type": "stream",
     "text": [
      "enter stringhhgdd\n",
      "input string hhgdd is not palindrome\n"
     ]
    }
   ],
   "source": [
    "# Palindrome sequence\n",
    "\n",
    "data= input(\"enter string\")\n",
    "reverse=data[::-1]  # REVERSE THE STRING \n",
    "\n",
    "if reverse ==data:\n",
    "    print(f\"input string {data} is palindrome \")\n",
    "else:\n",
    "    print(f\"input string {data} is not palindrome\")"
   ]
  },
  {
   "cell_type": "markdown",
   "id": "aba9d72b",
   "metadata": {},
   "source": [
    "## Mutability "
   ]
  },
  {
   "cell_type": "code",
   "execution_count": 45,
   "id": "e223b222",
   "metadata": {},
   "outputs": [
    {
     "ename": "TypeError",
     "evalue": "'str' object does not support item assignment",
     "output_type": "error",
     "traceback": [
      "\u001b[1;31m---------------------------------------------------------------------------\u001b[0m",
      "\u001b[1;31mTypeError\u001b[0m                                 Traceback (most recent call last)",
      "Input \u001b[1;32mIn [45]\u001b[0m, in \u001b[0;36m<cell line: 3>\u001b[1;34m()\u001b[0m\n\u001b[0;32m      1\u001b[0m name\u001b[38;5;241m=\u001b[39m\u001b[38;5;124m\"\u001b[39m\u001b[38;5;124mAakash\u001b[39m\u001b[38;5;124m\"\u001b[39m\n\u001b[1;32m----> 3\u001b[0m name[\u001b[38;5;241m0\u001b[39m]\u001b[38;5;241m=\u001b[39m\u001b[38;5;124m\"\u001b[39m\u001b[38;5;124ms\u001b[39m\u001b[38;5;124m\"\u001b[39m\n",
      "\u001b[1;31mTypeError\u001b[0m: 'str' object does not support item assignment"
     ]
    }
   ],
   "source": [
    "name=\"Aakash\"    # string is not mutabel\n",
    "\n",
    "name[0]=\"s\""
   ]
  },
  {
   "cell_type": "code",
   "execution_count": 46,
   "id": "437abcd2",
   "metadata": {},
   "outputs": [
    {
     "data": {
      "text/plain": [
       "'Fakash'"
      ]
     },
     "execution_count": 46,
     "metadata": {},
     "output_type": "execute_result"
    }
   ],
   "source": [
    "# we can do it by some way\n",
    "# this one is first way\n",
    "\n",
    "\"F\" + name[1:]"
   ]
  },
  {
   "cell_type": "code",
   "execution_count": 47,
   "id": "a02046c3",
   "metadata": {},
   "outputs": [
    {
     "data": {
      "text/plain": [
       "'Aakash'"
      ]
     },
     "execution_count": 47,
     "metadata": {},
     "output_type": "execute_result"
    }
   ],
   "source": [
    "name"
   ]
  },
  {
   "cell_type": "code",
   "execution_count": 48,
   "id": "7cb18fc5",
   "metadata": {},
   "outputs": [],
   "source": [
    "name=\"F\" + name[1:]"
   ]
  },
  {
   "cell_type": "code",
   "execution_count": 49,
   "id": "b0fa72aa",
   "metadata": {},
   "outputs": [
    {
     "data": {
      "text/plain": [
       "'Fakash'"
      ]
     },
     "execution_count": 49,
     "metadata": {},
     "output_type": "execute_result"
    }
   ],
   "source": [
    "name"
   ]
  },
  {
   "cell_type": "code",
   "execution_count": 51,
   "id": "edacd3b9",
   "metadata": {},
   "outputs": [
    {
     "data": {
      "text/plain": [
       "'Fyyykyyysh'"
      ]
     },
     "execution_count": 51,
     "metadata": {},
     "output_type": "execute_result"
    }
   ],
   "source": [
    "# second way\n",
    "\n",
    "name.replace(\"a\",\"yyy\")"
   ]
  },
  {
   "cell_type": "code",
   "execution_count": 52,
   "id": "69e2f468",
   "metadata": {},
   "outputs": [
    {
     "data": {
      "text/plain": [
       "'Fanash'"
      ]
     },
     "execution_count": 52,
     "metadata": {},
     "output_type": "execute_result"
    }
   ],
   "source": [
    "name.replace(\"k\",\"n\")"
   ]
  },
  {
   "cell_type": "markdown",
   "id": "805c8aea",
   "metadata": {},
   "source": [
    "### length of string"
   ]
  },
  {
   "cell_type": "code",
   "execution_count": 54,
   "id": "42d0f7bc",
   "metadata": {},
   "outputs": [
    {
     "data": {
      "text/plain": [
       "6"
      ]
     },
     "execution_count": 54,
     "metadata": {},
     "output_type": "execute_result"
    }
   ],
   "source": [
    "name=\"aakash\"\n",
    "len(name)"
   ]
  },
  {
   "cell_type": "code",
   "execution_count": 55,
   "id": "3f77532d",
   "metadata": {},
   "outputs": [
    {
     "data": {
      "text/plain": [
       "5"
      ]
     },
     "execution_count": 55,
     "metadata": {},
     "output_type": "execute_result"
    }
   ],
   "source": [
    "len(\"Sunny\")"
   ]
  },
  {
   "cell_type": "code",
   "execution_count": 56,
   "id": "6bb6abc6",
   "metadata": {},
   "outputs": [
    {
     "data": {
      "text/plain": [
       "15"
      ]
     },
     "execution_count": 56,
     "metadata": {},
     "output_type": "execute_result"
    }
   ],
   "source": [
    "len(\"sunny   chnadra\")"
   ]
  },
  {
   "cell_type": "code",
   "execution_count": 57,
   "id": "d9f7c87b",
   "metadata": {},
   "outputs": [
    {
     "data": {
      "text/plain": [
       "8"
      ]
     },
     "execution_count": 57,
     "metadata": {},
     "output_type": "execute_result"
    }
   ],
   "source": [
    "len(\"sunny   \")"
   ]
  },
  {
   "cell_type": "code",
   "execution_count": 60,
   "id": "c03a5e9c",
   "metadata": {},
   "outputs": [
    {
     "data": {
      "text/plain": [
       "'sunny'"
      ]
     },
     "execution_count": 60,
     "metadata": {},
     "output_type": "execute_result"
    }
   ],
   "source": [
    "name=\" sunny   \"               ##for count only the character we can replace space to nothing \n",
    "name = name.replace(\" \",\"\")\n",
    "name"
   ]
  },
  {
   "cell_type": "markdown",
   "id": "b50806a6",
   "metadata": {},
   "source": [
    "### count specific characters in a string"
   ]
  },
  {
   "cell_type": "code",
   "execution_count": 61,
   "id": "16c97fb5",
   "metadata": {},
   "outputs": [
    {
     "data": {
      "text/plain": [
       "2"
      ]
     },
     "execution_count": 61,
     "metadata": {},
     "output_type": "execute_result"
    }
   ],
   "source": [
    "name=\"Aakahs\"\n",
    "name.count(\"a\")"
   ]
  },
  {
   "cell_type": "markdown",
   "id": "ac9e4e14",
   "metadata": {},
   "source": [
    "###  Split operation"
   ]
  },
  {
   "cell_type": "code",
   "execution_count": 62,
   "id": "13b56863",
   "metadata": {},
   "outputs": [
    {
     "data": {
      "text/plain": [
       "['Aakash', 'Santosh', 'Solanke']"
      ]
     },
     "execution_count": 62,
     "metadata": {},
     "output_type": "execute_result"
    }
   ],
   "source": [
    "name = \"Aakash Santosh Solanke\"\n",
    "\n",
    "name.split(\" \")"
   ]
  },
  {
   "cell_type": "code",
   "execution_count": 63,
   "id": "4a34235d",
   "metadata": {},
   "outputs": [
    {
     "name": "stdout",
     "output_type": "stream",
     "text": [
      "\n",
      "first name : Aakash\n",
      "middel name : Santosh\n",
      "sir name : Solanke\n",
      "\n",
      "\n"
     ]
    }
   ],
   "source": [
    "first_name, middle_name, sir_name = name.split(\" \")\n",
    "print(f\"\"\"\n",
    "first name : {first_name}\n",
    "middel name : {middle_name}\n",
    "sir name : {sir_name}\n",
    "\n",
    "\"\"\")"
   ]
  },
  {
   "cell_type": "code",
   "execution_count": 66,
   "id": "2a08156d",
   "metadata": {},
   "outputs": [
    {
     "data": {
      "text/plain": [
       "['A', 'k', 'sh S', 'ntosh Sol', 'nke']"
      ]
     },
     "execution_count": 66,
     "metadata": {},
     "output_type": "execute_result"
    }
   ],
   "source": [
    "name.split(\"a\")"
   ]
  },
  {
   "cell_type": "code",
   "execution_count": 65,
   "id": "418cecb8",
   "metadata": {},
   "outputs": [
    {
     "name": "stdout",
     "output_type": "stream",
     "text": [
      "enter date of birth in DD/MM/YYYY Format02/09/1999\n",
      "\n",
      "the user was born in the month of 09 in the year 1999 on the date of 02  \n",
      "\n"
     ]
    }
   ],
   "source": [
    "data = input(\"enter date of birth in DD/MM/YYYY Format\")\n",
    "\n",
    "date, month , year = data.split(\"/\")\n",
    "\n",
    "print(f\"\"\"\n",
    "the user was born in the month of {month} in the year {year} on the date of {date}  \n",
    "\"\"\")"
   ]
  },
  {
   "cell_type": "code",
   "execution_count": 67,
   "id": "79767c07",
   "metadata": {},
   "outputs": [],
   "source": [
    "A= data.split(\"/\")"
   ]
  },
  {
   "cell_type": "code",
   "execution_count": 72,
   "id": "07e69d76",
   "metadata": {},
   "outputs": [
    {
     "data": {
      "text/plain": [
       "['02', '09', '1999']"
      ]
     },
     "execution_count": 72,
     "metadata": {},
     "output_type": "execute_result"
    }
   ],
   "source": [
    "A"
   ]
  },
  {
   "cell_type": "code",
   "execution_count": 69,
   "id": "31532d81",
   "metadata": {},
   "outputs": [
    {
     "data": {
      "text/plain": [
       "'02'"
      ]
     },
     "execution_count": 69,
     "metadata": {},
     "output_type": "execute_result"
    }
   ],
   "source": [
    "A[0]"
   ]
  },
  {
   "cell_type": "code",
   "execution_count": 70,
   "id": "cc95d896",
   "metadata": {},
   "outputs": [
    {
     "data": {
      "text/plain": [
       "'09'"
      ]
     },
     "execution_count": 70,
     "metadata": {},
     "output_type": "execute_result"
    }
   ],
   "source": [
    "A[1]"
   ]
  },
  {
   "cell_type": "code",
   "execution_count": 71,
   "id": "64707d68",
   "metadata": {},
   "outputs": [
    {
     "data": {
      "text/plain": [
       "'1999'"
      ]
     },
     "execution_count": 71,
     "metadata": {},
     "output_type": "execute_result"
    }
   ],
   "source": [
    "A[2]"
   ]
  },
  {
   "cell_type": "markdown",
   "id": "cd8e62e8",
   "metadata": {},
   "source": [
    "### lower , upper , title case etc"
   ]
  },
  {
   "cell_type": "code",
   "execution_count": 73,
   "id": "a937de36",
   "metadata": {},
   "outputs": [],
   "source": [
    "name =\"Aakash Solanke Santosh \""
   ]
  },
  {
   "cell_type": "code",
   "execution_count": 74,
   "id": "7cea1dba",
   "metadata": {},
   "outputs": [
    {
     "data": {
      "text/plain": [
       "'aakash solanke santosh '"
      ]
     },
     "execution_count": 74,
     "metadata": {},
     "output_type": "execute_result"
    }
   ],
   "source": [
    "name.lower()"
   ]
  },
  {
   "cell_type": "code",
   "execution_count": 75,
   "id": "6b17163d",
   "metadata": {},
   "outputs": [
    {
     "data": {
      "text/plain": [
       "'AAKASH SOLANKE SANTOSH '"
      ]
     },
     "execution_count": 75,
     "metadata": {},
     "output_type": "execute_result"
    }
   ],
   "source": [
    "name.upper()"
   ]
  },
  {
   "cell_type": "code",
   "execution_count": null,
   "id": "a9fb758e",
   "metadata": {},
   "outputs": [],
   "source": [
    "name =input(\"enter your name \")\n",
    "\n",
    "print(f\" user input {name} \")\n",
    "print(f\" name in upper case : {name.upper()}\")\n",
    "print(f\" name in lower case : {name.lower()}\")\n",
    "print(f\" name in title case : {name.title()}\")\n",
    "print(f\" name in capitalize case : {name.capitalize()}\")\n",
    "print(f\" name in swapcase case : {name.swapcase()}\")"
   ]
  },
  {
   "cell_type": "code",
   "execution_count": 79,
   "id": "cd02be68",
   "metadata": {},
   "outputs": [
    {
     "data": {
      "text/plain": [
       "'A*a*k*a*s*h* *S*a*n*t*o*s*h* *S*o*l*a*n*k*e'"
      ]
     },
     "execution_count": 79,
     "metadata": {},
     "output_type": "execute_result"
    }
   ],
   "source": [
    "name = \"Aakash Santosh Solanke\"\n",
    "\"*\".join(name)"
   ]
  },
  {
   "cell_type": "code",
   "execution_count": 82,
   "id": "ebde1877",
   "metadata": {},
   "outputs": [
    {
     "data": {
      "text/plain": [
       "'A_a_k_a_s_h_ _S_a_n_t_o_s_h_ _S_o_l_a_n_k_e'"
      ]
     },
     "execution_count": 82,
     "metadata": {},
     "output_type": "execute_result"
    }
   ],
   "source": [
    "\"_\".join(name)"
   ]
  },
  {
   "cell_type": "markdown",
   "id": "a0438db2",
   "metadata": {},
   "source": [
    "### Remove extra spaces front and back of the string "
   ]
  },
  {
   "cell_type": "code",
   "execution_count": 85,
   "id": "8235694d",
   "metadata": {},
   "outputs": [
    {
     "data": {
      "text/plain": [
       "'Aakash'"
      ]
     },
     "execution_count": 85,
     "metadata": {},
     "output_type": "execute_result"
    }
   ],
   "source": [
    "name =\" Aakash   \"\n",
    "\n",
    "name.strip(\" \")"
   ]
  },
  {
   "cell_type": "code",
   "execution_count": 86,
   "id": "7c6c4be4",
   "metadata": {},
   "outputs": [
    {
     "data": {
      "text/plain": [
       "'Aakash   '"
      ]
     },
     "execution_count": 86,
     "metadata": {},
     "output_type": "execute_result"
    }
   ],
   "source": [
    "name.lstrip()"
   ]
  },
  {
   "cell_type": "code",
   "execution_count": 87,
   "id": "b5d75fd4",
   "metadata": {},
   "outputs": [
    {
     "data": {
      "text/plain": [
       "' Aakash'"
      ]
     },
     "execution_count": 87,
     "metadata": {},
     "output_type": "execute_result"
    }
   ],
   "source": [
    "name.rstrip()"
   ]
  },
  {
   "cell_type": "markdown",
   "id": "ed4266dc",
   "metadata": {},
   "source": [
    "### Formating "
   ]
  },
  {
   "cell_type": "code",
   "execution_count": 89,
   "id": "5cb8dd9e",
   "metadata": {},
   "outputs": [
    {
     "data": {
      "text/plain": [
       "'########Aakash########'"
      ]
     },
     "execution_count": 89,
     "metadata": {},
     "output_type": "execute_result"
    }
   ],
   "source": [
    "name =\"Aakash\"\n",
    "\n",
    "name.center(22,'#')"
   ]
  },
  {
   "cell_type": "code",
   "execution_count": 90,
   "id": "49e9ecb0",
   "metadata": {},
   "outputs": [
    {
     "data": {
      "text/plain": [
       "'##Aakash##'"
      ]
     },
     "execution_count": 90,
     "metadata": {},
     "output_type": "execute_result"
    }
   ],
   "source": [
    "name.center(10,'#')"
   ]
  },
  {
   "cell_type": "code",
   "execution_count": 91,
   "id": "cdc1e1c0",
   "metadata": {},
   "outputs": [
    {
     "data": {
      "text/plain": [
       "'#Aakash'"
      ]
     },
     "execution_count": 91,
     "metadata": {},
     "output_type": "execute_result"
    }
   ],
   "source": [
    "name.center(7,'#')"
   ]
  },
  {
   "cell_type": "markdown",
   "id": "26ee6a63",
   "metadata": {},
   "source": [
    "### Checking string cases  [ IMP]"
   ]
  },
  {
   "cell_type": "code",
   "execution_count": 93,
   "id": "63cf33f4",
   "metadata": {},
   "outputs": [
    {
     "data": {
      "text/plain": [
       "True"
      ]
     },
     "execution_count": 93,
     "metadata": {},
     "output_type": "execute_result"
    }
   ],
   "source": [
    "name =\"AAKASH\"\n",
    "name.isupper()"
   ]
  },
  {
   "cell_type": "code",
   "execution_count": 95,
   "id": "fc6f7ec2",
   "metadata": {},
   "outputs": [
    {
     "data": {
      "text/plain": [
       "False"
      ]
     },
     "execution_count": 95,
     "metadata": {},
     "output_type": "execute_result"
    }
   ],
   "source": [
    "name= \"Aakash\"\n",
    "name.isupper()"
   ]
  },
  {
   "cell_type": "code",
   "execution_count": 96,
   "id": "7c0dc45a",
   "metadata": {},
   "outputs": [
    {
     "data": {
      "text/plain": [
       "True"
      ]
     },
     "execution_count": 96,
     "metadata": {},
     "output_type": "execute_result"
    }
   ],
   "source": [
    "name=\"aakash\"\n",
    "name.islower()"
   ]
  },
  {
   "cell_type": "code",
   "execution_count": 97,
   "id": "0ced40c0",
   "metadata": {},
   "outputs": [
    {
     "data": {
      "text/plain": [
       "False"
      ]
     },
     "execution_count": 97,
     "metadata": {},
     "output_type": "execute_result"
    }
   ],
   "source": [
    "name.isspace()"
   ]
  },
  {
   "cell_type": "code",
   "execution_count": 98,
   "id": "f1a25852",
   "metadata": {},
   "outputs": [
    {
     "data": {
      "text/plain": [
       "True"
      ]
     },
     "execution_count": 98,
     "metadata": {},
     "output_type": "execute_result"
    }
   ],
   "source": [
    "name =\"  \"\n",
    "name.isspace()"
   ]
  },
  {
   "cell_type": "code",
   "execution_count": 99,
   "id": "3edb721b",
   "metadata": {},
   "outputs": [
    {
     "data": {
      "text/plain": [
       "True"
      ]
     },
     "execution_count": 99,
     "metadata": {},
     "output_type": "execute_result"
    }
   ],
   "source": [
    "name =\"Aakash\"\n",
    "name.istitle()"
   ]
  },
  {
   "cell_type": "code",
   "execution_count": 100,
   "id": "011f2e3b",
   "metadata": {},
   "outputs": [
    {
     "data": {
      "text/plain": [
       "True"
      ]
     },
     "execution_count": 100,
     "metadata": {},
     "output_type": "execute_result"
    }
   ],
   "source": [
    "phone_no = \"123242334\"\n",
    "phone_no.isdigit()"
   ]
  },
  {
   "cell_type": "code",
   "execution_count": 103,
   "id": "55454c84",
   "metadata": {},
   "outputs": [
    {
     "name": "stdout",
     "output_type": "stream",
     "text": [
      "enter your phone number+919090909090\n",
      " user enter correct number\n"
     ]
    }
   ],
   "source": [
    "phone_no= input(\"enter your phone number\")\n",
    "\n",
    "if phone_no.startswith(\"+91\") and phone_no[1:].isdigit() and len(phone_no)<=13:\n",
    "    print(f\" user enter correct number\")\n",
    "else:\n",
    "    print(\"invalide input\")"
   ]
  },
  {
   "cell_type": "code",
   "execution_count": 104,
   "id": "f9ddda1a",
   "metadata": {},
   "outputs": [
    {
     "name": "stdout",
     "output_type": "stream",
     "text": [
      "enter your phone number+989878787665\n",
      "invalide input\n"
     ]
    }
   ],
   "source": [
    "phone_no= input(\"enter your phone number\")\n",
    "\n",
    "if phone_no.startswith(\"+91\") and phone_no[1:].isdigit() and len(phone_no)<=13:\n",
    "    print(f\" user enter correct number\")\n",
    "else:\n",
    "    print(\"invalide input\")"
   ]
  },
  {
   "cell_type": "code",
   "execution_count": 106,
   "id": "cdc78b1e",
   "metadata": {},
   "outputs": [
    {
     "data": {
      "text/plain": [
       "True"
      ]
     },
     "execution_count": 106,
     "metadata": {},
     "output_type": "execute_result"
    }
   ],
   "source": [
    "pan_no= \"LASDJ28836\"\n",
    "## check for alphanumeric it will chek alphabet or numeric\n",
    "pan_no.isalnum()"
   ]
  },
  {
   "cell_type": "code",
   "execution_count": 110,
   "id": "1e8a4e6a",
   "metadata": {},
   "outputs": [
    {
     "data": {
      "text/plain": [
       "True"
      ]
     },
     "execution_count": 110,
     "metadata": {},
     "output_type": "execute_result"
    }
   ],
   "source": [
    "no=\"2983792982\"\n",
    "no.isalnum()"
   ]
  },
  {
   "cell_type": "code",
   "execution_count": 111,
   "id": "bc036561",
   "metadata": {},
   "outputs": [
    {
     "data": {
      "text/plain": [
       "False"
      ]
     },
     "execution_count": 111,
     "metadata": {},
     "output_type": "execute_result"
    }
   ],
   "source": [
    "pan_no=\"aakash solanke\"\n",
    "pan_no.isalnum()     # space is not alphanumeric or number"
   ]
  },
  {
   "cell_type": "code",
   "execution_count": 112,
   "id": "e41b95d0",
   "metadata": {},
   "outputs": [
    {
     "data": {
      "text/plain": [
       "False"
      ]
     },
     "execution_count": 112,
     "metadata": {},
     "output_type": "execute_result"
    }
   ],
   "source": [
    "pan_no=\"aakash**solanke\"\n",
    "pan_no.isalnum()     # space is not alphanumeric "
   ]
  },
  {
   "cell_type": "code",
   "execution_count": null,
   "id": "a0d3299f",
   "metadata": {},
   "outputs": [],
   "source": []
  }
 ],
 "metadata": {
  "kernelspec": {
   "display_name": "Python 3 (ipykernel)",
   "language": "python",
   "name": "python3"
  },
  "language_info": {
   "codemirror_mode": {
    "name": "ipython",
    "version": 3
   },
   "file_extension": ".py",
   "mimetype": "text/x-python",
   "name": "python",
   "nbconvert_exporter": "python",
   "pygments_lexer": "ipython3",
   "version": "3.9.12"
  }
 },
 "nbformat": 4,
 "nbformat_minor": 5
}
