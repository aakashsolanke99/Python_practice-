{
 "cells": [
  {
   "cell_type": "markdown",
   "id": "1955e98c",
   "metadata": {},
   "source": [
    "### Loops\n",
    "\n",
    "1.while"
   ]
  },
  {
   "cell_type": "code",
   "execution_count": 3,
   "id": "56c4755c",
   "metadata": {},
   "outputs": [
    {
     "name": "stdout",
     "output_type": "stream",
     "text": [
      " your score is 100\n",
      " i will attempt next year\n",
      " your score is 200\n",
      " i will attempt next year\n",
      " your score is 300\n",
      " i will attempt next year\n",
      " your score is 399\n",
      " i will attempt next year\n"
     ]
    }
   ],
   "source": [
    "total_marks= 1000\n",
    "cutoff = 400\n",
    "score =[100,200,300,399,500]\n",
    "year = 0\n",
    "\n",
    "while score[year] <cutoff:\n",
    "    print(f\" your score is {score[year]}\")\n",
    "    print(\" i will attempt next year\")\n",
    "    year=year+1"
   ]
  },
  {
   "cell_type": "code",
   "execution_count": 4,
   "id": "a470c492",
   "metadata": {},
   "outputs": [
    {
     "name": "stdout",
     "output_type": "stream",
     "text": [
      " your score is 100\n",
      " i will attempt next year\n",
      " your score is 200\n",
      " i will attempt next year\n",
      " your score is 300\n",
      " i will attempt next year\n",
      " your score is 399\n",
      " i will attempt next year\n",
      "you are in else \n"
     ]
    }
   ],
   "source": [
    "total_marks= 1000\n",
    "cutoff = 400\n",
    "score =[100,200,300,399,500]\n",
    "year = 0\n",
    " \n",
    "while score[year] <cutoff:\n",
    "    print(f\" your score is {score[year]}\")\n",
    "    print(\" i will attempt next year\")\n",
    "    year=year+1\n",
    "else:\n",
    "    print(\"you are in else \")"
   ]
  },
  {
   "cell_type": "code",
   "execution_count": 5,
   "id": "5479156c",
   "metadata": {},
   "outputs": [
    {
     "name": "stdout",
     "output_type": "stream",
     "text": [
      "you are in else \n"
     ]
    }
   ],
   "source": [
    "while False:\n",
    "    print(f\" your score is {score[year]}\")\n",
    "    print(\" i will attempt next year\")\n",
    "    year=year+1\n",
    "else:\n",
    "    print(\"you are in else \")"
   ]
  },
  {
   "cell_type": "markdown",
   "id": "3bf29e66",
   "metadata": {},
   "source": [
    "2. for loop"
   ]
  },
  {
   "cell_type": "code",
   "execution_count": 7,
   "id": "cccdae8f",
   "metadata": {},
   "outputs": [
    {
     "name": "stdout",
     "output_type": "stream",
     "text": [
      " 10 x 1=10\n",
      " 10 x 2=20\n",
      " 10 x 3=30\n",
      " 10 x 4=40\n",
      " 10 x 5=50\n",
      " 10 x 6=60\n",
      " 10 x 7=70\n",
      " 10 x 8=80\n",
      " 10 x 9=90\n",
      " 10 x 10=100\n"
     ]
    }
   ],
   "source": [
    "for i in range(0,10):\n",
    "    print(f\" 10 x {i+1}={10*(i+1)}\")"
   ]
  },
  {
   "cell_type": "code",
   "execution_count": 8,
   "id": "e79ab5c2",
   "metadata": {},
   "outputs": [
    {
     "name": "stdout",
     "output_type": "stream",
     "text": [
      " 10 x 1=10\n",
      " 10 x 2=20\n",
      " 10 x 3=30\n",
      " 10 x 4=40\n",
      " 10 x 5=50\n",
      " 10 x 6=60\n",
      " 10 x 7=70\n",
      " 10 x 8=80\n",
      " 10 x 9=90\n",
      " 10 x 10=100\n"
     ]
    }
   ],
   "source": [
    "for i in range(1,11):\n",
    "    print(f\" 10 x {i}={10*i}\")"
   ]
  },
  {
   "cell_type": "code",
   "execution_count": 9,
   "id": "f46377c4",
   "metadata": {},
   "outputs": [
    {
     "name": "stdout",
     "output_type": "stream",
     "text": [
      "*\n",
      "**\n",
      "***\n",
      "****\n",
      "*****\n",
      "******\n",
      "*******\n",
      "********\n",
      "*********\n",
      "**********\n"
     ]
    }
   ],
   "source": [
    "for i in range(1,11):\n",
    "    print(\"*\"*i)"
   ]
  },
  {
   "cell_type": "code",
   "execution_count": 13,
   "id": "6e7c1a93",
   "metadata": {},
   "outputs": [
    {
     "name": "stdout",
     "output_type": "stream",
     "text": [
      "0= 0 + 100\n",
      "-----\n",
      "100= 100 + 200\n",
      "-----\n",
      "300= 300 + 129\n",
      "-----\n",
      "429= 429 + 456\n",
      "-----\n",
      " total amount to be paid: 885\n"
     ]
    }
   ],
   "source": [
    "cost_of_items= [100,200,129,456]\n",
    "\n",
    "total_sum = 0\n",
    "\n",
    "for i in range(0,4):\n",
    "    print(f\"{total_sum }= {total_sum} + {cost_of_items[i]}\")\n",
    "    total_sum = total_sum + cost_of_items[i]\n",
    "    print(\"-----\")\n",
    "    \n",
    "    \n",
    "print(f\" total amount to be paid: {total_sum}\")"
   ]
  },
  {
   "cell_type": "code",
   "execution_count": 14,
   "id": "3255a618",
   "metadata": {},
   "outputs": [
    {
     "name": "stdout",
     "output_type": "stream",
     "text": [
      "0= 0 + 100\n",
      "-----\n",
      "100= 100 + 200\n",
      "-----\n",
      "300= 300 + 129\n",
      "-----\n",
      "429= 429 + 456\n",
      "-----\n",
      " total amount to be paid: 885\n"
     ]
    }
   ],
   "source": [
    "cost_of_items= [100,200,129,456]\n",
    "\n",
    "total_sum = 0\n",
    "\n",
    "for cost in cost_of_items:\n",
    "    print(f\"{total_sum }= {total_sum} + {cost}\")\n",
    "    total_sum = total_sum + cost\n",
    "    print(\"-----\")\n",
    "    \n",
    "    \n",
    "print(f\" total amount to be paid: {total_sum}\")"
   ]
  },
  {
   "cell_type": "code",
   "execution_count": null,
   "id": "79327b56",
   "metadata": {},
   "outputs": [],
   "source": []
  }
 ],
 "metadata": {
  "kernelspec": {
   "display_name": "Python 3 (ipykernel)",
   "language": "python",
   "name": "python3"
  },
  "language_info": {
   "codemirror_mode": {
    "name": "ipython",
    "version": 3
   },
   "file_extension": ".py",
   "mimetype": "text/x-python",
   "name": "python",
   "nbconvert_exporter": "python",
   "pygments_lexer": "ipython3",
   "version": "3.9.12"
  }
 },
 "nbformat": 4,
 "nbformat_minor": 5
}
