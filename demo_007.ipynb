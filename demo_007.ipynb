{
 "cells": [
  {
   "cell_type": "markdown",
   "id": "f4dfabd2",
   "metadata": {},
   "source": [
    "## List operation"
   ]
  },
  {
   "cell_type": "code",
   "execution_count": 1,
   "id": "d188ae9c",
   "metadata": {},
   "outputs": [],
   "source": [
    "A=[2,44,5,7,6,\"Aakash\", \" solanke\",2.3,3.4]"
   ]
  },
  {
   "cell_type": "code",
   "execution_count": 2,
   "id": "070e4a1c",
   "metadata": {},
   "outputs": [
    {
     "data": {
      "text/plain": [
       "[5, 7, 6, 'Aakash']"
      ]
     },
     "execution_count": 2,
     "metadata": {},
     "output_type": "execute_result"
    }
   ],
   "source": [
    "A[2:6]"
   ]
  },
  {
   "cell_type": "code",
   "execution_count": 6,
   "id": "063a0444",
   "metadata": {},
   "outputs": [
    {
     "data": {
      "text/plain": [
       "[2.3, ' solanke', 'Aakash', 6, 7]"
      ]
     },
     "execution_count": 6,
     "metadata": {},
     "output_type": "execute_result"
    }
   ],
   "source": [
    "A[-2:-7:-1]"
   ]
  },
  {
   "cell_type": "code",
   "execution_count": 7,
   "id": "0b405309",
   "metadata": {},
   "outputs": [
    {
     "data": {
      "text/plain": [
       "[7, ' solanke']"
      ]
     },
     "execution_count": 7,
     "metadata": {},
     "output_type": "execute_result"
    }
   ],
   "source": [
    "A[3:7:3]"
   ]
  },
  {
   "cell_type": "code",
   "execution_count": 8,
   "id": "05d88f58",
   "metadata": {},
   "outputs": [
    {
     "data": {
      "text/plain": [
       "[3.4, ' solanke', 6, 5, 2]"
      ]
     },
     "execution_count": 8,
     "metadata": {},
     "output_type": "execute_result"
    }
   ],
   "source": [
    "A[::-2]"
   ]
  },
  {
   "cell_type": "code",
   "execution_count": 9,
   "id": "aaca20cd",
   "metadata": {},
   "outputs": [
    {
     "name": "stdout",
     "output_type": "stream",
     "text": [
      "0\n",
      "2\n",
      "4\n",
      "6\n",
      "8\n"
     ]
    }
   ],
   "source": [
    "for i in range(0,10,2):\n",
    "    print(i)"
   ]
  },
  {
   "cell_type": "code",
   "execution_count": 11,
   "id": "3ec14a68",
   "metadata": {},
   "outputs": [
    {
     "name": "stdout",
     "output_type": "stream",
     "text": [
      "10\n",
      "8\n",
      "6\n",
      "4\n",
      "2\n"
     ]
    }
   ],
   "source": [
    "for i in range(10,0,-2):\n",
    "    print(i)"
   ]
  },
  {
   "cell_type": "code",
   "execution_count": 13,
   "id": "d5011277",
   "metadata": {},
   "outputs": [
    {
     "name": "stdout",
     "output_type": "stream",
     "text": [
      "0 2\n",
      "1 44\n",
      "2 5\n",
      "3 7\n",
      "4 6\n",
      "5 Aakash\n",
      "6  solanke\n",
      "7 2.3\n",
      "8 3.4\n"
     ]
    }
   ],
   "source": [
    "for i in range(len(A)):\n",
    "    print(i,A[i])"
   ]
  },
  {
   "cell_type": "code",
   "execution_count": 20,
   "id": "3675bbad",
   "metadata": {},
   "outputs": [
    {
     "name": "stdout",
     "output_type": "stream",
     "text": [
      "-1 3.4\n",
      "-2 2.3\n",
      "-3  solanke\n",
      "-4 Aakash\n",
      "-5 6\n",
      "-6 7\n",
      "-7 5\n",
      "-8 44\n",
      "-9 2\n"
     ]
    }
   ],
   "source": [
    "for i in range(-1,-len(A)-1,-1):\n",
    "    print(i,A[i])"
   ]
  },
  {
   "cell_type": "markdown",
   "id": "0c06d510",
   "metadata": {},
   "source": [
    "### Upadating list element at specific index"
   ]
  },
  {
   "cell_type": "code",
   "execution_count": 23,
   "id": "2e669733",
   "metadata": {},
   "outputs": [
    {
     "name": "stdout",
     "output_type": "stream",
     "text": [
      "new valuse at index  99\n"
     ]
    }
   ],
   "source": [
    "lis=[2,3,5.5,\"Aakash\",\"solanke\"]\n",
    "lis[3]=99\n",
    "print(\"new valuse at index \",lis[3])"
   ]
  },
  {
   "cell_type": "code",
   "execution_count": 24,
   "id": "801bda11",
   "metadata": {},
   "outputs": [
    {
     "data": {
      "text/plain": [
       "[2, 3, 5.5, 99, 'solanke', 'veera', 'papa']"
      ]
     },
     "execution_count": 24,
     "metadata": {},
     "output_type": "execute_result"
    }
   ],
   "source": [
    "lis +[\"veera\",\"papa\"]"
   ]
  },
  {
   "cell_type": "code",
   "execution_count": 25,
   "id": "dc878fc4",
   "metadata": {},
   "outputs": [
    {
     "data": {
      "text/plain": [
       "[2, 3, 5.5, 99, 'solanke']"
      ]
     },
     "execution_count": 25,
     "metadata": {},
     "output_type": "execute_result"
    }
   ],
   "source": [
    "lis"
   ]
  },
  {
   "cell_type": "markdown",
   "id": "e36e0413",
   "metadata": {},
   "source": [
    "### Repitation of list"
   ]
  },
  {
   "cell_type": "code",
   "execution_count": 26,
   "id": "42d9bf0a",
   "metadata": {},
   "outputs": [
    {
     "data": {
      "text/plain": [
       "[2, 3, 5.5, 99, 'solanke', 2, 3, 5.5, 99, 'solanke']"
      ]
     },
     "execution_count": 26,
     "metadata": {},
     "output_type": "execute_result"
    }
   ],
   "source": [
    "lis *2"
   ]
  },
  {
   "cell_type": "code",
   "execution_count": 27,
   "id": "aeb48f0d",
   "metadata": {},
   "outputs": [],
   "source": [
    "B=[3,5,\"man\"]"
   ]
  },
  {
   "cell_type": "code",
   "execution_count": 28,
   "id": "32f58536",
   "metadata": {},
   "outputs": [
    {
     "ename": "TypeError",
     "evalue": "can't multiply sequence by non-int of type 'list'",
     "output_type": "error",
     "traceback": [
      "\u001b[1;31m---------------------------------------------------------------------------\u001b[0m",
      "\u001b[1;31mTypeError\u001b[0m                                 Traceback (most recent call last)",
      "Input \u001b[1;32mIn [28]\u001b[0m, in \u001b[0;36m<cell line: 1>\u001b[1;34m()\u001b[0m\n\u001b[1;32m----> 1\u001b[0m \u001b[43mA\u001b[49m\u001b[38;5;241;43m*\u001b[39;49m\u001b[43mB\u001b[49m\n",
      "\u001b[1;31mTypeError\u001b[0m: can't multiply sequence by non-int of type 'list'"
     ]
    }
   ],
   "source": [
    "A*B"
   ]
  },
  {
   "cell_type": "code",
   "execution_count": 29,
   "id": "06d3d8be",
   "metadata": {},
   "outputs": [
    {
     "data": {
      "text/plain": [
       "[2, 44, 5, 7, 6, 'Aakash', ' solanke', 2.3, 3.4, 3, 5, 'man']"
      ]
     },
     "execution_count": 29,
     "metadata": {},
     "output_type": "execute_result"
    }
   ],
   "source": [
    "A+B"
   ]
  },
  {
   "cell_type": "code",
   "execution_count": 30,
   "id": "b43d728d",
   "metadata": {},
   "outputs": [
    {
     "ename": "TypeError",
     "evalue": "unsupported operand type(s) for -: 'list' and 'list'",
     "output_type": "error",
     "traceback": [
      "\u001b[1;31m---------------------------------------------------------------------------\u001b[0m",
      "\u001b[1;31mTypeError\u001b[0m                                 Traceback (most recent call last)",
      "Input \u001b[1;32mIn [30]\u001b[0m, in \u001b[0;36m<cell line: 1>\u001b[1;34m()\u001b[0m\n\u001b[1;32m----> 1\u001b[0m \u001b[43mA\u001b[49m\u001b[38;5;241;43m-\u001b[39;49m\u001b[43mB\u001b[49m\n",
      "\u001b[1;31mTypeError\u001b[0m: unsupported operand type(s) for -: 'list' and 'list'"
     ]
    }
   ],
   "source": [
    "A-B"
   ]
  },
  {
   "cell_type": "code",
   "execution_count": 31,
   "id": "dc4c9ccc",
   "metadata": {},
   "outputs": [
    {
     "data": {
      "text/plain": [
       "[]"
      ]
     },
     "execution_count": 31,
     "metadata": {},
     "output_type": "execute_result"
    }
   ],
   "source": [
    "A*-2"
   ]
  },
  {
   "cell_type": "code",
   "execution_count": 32,
   "id": "e79f15b9",
   "metadata": {},
   "outputs": [
    {
     "data": {
      "text/plain": [
       "[]"
      ]
     },
     "execution_count": 32,
     "metadata": {},
     "output_type": "execute_result"
    }
   ],
   "source": [
    "A*0"
   ]
  },
  {
   "cell_type": "markdown",
   "id": "f3c982f4",
   "metadata": {},
   "source": [
    "### BASIC LIST METHOD"
   ]
  },
  {
   "cell_type": "code",
   "execution_count": 33,
   "id": "dadbfcd2",
   "metadata": {},
   "outputs": [],
   "source": [
    "l=[2,3,5.5,\"Aakash\",\"solanke\"]\n"
   ]
  },
  {
   "cell_type": "code",
   "execution_count": 34,
   "id": "1a6549d7",
   "metadata": {},
   "outputs": [
    {
     "data": {
      "text/plain": [
       "5"
      ]
     },
     "execution_count": 34,
     "metadata": {},
     "output_type": "execute_result"
    }
   ],
   "source": [
    "len(l)"
   ]
  },
  {
   "cell_type": "code",
   "execution_count": 35,
   "id": "02df6df9",
   "metadata": {},
   "outputs": [
    {
     "data": {
      "text/plain": [
       "False"
      ]
     },
     "execution_count": 35,
     "metadata": {},
     "output_type": "execute_result"
    }
   ],
   "source": [
    "5 in l"
   ]
  },
  {
   "cell_type": "code",
   "execution_count": 36,
   "id": "85e5778b",
   "metadata": {},
   "outputs": [
    {
     "data": {
      "text/plain": [
       "True"
      ]
     },
     "execution_count": 36,
     "metadata": {},
     "output_type": "execute_result"
    }
   ],
   "source": [
    "5.5 in l"
   ]
  },
  {
   "cell_type": "code",
   "execution_count": 44,
   "id": "5cccddfa",
   "metadata": {},
   "outputs": [
    {
     "data": {
      "text/plain": [
       "7"
      ]
     },
     "execution_count": 44,
     "metadata": {},
     "output_type": "execute_result"
    }
   ],
   "source": [
    "lis1=[2,3,4,5,6,7]\n",
    "max(lis1)"
   ]
  },
  {
   "cell_type": "code",
   "execution_count": 45,
   "id": "807456d3",
   "metadata": {},
   "outputs": [],
   "source": [
    "## Append \n",
    "\n",
    "A.append(3)"
   ]
  },
  {
   "cell_type": "code",
   "execution_count": 46,
   "id": "65823c76",
   "metadata": {},
   "outputs": [
    {
     "data": {
      "text/plain": [
       "[2, 44, 5, 7, 6, 'Aakash', ' solanke', 2.3, 3.4, 3]"
      ]
     },
     "execution_count": 46,
     "metadata": {},
     "output_type": "execute_result"
    }
   ],
   "source": [
    "A\n",
    "\n"
   ]
  },
  {
   "cell_type": "markdown",
   "id": "be0bec58",
   "metadata": {},
   "source": [
    "### pop operation"
   ]
  },
  {
   "cell_type": "code",
   "execution_count": 47,
   "id": "759efe2d",
   "metadata": {},
   "outputs": [
    {
     "data": {
      "text/plain": [
       "[2, 44, 5, 7, 6, 'Aakash', ' solanke', 2.3, 3.4]"
      ]
     },
     "execution_count": 47,
     "metadata": {},
     "output_type": "execute_result"
    }
   ],
   "source": [
    "A.pop()  # remove from end \n",
    "A"
   ]
  },
  {
   "cell_type": "code",
   "execution_count": 51,
   "id": "1bb2d761",
   "metadata": {},
   "outputs": [
    {
     "data": {
      "text/plain": [
       "6"
      ]
     },
     "execution_count": 51,
     "metadata": {},
     "output_type": "execute_result"
    }
   ],
   "source": [
    "A.pop(3)  # it remove index 3 elemet 7 is at index 3"
   ]
  },
  {
   "cell_type": "code",
   "execution_count": 52,
   "id": "f36af3e7",
   "metadata": {},
   "outputs": [
    {
     "data": {
      "text/plain": [
       "[2, 44, 5, 'Aakash', ' solanke', 2.3, 3.4]"
      ]
     },
     "execution_count": 52,
     "metadata": {},
     "output_type": "execute_result"
    }
   ],
   "source": [
    "A"
   ]
  },
  {
   "cell_type": "code",
   "execution_count": 54,
   "id": "44764f89",
   "metadata": {},
   "outputs": [
    {
     "data": {
      "text/plain": [
       "[3, 4, 5, 7, 23, 24, 37, 56]"
      ]
     },
     "execution_count": 54,
     "metadata": {},
     "output_type": "execute_result"
    }
   ],
   "source": [
    "## sort \n",
    "\n",
    "li=[37,3,4,7,5,23,24,56]\n",
    "sorted(li)"
   ]
  },
  {
   "cell_type": "code",
   "execution_count": 65,
   "id": "27dbbfc4",
   "metadata": {},
   "outputs": [
    {
     "name": "stdout",
     "output_type": "stream",
     "text": [
      "[3, 4, 5, 7, 23, 24, 37, 56]\n"
     ]
    }
   ],
   "source": [
    "li=[37,3,4,7,5,23,24,56]\n",
    "li.sort()\n",
    "print(li)\n"
   ]
  },
  {
   "cell_type": "code",
   "execution_count": 68,
   "id": "2a147551",
   "metadata": {},
   "outputs": [
    {
     "name": "stdout",
     "output_type": "stream",
     "text": [
      "[56, 37, 24, 23, 7, 5, 4, 3]\n"
     ]
    }
   ],
   "source": [
    "li=[37,3,4,7,5,23,24,56]\n",
    "li.sort(reverse=True)\n",
    "print(li)"
   ]
  },
  {
   "cell_type": "code",
   "execution_count": 69,
   "id": "d29c48ff",
   "metadata": {},
   "outputs": [],
   "source": [
    "A=[[111,22,33],[22,11,5],[85,67,5]]\n"
   ]
  },
  {
   "cell_type": "code",
   "execution_count": 71,
   "id": "3c9ca23d",
   "metadata": {},
   "outputs": [
    {
     "data": {
      "text/plain": [
       "[111, 22, 33]"
      ]
     },
     "execution_count": 71,
     "metadata": {},
     "output_type": "execute_result"
    }
   ],
   "source": [
    "A[0]"
   ]
  },
  {
   "cell_type": "code",
   "execution_count": 72,
   "id": "2653c706",
   "metadata": {},
   "outputs": [
    {
     "data": {
      "text/plain": [
       "[85, 67, 5]"
      ]
     },
     "execution_count": 72,
     "metadata": {},
     "output_type": "execute_result"
    }
   ],
   "source": [
    "A[2]"
   ]
  },
  {
   "cell_type": "code",
   "execution_count": 73,
   "id": "da5b69ab",
   "metadata": {},
   "outputs": [
    {
     "data": {
      "text/plain": [
       "11"
      ]
     },
     "execution_count": 73,
     "metadata": {},
     "output_type": "execute_result"
    }
   ],
   "source": [
    "A[1][1]"
   ]
  },
  {
   "cell_type": "markdown",
   "id": "38cac9fa",
   "metadata": {},
   "source": [
    "## List comprehension"
   ]
  },
  {
   "cell_type": "code",
   "execution_count": 76,
   "id": "bf8327de",
   "metadata": {},
   "outputs": [],
   "source": [
    "A= [1,2,3,4,5,6,7,8,9,10]\n",
    "# ans=[1,4,9,.....]"
   ]
  },
  {
   "cell_type": "code",
   "execution_count": 79,
   "id": "9864789e",
   "metadata": {},
   "outputs": [
    {
     "name": "stdout",
     "output_type": "stream",
     "text": [
      "1\n",
      "4\n",
      "9\n",
      "16\n",
      "25\n",
      "36\n",
      "49\n",
      "64\n",
      "81\n",
      "100\n",
      "[1, 4, 9, 16, 25, 36, 49, 64, 81, 100]\n"
     ]
    }
   ],
   "source": [
    "ans=list()\n",
    "for i in A:\n",
    "    print(i**2)\n",
    "    ans.append(i**2)\n",
    "print(ans)"
   ]
  },
  {
   "cell_type": "code",
   "execution_count": 82,
   "id": "cc3d23cf",
   "metadata": {},
   "outputs": [],
   "source": [
    "ans=[ele**2 for ele in A]"
   ]
  },
  {
   "cell_type": "code",
   "execution_count": 83,
   "id": "255832af",
   "metadata": {},
   "outputs": [
    {
     "data": {
      "text/plain": [
       "[1, 4, 9, 16, 25, 36, 49, 64, 81, 100]"
      ]
     },
     "execution_count": 83,
     "metadata": {},
     "output_type": "execute_result"
    }
   ],
   "source": [
    "ans"
   ]
  },
  {
   "cell_type": "code",
   "execution_count": 85,
   "id": "ec4acff7",
   "metadata": {},
   "outputs": [],
   "source": [
    "# only take the squar of odd no in the list\n",
    "\n",
    "ans=[ele**2 for ele in A if ele%2!=0]"
   ]
  },
  {
   "cell_type": "code",
   "execution_count": 86,
   "id": "49a5c0d2",
   "metadata": {},
   "outputs": [
    {
     "data": {
      "text/plain": [
       "[1, 9, 25, 49, 81]"
      ]
     },
     "execution_count": 86,
     "metadata": {},
     "output_type": "execute_result"
    }
   ],
   "source": [
    "ans"
   ]
  },
  {
   "cell_type": "markdown",
   "id": "69460599",
   "metadata": {},
   "source": [
    "### Extend"
   ]
  },
  {
   "cell_type": "code",
   "execution_count": 87,
   "id": "24f88730",
   "metadata": {},
   "outputs": [],
   "source": [
    "A=[1,2,3,44,5]\n",
    "B=[9,55,6,7,8,7]"
   ]
  },
  {
   "cell_type": "code",
   "execution_count": 88,
   "id": "c6bf5fe8",
   "metadata": {},
   "outputs": [],
   "source": [
    "A.extend(B)"
   ]
  },
  {
   "cell_type": "code",
   "execution_count": 89,
   "id": "dacaa689",
   "metadata": {},
   "outputs": [
    {
     "data": {
      "text/plain": [
       "[1, 2, 3, 44, 5, 9, 55, 6, 7, 8, 7]"
      ]
     },
     "execution_count": 89,
     "metadata": {},
     "output_type": "execute_result"
    }
   ],
   "source": [
    "A"
   ]
  },
  {
   "cell_type": "markdown",
   "id": "c2779cb1",
   "metadata": {},
   "source": [
    "### index"
   ]
  },
  {
   "cell_type": "code",
   "execution_count": 91,
   "id": "bef47358",
   "metadata": {},
   "outputs": [
    {
     "data": {
      "text/plain": [
       "1"
      ]
     },
     "execution_count": 91,
     "metadata": {},
     "output_type": "execute_result"
    }
   ],
   "source": [
    "A.index(2)"
   ]
  },
  {
   "cell_type": "code",
   "execution_count": 92,
   "id": "cfbd0193",
   "metadata": {},
   "outputs": [
    {
     "data": {
      "text/plain": [
       "8"
      ]
     },
     "execution_count": 92,
     "metadata": {},
     "output_type": "execute_result"
    }
   ],
   "source": [
    "A.index(7)"
   ]
  },
  {
   "cell_type": "code",
   "execution_count": 93,
   "id": "f066fbf0",
   "metadata": {},
   "outputs": [
    {
     "data": {
      "text/plain": [
       "6"
      ]
     },
     "execution_count": 93,
     "metadata": {},
     "output_type": "execute_result"
    }
   ],
   "source": [
    "A.index(55)"
   ]
  },
  {
   "cell_type": "code",
   "execution_count": 1,
   "id": "a796d533",
   "metadata": {},
   "outputs": [],
   "source": [
    "A = [11, 3, 4, 56+2j, \"Sunny\", 1+2j]"
   ]
  },
  {
   "cell_type": "markdown",
   "id": "37f5b664",
   "metadata": {},
   "source": [
    "### Insert "
   ]
  },
  {
   "cell_type": "code",
   "execution_count": 2,
   "id": "c6d66fd3",
   "metadata": {},
   "outputs": [],
   "source": [
    "A.insert(2,\"Aakash\")  #(INDEXT, ELEMENT )"
   ]
  },
  {
   "cell_type": "code",
   "execution_count": 3,
   "id": "d8bcba7b",
   "metadata": {},
   "outputs": [
    {
     "data": {
      "text/plain": [
       "[11, 3, 'Aakash', 4, (56+2j), 'Sunny', (1+2j)]"
      ]
     },
     "execution_count": 3,
     "metadata": {},
     "output_type": "execute_result"
    }
   ],
   "source": [
    "A"
   ]
  },
  {
   "cell_type": "code",
   "execution_count": 4,
   "id": "741bdb1a",
   "metadata": {},
   "outputs": [],
   "source": [
    "A.insert(20000,\"solanke\")"
   ]
  },
  {
   "cell_type": "code",
   "execution_count": 6,
   "id": "ac4ca0f0",
   "metadata": {},
   "outputs": [
    {
     "data": {
      "text/plain": [
       "[11, 3, 'Aakash', 4, (56+2j), 'Sunny', (1+2j), 'solanke']"
      ]
     },
     "execution_count": 6,
     "metadata": {},
     "output_type": "execute_result"
    }
   ],
   "source": [
    "A"
   ]
  },
  {
   "cell_type": "code",
   "execution_count": 7,
   "id": "d779c31e",
   "metadata": {},
   "outputs": [],
   "source": [
    "A.insert(-20000,'asd')"
   ]
  },
  {
   "cell_type": "code",
   "execution_count": 8,
   "id": "e3102c3a",
   "metadata": {},
   "outputs": [
    {
     "data": {
      "text/plain": [
       "['asd', 11, 3, 'Aakash', 4, (56+2j), 'Sunny', (1+2j), 'solanke']"
      ]
     },
     "execution_count": 8,
     "metadata": {},
     "output_type": "execute_result"
    }
   ],
   "source": [
    "A"
   ]
  },
  {
   "cell_type": "markdown",
   "id": "981eacfa",
   "metadata": {},
   "source": [
    "### remove "
   ]
  },
  {
   "cell_type": "code",
   "execution_count": 9,
   "id": "2a0ef4a7",
   "metadata": {},
   "outputs": [],
   "source": [
    "A.remove(11)"
   ]
  },
  {
   "cell_type": "code",
   "execution_count": 11,
   "id": "5f20c890",
   "metadata": {},
   "outputs": [
    {
     "data": {
      "text/plain": [
       "['asd', 3, 'Aakash', 4, (56+2j), 'Sunny', (1+2j), 'solanke']"
      ]
     },
     "execution_count": 11,
     "metadata": {},
     "output_type": "execute_result"
    }
   ],
   "source": [
    "A"
   ]
  },
  {
   "cell_type": "code",
   "execution_count": 12,
   "id": "57b617be",
   "metadata": {},
   "outputs": [
    {
     "data": {
      "text/plain": [
       "[11, 3, 4, (56+2j), 'Sunny', (1+2j)]"
      ]
     },
     "execution_count": 12,
     "metadata": {},
     "output_type": "execute_result"
    }
   ],
   "source": [
    "A = [11,11, 3, 4, 56+2j, \"Sunny\", 1+2j]\n",
    "A.remove(11)\n",
    "A"
   ]
  },
  {
   "cell_type": "markdown",
   "id": "9008f358",
   "metadata": {},
   "source": [
    "## TUPLES  -()  - Imutable"
   ]
  },
  {
   "cell_type": "code",
   "execution_count": 13,
   "id": "146600bc",
   "metadata": {},
   "outputs": [],
   "source": [
    "A=(1,23,4,5)"
   ]
  },
  {
   "cell_type": "code",
   "execution_count": 14,
   "id": "8d965226",
   "metadata": {},
   "outputs": [
    {
     "data": {
      "text/plain": [
       "tuple"
      ]
     },
     "execution_count": 14,
     "metadata": {},
     "output_type": "execute_result"
    }
   ],
   "source": [
    "type(A)"
   ]
  },
  {
   "cell_type": "code",
   "execution_count": 15,
   "id": "ca6842e5",
   "metadata": {},
   "outputs": [
    {
     "data": {
      "text/plain": [
       "1"
      ]
     },
     "execution_count": 15,
     "metadata": {},
     "output_type": "execute_result"
    }
   ],
   "source": [
    "A[0]"
   ]
  },
  {
   "cell_type": "code",
   "execution_count": 16,
   "id": "0fa064f8",
   "metadata": {},
   "outputs": [
    {
     "ename": "TypeError",
     "evalue": "'tuple' object does not support item assignment",
     "output_type": "error",
     "traceback": [
      "\u001b[1;31m---------------------------------------------------------------------------\u001b[0m",
      "\u001b[1;31mTypeError\u001b[0m                                 Traceback (most recent call last)",
      "Input \u001b[1;32mIn [16]\u001b[0m, in \u001b[0;36m<cell line: 1>\u001b[1;34m()\u001b[0m\n\u001b[1;32m----> 1\u001b[0m A[\u001b[38;5;241m0\u001b[39m]\u001b[38;5;241m=\u001b[39m\u001b[38;5;241m2\u001b[39m\n",
      "\u001b[1;31mTypeError\u001b[0m: 'tuple' object does not support item assignment"
     ]
    }
   ],
   "source": [
    "A[0]=2   ## TUPLE IS IMUTABLE "
   ]
  },
  {
   "cell_type": "code",
   "execution_count": 17,
   "id": "caddfb5b",
   "metadata": {},
   "outputs": [],
   "source": [
    "A=(22,34,2,13)"
   ]
  },
  {
   "cell_type": "code",
   "execution_count": 20,
   "id": "d281f00b",
   "metadata": {},
   "outputs": [
    {
     "data": {
      "text/plain": [
       "[2, 13, 22, 34]"
      ]
     },
     "execution_count": 20,
     "metadata": {},
     "output_type": "execute_result"
    }
   ],
   "source": [
    "sorted(A)   # CONVERT IN IT INTO LIST"
   ]
  },
  {
   "cell_type": "code",
   "execution_count": 21,
   "id": "0efbf8c5",
   "metadata": {},
   "outputs": [
    {
     "data": {
      "text/plain": [
       "(22, 34, 2, 13)"
      ]
     },
     "execution_count": 21,
     "metadata": {},
     "output_type": "execute_result"
    }
   ],
   "source": [
    "A"
   ]
  },
  {
   "cell_type": "code",
   "execution_count": 22,
   "id": "9997c4dc",
   "metadata": {},
   "outputs": [
    {
     "data": {
      "text/plain": [
       "34"
      ]
     },
     "execution_count": 22,
     "metadata": {},
     "output_type": "execute_result"
    }
   ],
   "source": [
    "max(A)"
   ]
  },
  {
   "cell_type": "code",
   "execution_count": 23,
   "id": "e48308c4",
   "metadata": {},
   "outputs": [
    {
     "data": {
      "text/plain": [
       "2"
      ]
     },
     "execution_count": 23,
     "metadata": {},
     "output_type": "execute_result"
    }
   ],
   "source": [
    "min(A)"
   ]
  },
  {
   "cell_type": "code",
   "execution_count": 24,
   "id": "b169af8f",
   "metadata": {},
   "outputs": [
    {
     "data": {
      "text/plain": [
       "0"
      ]
     },
     "execution_count": 24,
     "metadata": {},
     "output_type": "execute_result"
    }
   ],
   "source": [
    "A.index(22)"
   ]
  },
  {
   "cell_type": "code",
   "execution_count": 25,
   "id": "b8b26b1a",
   "metadata": {},
   "outputs": [
    {
     "data": {
      "text/plain": [
       "1"
      ]
     },
     "execution_count": 25,
     "metadata": {},
     "output_type": "execute_result"
    }
   ],
   "source": [
    "A.count(2)"
   ]
  },
  {
   "cell_type": "code",
   "execution_count": 26,
   "id": "e171761a",
   "metadata": {},
   "outputs": [
    {
     "data": {
      "text/plain": [
       "3"
      ]
     },
     "execution_count": 26,
     "metadata": {},
     "output_type": "execute_result"
    }
   ],
   "source": [
    "A.index(13)"
   ]
  },
  {
   "cell_type": "code",
   "execution_count": 27,
   "id": "91e39827",
   "metadata": {},
   "outputs": [],
   "source": [
    "amazon_cart = [(\"watch\", 5000), (\"phone\", 10000), (\"laptop\", 50000), (\"shirt\", 1000)]\n",
    "total_cost=0"
   ]
  },
  {
   "cell_type": "code",
   "execution_count": null,
   "id": "dd90051d",
   "metadata": {},
   "outputs": [],
   "source": []
  }
 ],
 "metadata": {
  "kernelspec": {
   "display_name": "Python 3 (ipykernel)",
   "language": "python",
   "name": "python3"
  },
  "language_info": {
   "codemirror_mode": {
    "name": "ipython",
    "version": 3
   },
   "file_extension": ".py",
   "mimetype": "text/x-python",
   "name": "python",
   "nbconvert_exporter": "python",
   "pygments_lexer": "ipython3",
   "version": "3.9.12"
  }
 },
 "nbformat": 4,
 "nbformat_minor": 5
}
