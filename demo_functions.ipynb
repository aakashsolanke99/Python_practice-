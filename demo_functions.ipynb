{
 "cells": [
  {
   "cell_type": "markdown",
   "id": "5ed1d92f",
   "metadata": {},
   "source": [
    "## Functions"
   ]
  },
  {
   "cell_type": "code",
   "execution_count": 7,
   "id": "e39ee22c",
   "metadata": {},
   "outputs": [
    {
     "data": {
      "text/plain": [
       "4"
      ]
     },
     "execution_count": 7,
     "metadata": {},
     "output_type": "execute_result"
    }
   ],
   "source": [
    "a=\"sudh\"\n",
    "len(a)"
   ]
  },
  {
   "cell_type": "code",
   "execution_count": 2,
   "id": "73c50e2d",
   "metadata": {},
   "outputs": [
    {
     "data": {
      "text/plain": [
       "6"
      ]
     },
     "execution_count": 2,
     "metadata": {},
     "output_type": "execute_result"
    }
   ],
   "source": [
    "l=[2,3,4,5,\"aakash\",44]\n",
    "len(l)"
   ]
  },
  {
   "cell_type": "code",
   "execution_count": 4,
   "id": "55bf1d98",
   "metadata": {},
   "outputs": [
    {
     "ename": "IndentationError",
     "evalue": "expected an indented block (391875275.py, line 3)",
     "output_type": "error",
     "traceback": [
      "\u001b[1;36m  Input \u001b[1;32mIn [4]\u001b[1;36m\u001b[0m\n\u001b[1;33m    \u001b[0m\n\u001b[1;37m    ^\u001b[0m\n\u001b[1;31mIndentationError\u001b[0m\u001b[1;31m:\u001b[0m expected an indented block\n"
     ]
    }
   ],
   "source": [
    "def tset(a):\n",
    "    \n",
    "    "
   ]
  },
  {
   "cell_type": "code",
   "execution_count": 3,
   "id": "3e3e3395",
   "metadata": {},
   "outputs": [],
   "source": [
    "def tset(a):\n",
    "    pass"
   ]
  },
  {
   "cell_type": "code",
   "execution_count": 13,
   "id": "57340391",
   "metadata": {},
   "outputs": [],
   "source": [
    "def test1():\n",
    "    print(\"this is my first function\")"
   ]
  },
  {
   "cell_type": "code",
   "execution_count": 14,
   "id": "cd350ba8",
   "metadata": {},
   "outputs": [
    {
     "name": "stdout",
     "output_type": "stream",
     "text": [
      "this is my first function\n"
     ]
    }
   ],
   "source": [
    "test1()"
   ]
  },
  {
   "cell_type": "code",
   "execution_count": 15,
   "id": "f57d6f11",
   "metadata": {},
   "outputs": [],
   "source": [
    "a=2"
   ]
  },
  {
   "cell_type": "code",
   "execution_count": 16,
   "id": "ff3967f2",
   "metadata": {},
   "outputs": [
    {
     "name": "stdout",
     "output_type": "stream",
     "text": [
      "this is my first function\n"
     ]
    }
   ],
   "source": [
    "b=test1()"
   ]
  },
  {
   "cell_type": "code",
   "execution_count": 17,
   "id": "1919499f",
   "metadata": {},
   "outputs": [],
   "source": [
    "b\n",
    "## it not giving any o/p\n",
    "\n",
    "# print is the none type it does not return any thing it return none\n",
    "# thats why it dose not give any o/p"
   ]
  },
  {
   "cell_type": "code",
   "execution_count": 21,
   "id": "50b3c589",
   "metadata": {},
   "outputs": [
    {
     "data": {
      "text/plain": [
       "NoneType"
      ]
     },
     "execution_count": 21,
     "metadata": {},
     "output_type": "execute_result"
    }
   ],
   "source": [
    "type(b)"
   ]
  },
  {
   "cell_type": "code",
   "execution_count": 18,
   "id": "15d30865",
   "metadata": {},
   "outputs": [
    {
     "name": "stdout",
     "output_type": "stream",
     "text": [
      "None\n"
     ]
    }
   ],
   "source": [
    "print(b)"
   ]
  },
  {
   "cell_type": "code",
   "execution_count": 19,
   "id": "7db84ef8",
   "metadata": {},
   "outputs": [],
   "source": [
    "c=\"kumar\""
   ]
  },
  {
   "cell_type": "code",
   "execution_count": 20,
   "id": "d802e8ad",
   "metadata": {},
   "outputs": [
    {
     "data": {
      "text/plain": [
       "str"
      ]
     },
     "execution_count": 20,
     "metadata": {},
     "output_type": "execute_result"
    }
   ],
   "source": [
    "type(c)"
   ]
  },
  {
   "cell_type": "code",
   "execution_count": 23,
   "id": "0770f1ea",
   "metadata": {},
   "outputs": [
    {
     "name": "stdout",
     "output_type": "stream",
     "text": [
      "this is my first function\n"
     ]
    },
    {
     "data": {
      "text/plain": [
       "NoneType"
      ]
     },
     "execution_count": 23,
     "metadata": {},
     "output_type": "execute_result"
    }
   ],
   "source": [
    "type(test1())"
   ]
  },
  {
   "cell_type": "code",
   "execution_count": 24,
   "id": "082c80d5",
   "metadata": {},
   "outputs": [],
   "source": [
    "def test2():     # here we are returning 5 it is int type thtas why it give o/p\n",
    "    return 5"
   ]
  },
  {
   "cell_type": "code",
   "execution_count": 25,
   "id": "c5f47a15",
   "metadata": {},
   "outputs": [
    {
     "data": {
      "text/plain": [
       "5"
      ]
     },
     "execution_count": 25,
     "metadata": {},
     "output_type": "execute_result"
    }
   ],
   "source": [
    "test2()"
   ]
  },
  {
   "cell_type": "code",
   "execution_count": 26,
   "id": "a8f836b9",
   "metadata": {},
   "outputs": [],
   "source": [
    "d=test2()"
   ]
  },
  {
   "cell_type": "code",
   "execution_count": 27,
   "id": "9b63746f",
   "metadata": {},
   "outputs": [
    {
     "data": {
      "text/plain": [
       "5"
      ]
     },
     "execution_count": 27,
     "metadata": {},
     "output_type": "execute_result"
    }
   ],
   "source": [
    "d"
   ]
  },
  {
   "cell_type": "code",
   "execution_count": 28,
   "id": "87edffb4",
   "metadata": {},
   "outputs": [
    {
     "name": "stdout",
     "output_type": "stream",
     "text": [
      "this\n"
     ]
    },
    {
     "data": {
      "text/plain": [
       "NoneType"
      ]
     },
     "execution_count": 28,
     "metadata": {},
     "output_type": "execute_result"
    }
   ],
   "source": [
    "type(print(\"this\"))  # print return none type"
   ]
  },
  {
   "cell_type": "code",
   "execution_count": 29,
   "id": "17e09874",
   "metadata": {},
   "outputs": [],
   "source": [
    "def test3():\n",
    "    return 5"
   ]
  },
  {
   "cell_type": "code",
   "execution_count": 30,
   "id": "6b9919a7",
   "metadata": {},
   "outputs": [],
   "source": [
    "def test4():\n",
    "    print(\"hi\")"
   ]
  },
  {
   "cell_type": "code",
   "execution_count": 32,
   "id": "5f5605ad",
   "metadata": {},
   "outputs": [
    {
     "data": {
      "text/plain": [
       "5"
      ]
     },
     "execution_count": 32,
     "metadata": {},
     "output_type": "execute_result"
    }
   ],
   "source": [
    "test3()"
   ]
  },
  {
   "cell_type": "code",
   "execution_count": 35,
   "id": "8d54b094",
   "metadata": {},
   "outputs": [
    {
     "name": "stdout",
     "output_type": "stream",
     "text": [
      "hi\n"
     ]
    }
   ],
   "source": [
    "e= test4()"
   ]
  },
  {
   "cell_type": "code",
   "execution_count": 36,
   "id": "c0d83272",
   "metadata": {},
   "outputs": [],
   "source": [
    "e"
   ]
  },
  {
   "cell_type": "code",
   "execution_count": 37,
   "id": "a49a329f",
   "metadata": {},
   "outputs": [
    {
     "ename": "TypeError",
     "evalue": "unsupported operand type(s) for +: 'NoneType' and 'str'",
     "output_type": "error",
     "traceback": [
      "\u001b[1;31m---------------------------------------------------------------------------\u001b[0m",
      "\u001b[1;31mTypeError\u001b[0m                                 Traceback (most recent call last)",
      "Input \u001b[1;32mIn [37]\u001b[0m, in \u001b[0;36m<cell line: 1>\u001b[1;34m()\u001b[0m\n\u001b[1;32m----> 1\u001b[0m \u001b[43me\u001b[49m\u001b[38;5;241;43m+\u001b[39;49m\u001b[43m \u001b[49m\u001b[38;5;124;43m\"\u001b[39;49m\u001b[38;5;124;43msudh\u001b[39;49m\u001b[38;5;124;43m\"\u001b[39;49m\n",
      "\u001b[1;31mTypeError\u001b[0m: unsupported operand type(s) for +: 'NoneType' and 'str'"
     ]
    }
   ],
   "source": [
    "e+ \"sudh\""
   ]
  },
  {
   "cell_type": "code",
   "execution_count": 38,
   "id": "a558d2b4",
   "metadata": {},
   "outputs": [],
   "source": [
    "def test3():\n",
    "    return \"sudh\""
   ]
  },
  {
   "cell_type": "code",
   "execution_count": 39,
   "id": "94173940",
   "metadata": {},
   "outputs": [
    {
     "data": {
      "text/plain": [
       "'sudhkumar'"
      ]
     },
     "execution_count": 39,
     "metadata": {},
     "output_type": "execute_result"
    }
   ],
   "source": [
    "test3()+\"kumar\""
   ]
  },
  {
   "cell_type": "code",
   "execution_count": 41,
   "id": "a27f7810",
   "metadata": {},
   "outputs": [
    {
     "name": "stdout",
     "output_type": "stream",
     "text": [
      "hi\n"
     ]
    },
    {
     "ename": "TypeError",
     "evalue": "unsupported operand type(s) for +: 'NoneType' and 'str'",
     "output_type": "error",
     "traceback": [
      "\u001b[1;31m---------------------------------------------------------------------------\u001b[0m",
      "\u001b[1;31mTypeError\u001b[0m                                 Traceback (most recent call last)",
      "Input \u001b[1;32mIn [41]\u001b[0m, in \u001b[0;36m<cell line: 1>\u001b[1;34m()\u001b[0m\n\u001b[1;32m----> 1\u001b[0m \u001b[43mtest4\u001b[49m\u001b[43m(\u001b[49m\u001b[43m)\u001b[49m\u001b[43m \u001b[49m\u001b[38;5;241;43m+\u001b[39;49m\u001b[38;5;124;43m\"\u001b[39;49m\u001b[38;5;124;43mkunmar\u001b[39;49m\u001b[38;5;124;43m\"\u001b[39;49m\n",
      "\u001b[1;31mTypeError\u001b[0m: unsupported operand type(s) for +: 'NoneType' and 'str'"
     ]
    }
   ],
   "source": [
    "test4() +\"kunmar\""
   ]
  },
  {
   "cell_type": "code",
   "execution_count": 42,
   "id": "b325822b",
   "metadata": {},
   "outputs": [],
   "source": [
    "def test5():\n",
    "    print(\"hsdhaj\")"
   ]
  },
  {
   "cell_type": "code",
   "execution_count": 43,
   "id": "7e574bf7",
   "metadata": {},
   "outputs": [],
   "source": [
    "def test6():\n",
    "    return 1,2,[2,45,6,\"sudh\"],(2,3,45,44)"
   ]
  },
  {
   "cell_type": "code",
   "execution_count": 44,
   "id": "ec9ca61d",
   "metadata": {},
   "outputs": [
    {
     "data": {
      "text/plain": [
       "(1, 2, [2, 45, 6, 'sudh'], (2, 3, 45, 44))"
      ]
     },
     "execution_count": 44,
     "metadata": {},
     "output_type": "execute_result"
    }
   ],
   "source": [
    "test6()"
   ]
  },
  {
   "cell_type": "code",
   "execution_count": 46,
   "id": "befa23aa",
   "metadata": {},
   "outputs": [
    {
     "data": {
      "text/plain": [
       "tuple"
      ]
     },
     "execution_count": 46,
     "metadata": {},
     "output_type": "execute_result"
    }
   ],
   "source": [
    "type(test6())"
   ]
  },
  {
   "cell_type": "code",
   "execution_count": 47,
   "id": "5de86959",
   "metadata": {},
   "outputs": [
    {
     "data": {
      "text/plain": [
       "2"
      ]
     },
     "execution_count": 47,
     "metadata": {},
     "output_type": "execute_result"
    }
   ],
   "source": [
    "test6()[1]"
   ]
  },
  {
   "cell_type": "code",
   "execution_count": 48,
   "id": "e1213c67",
   "metadata": {},
   "outputs": [
    {
     "data": {
      "text/plain": [
       "6"
      ]
     },
     "execution_count": 48,
     "metadata": {},
     "output_type": "execute_result"
    }
   ],
   "source": [
    "test6()[2][2]"
   ]
  },
  {
   "cell_type": "code",
   "execution_count": 49,
   "id": "b724b46b",
   "metadata": {},
   "outputs": [],
   "source": [
    "def test7():\n",
    "    return 1,2,[2,45,6,\"sudh\"],(2,3,45,44)"
   ]
  },
  {
   "cell_type": "code",
   "execution_count": 51,
   "id": "ea5011bc",
   "metadata": {},
   "outputs": [],
   "source": [
    "a, b, c, d = test7()"
   ]
  },
  {
   "cell_type": "code",
   "execution_count": 52,
   "id": "dff3140f",
   "metadata": {},
   "outputs": [
    {
     "data": {
      "text/plain": [
       "1"
      ]
     },
     "execution_count": 52,
     "metadata": {},
     "output_type": "execute_result"
    }
   ],
   "source": [
    "a"
   ]
  },
  {
   "cell_type": "code",
   "execution_count": 53,
   "id": "16e47f23",
   "metadata": {},
   "outputs": [
    {
     "data": {
      "text/plain": [
       "2"
      ]
     },
     "execution_count": 53,
     "metadata": {},
     "output_type": "execute_result"
    }
   ],
   "source": [
    "b"
   ]
  },
  {
   "cell_type": "code",
   "execution_count": 54,
   "id": "8a1afa32",
   "metadata": {},
   "outputs": [
    {
     "data": {
      "text/plain": [
       "[2, 45, 6, 'sudh']"
      ]
     },
     "execution_count": 54,
     "metadata": {},
     "output_type": "execute_result"
    }
   ],
   "source": [
    "c"
   ]
  },
  {
   "cell_type": "code",
   "execution_count": 55,
   "id": "6fc999b4",
   "metadata": {},
   "outputs": [
    {
     "data": {
      "text/plain": [
       "(2, 3, 45, 44)"
      ]
     },
     "execution_count": 55,
     "metadata": {},
     "output_type": "execute_result"
    }
   ],
   "source": [
    "d"
   ]
  },
  {
   "cell_type": "code",
   "execution_count": 56,
   "id": "599de524",
   "metadata": {},
   "outputs": [],
   "source": [
    "def test8():\n",
    "    a = 4*5+8\n",
    "    return a"
   ]
  },
  {
   "cell_type": "code",
   "execution_count": 58,
   "id": "600d95b7",
   "metadata": {},
   "outputs": [
    {
     "data": {
      "text/plain": [
       "36"
      ]
     },
     "execution_count": 58,
     "metadata": {},
     "output_type": "execute_result"
    }
   ],
   "source": [
    "test8() + 8"
   ]
  },
  {
   "cell_type": "code",
   "execution_count": 59,
   "id": "be3bb853",
   "metadata": {},
   "outputs": [],
   "source": [
    "l = [2,3.5,4,5,45,54,44]"
   ]
  },
  {
   "cell_type": "code",
   "execution_count": 60,
   "id": "65685f8b",
   "metadata": {},
   "outputs": [
    {
     "data": {
      "text/plain": [
       "157.5"
      ]
     },
     "execution_count": 60,
     "metadata": {},
     "output_type": "execute_result"
    }
   ],
   "source": [
    "sum(l)"
   ]
  },
  {
   "cell_type": "code",
   "execution_count": 64,
   "id": "c24ecc4a",
   "metadata": {},
   "outputs": [
    {
     "name": "stdout",
     "output_type": "stream",
     "text": [
      "157.5\n"
     ]
    }
   ],
   "source": [
    "sum=0\n",
    "for i in l:\n",
    "    sum=sum+i\n",
    "print(sum)"
   ]
  },
  {
   "cell_type": "code",
   "execution_count": 66,
   "id": "7799f965",
   "metadata": {},
   "outputs": [],
   "source": [
    "def test9():\n",
    "    sum=0\n",
    "    for i in l:\n",
    "        sum=sum+i\n",
    "    return sum\n",
    "    "
   ]
  },
  {
   "cell_type": "code",
   "execution_count": 67,
   "id": "c759ad3d",
   "metadata": {},
   "outputs": [
    {
     "data": {
      "text/plain": [
       "157.5"
      ]
     },
     "execution_count": 67,
     "metadata": {},
     "output_type": "execute_result"
    }
   ],
   "source": [
    "test9()"
   ]
  },
  {
   "cell_type": "code",
   "execution_count": 71,
   "id": "973732b3",
   "metadata": {},
   "outputs": [],
   "source": [
    "l = [2,3.5,4,5,45,54,44,\"aaaksh\"]\n",
    "def test9():\n",
    "    sum=0\n",
    "    for i in l:\n",
    "        if type(i)==int:\n",
    "            sum=sum+i\n",
    "    return sum\n",
    "    "
   ]
  },
  {
   "cell_type": "code",
   "execution_count": 72,
   "id": "5de9d5e6",
   "metadata": {},
   "outputs": [
    {
     "data": {
      "text/plain": [
       "154"
      ]
     },
     "execution_count": 72,
     "metadata": {},
     "output_type": "execute_result"
    }
   ],
   "source": [
    "test9()"
   ]
  },
  {
   "cell_type": "code",
   "execution_count": 77,
   "id": "517c4f58",
   "metadata": {},
   "outputs": [],
   "source": [
    "l1 =[2,3,4,5,6,7,\"kumar\",4.34,5.6]\n",
    "\n"
   ]
  },
  {
   "cell_type": "code",
   "execution_count": 82,
   "id": "3a4748d2",
   "metadata": {},
   "outputs": [],
   "source": [
    "l1 =[2,3,4,5,6,7,\"kumar\",4.34,5.6]\n",
    "def test10(l):\n",
    "    sum=0\n",
    "    for i in l:\n",
    "        if type(i)==int:\n",
    "            sum=sum+i\n",
    "    return sum"
   ]
  },
  {
   "cell_type": "code",
   "execution_count": 83,
   "id": "4aa978ff",
   "metadata": {},
   "outputs": [
    {
     "data": {
      "text/plain": [
       "27"
      ]
     },
     "execution_count": 83,
     "metadata": {},
     "output_type": "execute_result"
    }
   ],
   "source": [
    "test10(l1)"
   ]
  },
  {
   "cell_type": "code",
   "execution_count": 84,
   "id": "ef232bd5",
   "metadata": {},
   "outputs": [],
   "source": [
    "def test11(a,b):\n",
    "    return a+b"
   ]
  },
  {
   "cell_type": "code",
   "execution_count": 85,
   "id": "5a748b2d",
   "metadata": {},
   "outputs": [
    {
     "data": {
      "text/plain": [
       "34"
      ]
     },
     "execution_count": 85,
     "metadata": {},
     "output_type": "execute_result"
    }
   ],
   "source": [
    "test11(12,22)"
   ]
  },
  {
   "cell_type": "code",
   "execution_count": 86,
   "id": "3258be89",
   "metadata": {},
   "outputs": [
    {
     "data": {
      "text/plain": [
       "'aakashsolanke'"
      ]
     },
     "execution_count": 86,
     "metadata": {},
     "output_type": "execute_result"
    }
   ],
   "source": [
    "test11(\"aakash\",\"solanke\")"
   ]
  },
  {
   "cell_type": "code",
   "execution_count": 87,
   "id": "b0c4d3e6",
   "metadata": {},
   "outputs": [
    {
     "data": {
      "text/plain": [
       "15"
      ]
     },
     "execution_count": 87,
     "metadata": {},
     "output_type": "execute_result"
    }
   ],
   "source": [
    "test11(a=6,b=9)"
   ]
  },
  {
   "cell_type": "code",
   "execution_count": 88,
   "id": "e0565c99",
   "metadata": {},
   "outputs": [
    {
     "data": {
      "text/plain": [
       "13"
      ]
     },
     "execution_count": 88,
     "metadata": {},
     "output_type": "execute_result"
    }
   ],
   "source": [
    "test11(b=5,a=8)"
   ]
  },
  {
   "cell_type": "code",
   "execution_count": 89,
   "id": "5789510d",
   "metadata": {},
   "outputs": [],
   "source": [
    "l=[3,4,5,6,7,8,\"sudh\",5,6,7,\"kumar\",\"ineuron\"]\n",
    "\n"
   ]
  },
  {
   "cell_type": "code",
   "execution_count": 97,
   "id": "c6e2815c",
   "metadata": {},
   "outputs": [],
   "source": [
    "def test12(l):\n",
    "    '''\n",
    "    this is my function which will help you to seprate a string from list and make new list\n",
    "    '''\n",
    "    l1=[]\n",
    "    for i in l:\n",
    "        if type(i)==str:\n",
    "            l1.append(i)\n",
    "    return l1        "
   ]
  },
  {
   "cell_type": "code",
   "execution_count": 98,
   "id": "4c5cecda",
   "metadata": {},
   "outputs": [
    {
     "data": {
      "text/plain": [
       "['sudh', 'kumar', 'ineuron']"
      ]
     },
     "execution_count": 98,
     "metadata": {},
     "output_type": "execute_result"
    }
   ],
   "source": [
    "l1"
   ]
  },
  {
   "cell_type": "code",
   "execution_count": 99,
   "id": "6bd37faf",
   "metadata": {},
   "outputs": [
    {
     "data": {
      "text/plain": [
       "['sudh', 'kumar', 'ineuron']"
      ]
     },
     "execution_count": 99,
     "metadata": {},
     "output_type": "execute_result"
    }
   ],
   "source": [
    "test12(l1)"
   ]
  },
  {
   "cell_type": "code",
   "execution_count": 95,
   "id": "d06303ae",
   "metadata": {},
   "outputs": [],
   "source": [
    "l2=[\"fstd\",\"fsta\",23]"
   ]
  },
  {
   "cell_type": "code",
   "execution_count": 96,
   "id": "54dce3ab",
   "metadata": {},
   "outputs": [
    {
     "data": {
      "text/plain": [
       "['fstd', 'fsta']"
      ]
     },
     "execution_count": 96,
     "metadata": {},
     "output_type": "execute_result"
    }
   ],
   "source": [
    "test12(l2)"
   ]
  },
  {
   "cell_type": "markdown",
   "id": "151f7aa8",
   "metadata": {},
   "source": [
    "##\n",
    "1. write a function which will find out length of a string without using bilt in function\n",
    "2. write a function which will able to print an index of list elemnet without using of index function\n",
    "3. write a fun which will be able to print ip address of your system\n",
    "4. write fun which will shout down your system\n",
    "5. write fun which will take input as a list with any kind of numerical value and give an out as multiplication of all numeric data l= [ 3.4, 6.5,4.5,\"sudh\",\"ineuron\",\"fsda bootcamp 2.0\"]\n",
    "6. write a function which will be able to read all the mails\n",
    "7. write a fun which will able to send mail to any one \n",
    "8. write a function which will able to read a doc file from your system \n"
   ]
  },
  {
   "cell_type": "code",
   "execution_count": 101,
   "id": "85a83d17",
   "metadata": {},
   "outputs": [],
   "source": [
    "#1\n",
    "def strlen(a):\n",
    "    count=0\n",
    "    for i in a:\n",
    "        count=count+1\n",
    "    return count\n"
   ]
  },
  {
   "cell_type": "code",
   "execution_count": 123,
   "id": "b9d61c3c",
   "metadata": {},
   "outputs": [
    {
     "data": {
      "text/plain": [
       "5"
      ]
     },
     "execution_count": 123,
     "metadata": {},
     "output_type": "execute_result"
    }
   ],
   "source": [
    "strlen(\"veera\")"
   ]
  },
  {
   "cell_type": "code",
   "execution_count": 127,
   "id": "022e903b",
   "metadata": {},
   "outputs": [
    {
     "data": {
      "text/plain": [
       "5"
      ]
     },
     "execution_count": 127,
     "metadata": {},
     "output_type": "execute_result"
    }
   ],
   "source": [
    "len(\"veera\")"
   ]
  },
  {
   "cell_type": "code",
   "execution_count": 116,
   "id": "e0117b15",
   "metadata": {},
   "outputs": [],
   "source": [
    "#2\n",
    "def indofstr(l,a):\n",
    "    count=-1\n",
    "    for i in l:\n",
    "        count=count+1\n",
    "        if i==a:\n",
    "            return count\n",
    "        "
   ]
  },
  {
   "cell_type": "code",
   "execution_count": 124,
   "id": "16d5e8d2",
   "metadata": {},
   "outputs": [
    {
     "data": {
      "text/plain": [
       "2"
      ]
     },
     "execution_count": 124,
     "metadata": {},
     "output_type": "execute_result"
    }
   ],
   "source": [
    "l=\"aakash\"\n",
    "indofstr(l,\"k\")"
   ]
  },
  {
   "cell_type": "code",
   "execution_count": 126,
   "id": "86595a76",
   "metadata": {},
   "outputs": [
    {
     "data": {
      "text/plain": [
       "2"
      ]
     },
     "execution_count": 126,
     "metadata": {},
     "output_type": "execute_result"
    }
   ],
   "source": [
    "f=\"aakash\"\n",
    "f.index(\"k\")"
   ]
  },
  {
   "cell_type": "code",
   "execution_count": 143,
   "id": "49ab24b1",
   "metadata": {},
   "outputs": [],
   "source": [
    "#3\n",
    "def getip():    \n",
    "    import socket \n",
    "    y=socket.gethostname()\n",
    "    a= socket.gethostbyname(y)\n",
    "    return a"
   ]
  },
  {
   "cell_type": "code",
   "execution_count": 144,
   "id": "6456aab0",
   "metadata": {},
   "outputs": [
    {
     "data": {
      "text/plain": [
       "'192.168.56.1'"
      ]
     },
     "execution_count": 144,
     "metadata": {},
     "output_type": "execute_result"
    }
   ],
   "source": [
    "getip()"
   ]
  },
  {
   "cell_type": "code",
   "execution_count": 1,
   "id": "e4c2cdbc",
   "metadata": {},
   "outputs": [
    {
     "name": "stdout",
     "output_type": "stream",
     "text": [
      " do you want to shut down your syystem Y/NY\n"
     ]
    }
   ],
   "source": [
    "#4\n",
    "\n",
    "import os\n",
    "shutdown=input(\" do you want to shut down your syystem Y/N\")\n",
    "if shutdown ==\"Y\":\n",
    "    exit()\n",
    "else:\n",
    "    os.system('shutdown /s /r /t1')\n",
    "    \n",
    "    \n",
    "# /s - shutdown \n",
    "# /r - restart\n",
    "# /t 1 - timer"
   ]
  },
  {
   "cell_type": "code",
   "execution_count": 3,
   "id": "66c5b020",
   "metadata": {},
   "outputs": [],
   "source": [
    "#5\n",
    "\n",
    "def mullist(l):\n",
    "    sum=1\n",
    "    for i in l:\n",
    "        if type(i)== str:\n",
    "            continue\n",
    "        else:\n",
    "            sum=sum*i\n",
    "    return sum"
   ]
  },
  {
   "cell_type": "code",
   "execution_count": 5,
   "id": "05c35266",
   "metadata": {},
   "outputs": [
    {
     "data": {
      "text/plain": [
       "459.19999999999993"
      ]
     },
     "execution_count": 5,
     "metadata": {},
     "output_type": "execute_result"
    }
   ],
   "source": [
    "l=[ 3.5, 6.56,4,5,\"sudh\",\"ineuron\",\"fsda bootcamp 2.0\"]\n",
    "mullist(l)"
   ]
  },
  {
   "cell_type": "code",
   "execution_count": 6,
   "id": "8e5ff43e",
   "metadata": {},
   "outputs": [],
   "source": [
    "# 5. write a function which will be able to read all the mails\n",
    "\n"
   ]
  },
  {
   "cell_type": "code",
   "execution_count": null,
   "id": "4a570eb3",
   "metadata": {},
   "outputs": [],
   "source": [
    "# 6. write a fun which will able to send mail to anyone\n",
    "\n",
    "import smtplib, ssl \n",
    "port =465  # ssl\n",
    "smtp_server = \"smtp.gmail.com\"\n",
    "sender_email =\"aakashsolanke99@gmail.com\"\n",
    "recevier_email = \"sudhanshu@ineuron.ai\"\n",
    "password =' '\n",
    "messege = ''' this is my messege from  python code '''\n",
    "\n",
    "context = ssl.create_default_context()\n",
    "with smtplib.SMTP_SSL(smtp_server,port,context=context) as server:\n",
    "    server.login(sender_email,password)\n",
    "    server.sendmail(sender_email,recevier_email,messege)\n"
   ]
  },
  {
   "cell_type": "code",
   "execution_count": 14,
   "id": "50208a08",
   "metadata": {},
   "outputs": [
    {
     "name": "stdout",
     "output_type": "stream",
     "text": [
      "Collecting docx2txt\n",
      "  Downloading docx2txt-0.8.tar.gz (2.8 kB)\n",
      "Building wheels for collected packages: docx2txt\n",
      "  Building wheel for docx2txt (setup.py): started\n",
      "  Building wheel for docx2txt (setup.py): finished with status 'done'\n",
      "  Created wheel for docx2txt: filename=docx2txt-0.8-py3-none-any.whl size=3984 sha256=03fa643805f9ae94d5d8eaa4d348ca9361f9c0530de983add073ba406a0ce858\n",
      "  Stored in directory: c:\\users\\aakas\\appdata\\local\\pip\\cache\\wheels\\40\\75\\01\\e6c444034338bde9c7947d3467807f889123465c2371e77418\n",
      "Successfully built docx2txt\n",
      "Installing collected packages: docx2txt\n",
      "Successfully installed docx2txt-0.8\n"
     ]
    },
    {
     "name": "stderr",
     "output_type": "stream",
     "text": [
      "WARNING: Ignoring invalid distribution -ysql-connector-python (c:\\users\\aakas\\anaconda3\\lib\\site-packages)\n",
      "WARNING: Ignoring invalid distribution -ysql-connector-python (c:\\users\\aakas\\anaconda3\\lib\\site-packages)\n",
      "WARNING: Ignoring invalid distribution -ysql-connector-python (c:\\users\\aakas\\anaconda3\\lib\\site-packages)\n",
      "WARNING: Ignoring invalid distribution -ysql-connector-python (c:\\users\\aakas\\anaconda3\\lib\\site-packages)\n",
      "WARNING: Ignoring invalid distribution -ysql-connector-python (c:\\users\\aakas\\anaconda3\\lib\\site-packages)\n",
      "WARNING: Ignoring invalid distribution -ysql-connector-python (c:\\users\\aakas\\anaconda3\\lib\\site-packages)\n",
      "WARNING: Ignoring invalid distribution -ysql-connector-python (c:\\users\\aakas\\anaconda3\\lib\\site-packages)\n"
     ]
    }
   ],
   "source": [
    "# 7\n",
    "!pip install docx2txt"
   ]
  },
  {
   "cell_type": "code",
   "execution_count": 4,
   "id": "8f33bb5f",
   "metadata": {},
   "outputs": [],
   "source": [
    "import docx2txt"
   ]
  },
  {
   "cell_type": "code",
   "execution_count": 6,
   "id": "1a14b1f5",
   "metadata": {},
   "outputs": [
    {
     "data": {
      "text/plain": [
       "\"A Seminar Report Titled\\n\\n“Data science and data governance”\\n\\n\\n\\nSubmitted By\\n\\nVishal More (AI 2053)\\n\\nAnkush Narwade (AI 2066)\\n\\n\\n\\n\\n\\nIn partial fulfillment of the award of  \\n\\nBachelor of Technology (Artificial Intelligence and Data Science)\\n\\nUnder The Guidance of \\n\\nProf. Dr. B.Nerkar\\n\\n\\n\\n\\n\\n\\n\\n\\n\\nDepartment of Artificial Intelligence and Data Science\\n\\nCSMSS Chh. Shahu College Of Engineering,Aurangabad (Maharashtra)\\n\\n(AY 2022-23)\\n\\nCERTIFICATE\\n\\n\\n\\n\\n\\nThis is to certify that the seminar report entitled “Data science and Data governance “, submitted by Vishal More & Ankush Narwade is the bonafied work completed under my supervision and guidance in for the fulfilment of SY subject ‘Seminar’, of Bachelor of Technology (Artificial Intelligence and Data Science) of Dr. Babasaheb Ambedkar Technological University, Lonere (M.S.).\\n\\n\\n\\nPlace: Aurangabad\\n\\nDate: 07/12/2022\\n\\n\\n\\nProf. Bhavna .N. Nerkar\\n\\nGuide\\n\\nDepartment of Artificial Intelligence and Data Science\\n\\nDr. S.R. Zanwar\\n\\nHead of Department\\n\\nDepartment of Artificial Intelligence and Data Science\\n\\n\\n\\n\\n\\n\\n\\n\\n\\nDr. U. B. Shinde\\n\\nPrincipal\\n\\nChh. Shahu College of Engineering\\n\\nAurangabad (M.S.) – 431 002\\n\\n\\n\\n\\n\\n\\n\\n\\n\\n\\n\\n\\n\\n1.\\n\\nINTRODUCTION\\n\\n1\\n\\n\\n\\n1.1 Introduction\\n\\n1\\n\\n\\n\\n1.2 Necessity\\n\\n2\\n\\n\\n\\n1.3 Objectives\\n\\n3\\n\\n\\n\\n1.4 Organization of Report\\n\\n5\\n\\n2.\\n\\nLITERATURE SURVEY\\n\\n6\\n\\n\\n\\n2.1 Literature Survey\\n\\n7\\n\\n3.\\n\\n\\tSYSTEM MODELING\\n\\n8\\n\\n\\n\\n3.1 Block / Flow Diagram\\n\\n8\\n\\n\\n\\n3.1.1 Details of Each Block \\n\\n8\\n\\n\\n\\n3.2 Software Platform \\n\\n\\n\\n4.\\n\\nADVANTAGES, DISADVANTAGES AND APPLICATIONS\\n\\n\\n\\n5.\\n\\nCONCLUSIONS\\n\\n11\\n\\n\\n\\n5.1 Conclusion\\n\\n11\\n\\n\\n\\n5.2 Future Scope\\n\\n11\\n\\n\\n\\nReferences\\n\\n\\n\\n\\n\\n\\tAcknowledgement\\n\\n\\n\\n\\n\\n\\n\\n(Note- Hide border of contents after formatting )\\n\\n\\n\\n\\n\\n\\n\\n\\n\\n\\n\\n\\n\\n\\n\\n\\n\\nINTRODUCTION\\n\\n\\n\\nWhat is Data Science?\\n\\nData science is the study of data to extract meaningful insights for business. It is a multidisciplinary approach that combines principles and practices from the fields of mathematics, statistics, artificial intelligence, and computer engineering to analyze large amounts of data. This analysis helps data scientists to ask and answer questions like what happened, why it happened, what will happen, and what can be done with the results.\\n\\n\\n\\nHistory of Data Science\\n\\n\\tIn 1974, Peter Naur mentioned the term ‘Data Science’ multiple times in his review, Concise Survey of Computer Methods. In 1977, the International Association for Statistical Computing (IASC) was formed to link modern computer technology, traditional statistical methodology, and domain expertise to convert data into knowledge. In the same year, Tukey composed a paper, Exploratory Data Analysis, that briefed the importance of using data.\\n\\n\\n\\n\\tIn 2002, the International Council for Science published the Data Science Journal focusing on Data Science issues like data systems explanation, application, and more. In 2003, Columbia University published the Data Science Journal to set a platform for data teams.\\n\\n\\n\\nWhy data science is important?\\n\\n\\tData is one of the important features of every organization because it helps business leaders to make decisions based on facts, statistical numbers, and trends. Due to this growing scope of data, data science came into the picture which is a multidisciplinary field.\\n\\n\\t It uses scientific approaches, procedures, algorithms, and frameworks to extract knowledge and insight from a huge amount of data. The extracted data can be either structured or unstructured.\\n\\n\\tData science is a concept to bring together ideas, data examination, Machine Le\\n\\n\\n\\n\\n\\n\\n\\n\\tarning, and their related strategies to comprehend and dissect genuine phenomena with data. Data science is an extension of various data analysis fields such as data mining, statistics, predictive analysis, and many more.\\n\\nWhy data science is important?\\n\\nThe importance of Data Science lies in its innumerable uses that range from daily activities like asking Siri or Alexa for recommendations to more complex applications like operating a self-driving car.\\n\\n\\n\\n\\n\\nWhat is Data Governance?\\n\\nData governance (DG) is the process of managing the availability, usability, integrity and security of the data in enterprise systems, based on internal data standards and policies that also control data usage. Effective data governance ensures that data is consistent and trustworthy and doesn't get misused.\\n\\n\\n\\nHistory of Data Governance\\n\\n\\tIn the early days, data governance was strictly considered an IT function focused on data cataloging that was rarely, if ever, seen or used by the business.\\n\\n\\tIn 2018, there was a “global reckoning on data governance,” as the Wall Street Journal put it. Massive data breaches at organizations in numerous sectors resulted in serious reputational damage and declining market values for top brands such as Equifax, Facebook, Marriott and Yahoo.\\n\\n\\n\\nWhy Data Governance is important ?\\n\\n\\tData governance is important because it goes beyond data management or master data management; it allows data citizens to access the right information and extract value from the data.\\n\\n\\tBreaks down departmental silos\\n\\n\\tDetermines policies\\n\\n\\tSupports the data stewardship process\\n\\n\\n\\n\\n\\nObjectives\\n\\nFor Data Science\\n\\n\\n\\nFor Data Governance\\n\\nImprove data quality\\n\\nImprove understanding of data within the school district\\n\\nIncrease use of data to make program and policy decision\\n\\nIncrease data security\\n\\nReduce operational friction\\n\\nEnsure Transparency of processes\\n\\n\\n\\n\\n\\n\\n\\n\\n\\n\\n\\n\\n\\n\\n\\n\\n\\n\\n\\n\\n\\n\\n\\n\\n\\n\\n\\n\\n\\n\\n\\n\\n\\n\\n\\nLITERATURE SURVEY\\n\\n\\n\\nSr no\\n\\nPublishing year\\n\\ntitle\\n\\nConference/ journal name\\n\\nRemarks \\n\\n1\\n\\n    2017\\n\\nFeatured Contributor\\n\\n Ravit Jain\\n\\nFor example, in 2017, researchers conducted a study in the Association for Information Science and Technology that was designed to generate data community building. Participants were prompted to join others in using the Body Listening Project, “a participatory platform in which participants were invited to engage collectively in the building of a public repository.” The platform gave users the opportunity to share their experiences about how they listen to their bodies and how they respond.\\n\\n\\n\\n2\\n\\n   2011\\n\\nZaloni surveyed\\n\\nResearch Triangle Park ,NC\\n\\n\\n\\nThe findings uncovered the leading reasons why organizations invest in data governance tools and technologies, how they overcome challenges with proper data governance, and how to accurately measure the ROI of data governance initiatives.\\n\\n\\n\\n3\\n\\n  2021\\n\\nA Survey Into Data Governance Tools\\n\\n\\n\\nKenneth Leung\\n\\nData stewards are the people who develop governance policies and procedures for the datasets in the organization. Data governance tools are vital enablers for the stewards to do their best work, and they form a key part of the governance framework.\\n\\n\\n\\n4\\n\\n2022\\n\\n\\n\\nAnaconda\\n\\nState of Data Science survey to gather demographic information about our community, ascertain how that community works, and collect insights into big questions and trends that are top of mind within the community.\\n\\n\\n\\n\\n\\n\\n\\n\\n\\n\\n\\n\\n\\n\\n\\n\\n\\n\\n\\n\\n\\n\\n\\n\\n\\n\\n\\n\\n\\n\\n\\n\\n\\n\\n\\n\\n\\n\\n\\n\\n\\nSYSTEM MODELING \\n\\nFlow chart\\n\\n\\n\\nData Governance process\\n\\n\\n\\n\\n\\nSoftware Platform\\n\\nFor Data Science\\n\\nSAS\\n\\nApache Spark\\n\\nBigML\\n\\nD3.js\\n\\nMATLAB\\n\\nExcel\\n\\nTensorFlow\\n\\nFor Data Governance\\n\\nAlation Data Catalog\\n\\nASG Enterprise Data Intelligence\\n\\nAtaccama ONE\\n\\nAtlan\\n\\nCollibra Platform\\n\\nClaravine\\n\\nEgnyte\\n\\n\\n\\n\\n\\n\\n\\t\\t\\t\\tAdvantages of Data Governance\\n\\nMaking data consistent.\\n\\nImproving data quality.\\n\\nMaking data accurate, complete.\\n\\nImproving business planning.\\n\\nImproving financial performance.\\n\\nMaximizing profits of the company.\\n\\n\\n\\n\\n\\nDisadvantages of Data Governance\\n\\nLack of Data Leadership.\\n\\nUnderstanding Business Value of Data Governance.\\n\\nRecognizing the Need / Pain Caused by Data.\\n\\nSenior Management Support, Sponsorship, and Understanding.\\n\\nBudgets and Ownership.\\n\\nPeople Think IT Owns the Data.\\n\\nLack of Data Documentation\\n\\n\\n\\nAdvantages of Data Science\\n\\nIt is Popular\\n\\nHigh Paying Career\\n\\nVersatile Field\\n\\nAmple Job Opportunities\\n\\nDisadvantages of Data Science\\n\\nData Security\\n\\nCost\\n\\nIt's nearly impossible to master data science\\n\\nDemands high knowledge of the domain\\n\\nArising of unexpected Results owing to arbitrary Data\\n\\n\\n\\nApplication of Data Science And Data Governance\\n\\nFor Data Governance\\n\\nFinance.\\n\\nData governance plays a crucial role in safeguarding accurate and consistent financial reports.\\n\\n\\n\\nLegal Matters.\\n\\nNo company today can escape digital standards and practices, and data governance helps businesses achieve compliance.\\n\\n\\n\\nSales.\\n\\nData governance provides trusted insights into customer behavior and habits.\\n\\n\\n\\nProduction/Manufacturing.\\n\\nArtificial intelligence and machine learning bring a new level of automation to the industrial sector. Data governance makes deployment more manageable and safer.\\n\\n\\n\\n\\n\\nFor Data Science\\n\\n\\xa0Healthcare\\n\\nHealthcare companies are using data science to build sophisticated medical instruments to detect and cure diseases.\\n\\n\\xa0Gaming\\n\\nVideo and computer games are now being created with the help of data science and that has taken the gaming experience to the next level.\\n\\n\\xa0Image Recognition\\n\\nIdentifying patterns in images and detecting objects in an image is one of the most popular data science applications.\\n\\n\\xa0Recommendation Systems\\n\\nNetflix and Amazon give movie and product recommendations based on what you like to watch, purchase, or browse on their platforms.\\n\\n\\xa0Fraud Detection\\n\\nBanking and financial institutions use data science and related algorithms to detect fraudulent transactions.\\xa0 \\xa0\\n\\nCONCLUSIONS\\n\\nFuture Scope\\n\\nAccording to an IBM report,\\xa0Data Science jobs would likely grow by 30 percent. The estimated figure of a job listing is 2,720,000 for Data Science in 2021. Also, according to the US Bureau of Labor Statistics, about\\xa011 million jobs will be created by 2026.Every organization wants to gain supreme profits. As data is the key factor in Data Science, every industry has realized that it requires Data Scientists to play with data to optimize its business profits. This is the reason for the popularity of Data Science jobs.\\n\\nData is arguably the most important asset that organizations have. Data governance helps to ensure that data is usable, accessible and protected. Effective data governance leads to better\\xa0data analytics, which in turn leads to better decision making and improved operations support. Further, it helps to avoid data inconsistencies or errors in data, which lead to integrity issues, poor decision making, and a variety of organizational problems.\\n\\nConclusion\\n\\nData governance as a discipline is not going away, and as organizations further strive to leverage data as a business asset, there will be continued and increasing pressures to protect and govern this asset. As noted, this adoption of governance will push IT, BI, and business alignment closer. As with any major business change, secure executive level support. Though this seems like a lot to ask, just imagine the alternative. Imagine competing in today’s business environment without data and clearly the value of governance becomes apparent.\\n\\n\\n\\nData science is emerging as a field that is revolutionizing science and industries alike. Work across nearly all domains is becoming more data driven, affecting both the jobs that are available and the skills that are required. As more data and ways of analyzing them become available, more aspects of the economy, society, and daily life will become dependent on data. It is imperative that educators, administrators, and students begin today to consider how to best prepare for and keep pace with this data-driven era of tomorrow. Undergraduate teaching, in particular, offers a critical link in offering more data science exposure to students and expanding the supply of data science talent.\\n\\n\\n\\n\\n\\nReferences\\n\\nhttps://slideplayer.com/slide/6405389/\\n\\nhttps://slideplayer.com/slide/6405380/\\n\\nhttps://subscription.packtpub.com/book/big-data-and-business-intelligence/9781788290678/2/ch02lvl1sec13/key-objectives-of-data-science\""
      ]
     },
     "execution_count": 6,
     "metadata": {},
     "output_type": "execute_result"
    }
   ],
   "source": [
    "docx2txt.process('report (2).docx')"
   ]
  },
  {
   "cell_type": "code",
   "execution_count": null,
   "id": "cb08cf31",
   "metadata": {},
   "outputs": [],
   "source": []
  },
  {
   "cell_type": "code",
   "execution_count": null,
   "id": "b2ad781b",
   "metadata": {},
   "outputs": [],
   "source": []
  }
 ],
 "metadata": {
  "kernelspec": {
   "display_name": "Python 3 (ipykernel)",
   "language": "python",
   "name": "python3"
  },
  "language_info": {
   "codemirror_mode": {
    "name": "ipython",
    "version": 3
   },
   "file_extension": ".py",
   "mimetype": "text/x-python",
   "name": "python",
   "nbconvert_exporter": "python",
   "pygments_lexer": "ipython3",
   "version": "3.9.12"
  }
 },
 "nbformat": 4,
 "nbformat_minor": 5
}
