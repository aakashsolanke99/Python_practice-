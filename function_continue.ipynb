{
 "cells": [
  {
   "cell_type": "markdown",
   "id": "6133f5be",
   "metadata": {},
   "source": [
    "## function "
   ]
  },
  {
   "cell_type": "code",
   "execution_count": 1,
   "id": "199a9c57",
   "metadata": {},
   "outputs": [],
   "source": [
    "def test1():\n",
    "    a=5+6\n",
    "    return a"
   ]
  },
  {
   "cell_type": "code",
   "execution_count": 2,
   "id": "15391cc0",
   "metadata": {},
   "outputs": [
    {
     "data": {
      "text/plain": [
       "11"
      ]
     },
     "execution_count": 2,
     "metadata": {},
     "output_type": "execute_result"
    }
   ],
   "source": [
    "test1()"
   ]
  },
  {
   "cell_type": "code",
   "execution_count": 3,
   "id": "42d86295",
   "metadata": {},
   "outputs": [],
   "source": [
    "def test2(a,b):\n",
    "    return a+b\n"
   ]
  },
  {
   "cell_type": "code",
   "execution_count": 4,
   "id": "eb699c8e",
   "metadata": {},
   "outputs": [
    {
     "data": {
      "text/plain": [
       "46"
      ]
     },
     "execution_count": 4,
     "metadata": {},
     "output_type": "execute_result"
    }
   ],
   "source": [
    "test2(12,34)"
   ]
  },
  {
   "cell_type": "code",
   "execution_count": 6,
   "id": "ca1fb92d",
   "metadata": {},
   "outputs": [
    {
     "data": {
      "text/plain": [
       "'aakashsolanke'"
      ]
     },
     "execution_count": 6,
     "metadata": {},
     "output_type": "execute_result"
    }
   ],
   "source": [
    "test2(\"aakash\",\"solanke\")"
   ]
  },
  {
   "cell_type": "code",
   "execution_count": 7,
   "id": "58924289",
   "metadata": {},
   "outputs": [
    {
     "data": {
      "text/plain": [
       "'shbdhabsdhb'"
      ]
     },
     "execution_count": 7,
     "metadata": {},
     "output_type": "execute_result"
    }
   ],
   "source": [
    "test2(a=\"shbd\",b=\"habsdhb\")"
   ]
  },
  {
   "cell_type": "code",
   "execution_count": 8,
   "id": "2634d684",
   "metadata": {},
   "outputs": [],
   "source": [
    "def test3(*args):   # what ever we pass it store in tuple\n",
    "    return args"
   ]
  },
  {
   "cell_type": "code",
   "execution_count": 9,
   "id": "9e687e42",
   "metadata": {},
   "outputs": [
    {
     "data": {
      "text/plain": [
       "(1, 2, 3, 4, 'aakash')"
      ]
     },
     "execution_count": 9,
     "metadata": {},
     "output_type": "execute_result"
    }
   ],
   "source": [
    "test3(1,2,3,4,\"aakash\")"
   ]
  },
  {
   "cell_type": "code",
   "execution_count": 11,
   "id": "47ae53a1",
   "metadata": {},
   "outputs": [
    {
     "data": {
      "text/plain": [
       "tuple"
      ]
     },
     "execution_count": 11,
     "metadata": {},
     "output_type": "execute_result"
    }
   ],
   "source": [
    "type(test3())"
   ]
  },
  {
   "cell_type": "code",
   "execution_count": 12,
   "id": "69e4b03f",
   "metadata": {},
   "outputs": [
    {
     "data": {
      "text/plain": [
       "([1, 23, 3, 4, 56], 'ashj', 'ujsdh', (2, 3, 5, 6))"
      ]
     },
     "execution_count": 12,
     "metadata": {},
     "output_type": "execute_result"
    }
   ],
   "source": [
    "test3([1,23,3,4,56],\"ashj\",\"ujsdh\",(2,3,5,6))"
   ]
  },
  {
   "cell_type": "code",
   "execution_count": 13,
   "id": "6a096677",
   "metadata": {},
   "outputs": [],
   "source": [
    "def test4(*args):\n",
    "    return list(args)    # convert in the list"
   ]
  },
  {
   "cell_type": "code",
   "execution_count": 14,
   "id": "b18e23b0",
   "metadata": {},
   "outputs": [
    {
     "data": {
      "text/plain": [
       "[[1, 23, 3, 4, 56], 'ashj', 'ujsdh', (2, 3, 5, 6)]"
      ]
     },
     "execution_count": 14,
     "metadata": {},
     "output_type": "execute_result"
    }
   ],
   "source": [
    "test4([1,23,3,4,56],\"ashj\",\"ujsdh\",(2,3,5,6))"
   ]
  },
  {
   "cell_type": "code",
   "execution_count": 18,
   "id": "0b48ba89",
   "metadata": {},
   "outputs": [],
   "source": [
    "def test5(*args):\n",
    "    l=[]\n",
    "    for i in args:\n",
    "        l.append(i)\n",
    "    return l"
   ]
  },
  {
   "cell_type": "code",
   "execution_count": 19,
   "id": "c17b196e",
   "metadata": {},
   "outputs": [
    {
     "data": {
      "text/plain": [
       "[2, 3, 5]"
      ]
     },
     "execution_count": 19,
     "metadata": {},
     "output_type": "execute_result"
    }
   ],
   "source": [
    "test5(2,3,5)"
   ]
  },
  {
   "cell_type": "code",
   "execution_count": 20,
   "id": "4e699167",
   "metadata": {},
   "outputs": [],
   "source": [
    "def test6(*sudh):\n",
    "    return list(sudh)"
   ]
  },
  {
   "cell_type": "code",
   "execution_count": 22,
   "id": "69295415",
   "metadata": {},
   "outputs": [
    {
     "data": {
      "text/plain": [
       "['asj', 'absdj']"
      ]
     },
     "execution_count": 22,
     "metadata": {},
     "output_type": "execute_result"
    }
   ],
   "source": [
    "test6(\"asj\",\"absdj\")"
   ]
  },
  {
   "cell_type": "code",
   "execution_count": null,
   "id": "deca3a75",
   "metadata": {},
   "outputs": [],
   "source": []
  },
  {
   "cell_type": "markdown",
   "id": "df75b2e6",
   "metadata": {},
   "source": [
    "## Ditionary "
   ]
  },
  {
   "cell_type": "code",
   "execution_count": 23,
   "id": "0930b634",
   "metadata": {},
   "outputs": [],
   "source": [
    "l=[1,2,3,4,5,6,7]\n",
    "t=(1,23,5,6,8,7)\n",
    "s={1,2,234,45,46,1,2,3,4,5,4,3,4,4}"
   ]
  },
  {
   "cell_type": "code",
   "execution_count": 24,
   "id": "01ac6a52",
   "metadata": {},
   "outputs": [
    {
     "data": {
      "text/plain": [
       "{1, 2, 3, 4, 5, 45, 46, 234}"
      ]
     },
     "execution_count": 24,
     "metadata": {},
     "output_type": "execute_result"
    }
   ],
   "source": [
    "s"
   ]
  },
  {
   "cell_type": "code",
   "execution_count": 25,
   "id": "eb155898",
   "metadata": {},
   "outputs": [
    {
     "data": {
      "text/plain": [
       "[1, 2, 3, 4, 5, 6, 7]"
      ]
     },
     "execution_count": 25,
     "metadata": {},
     "output_type": "execute_result"
    }
   ],
   "source": [
    "l"
   ]
  },
  {
   "cell_type": "code",
   "execution_count": 26,
   "id": "d05a0085",
   "metadata": {},
   "outputs": [
    {
     "data": {
      "text/plain": [
       "(1, 23, 5, 6, 8, 7)"
      ]
     },
     "execution_count": 26,
     "metadata": {},
     "output_type": "execute_result"
    }
   ],
   "source": [
    "t"
   ]
  },
  {
   "cell_type": "code",
   "execution_count": 27,
   "id": "b2de1ec0",
   "metadata": {},
   "outputs": [
    {
     "data": {
      "text/plain": [
       "dict"
      ]
     },
     "execution_count": 27,
     "metadata": {},
     "output_type": "execute_result"
    }
   ],
   "source": [
    "d= {}\n",
    "type(d)"
   ]
  },
  {
   "cell_type": "code",
   "execution_count": 36,
   "id": "3628a401",
   "metadata": {},
   "outputs": [
    {
     "data": {
      "text/plain": [
       "set"
      ]
     },
     "execution_count": 36,
     "metadata": {},
     "output_type": "execute_result"
    }
   ],
   "source": [
    "d1={2,34,5}\n",
    "type(d1)"
   ]
  },
  {
   "cell_type": "code",
   "execution_count": 37,
   "id": "10befcc9",
   "metadata": {},
   "outputs": [],
   "source": [
    "d2={\"key1\":\"sudh\",\"key2\":[2,3,45,4]}"
   ]
  },
  {
   "cell_type": "code",
   "execution_count": 38,
   "id": "0e3bc143",
   "metadata": {},
   "outputs": [
    {
     "data": {
      "text/plain": [
       "{'key1': 'sudh', 'key2': [2, 3, 45, 4]}"
      ]
     },
     "execution_count": 38,
     "metadata": {},
     "output_type": "execute_result"
    }
   ],
   "source": [
    "d2"
   ]
  },
  {
   "cell_type": "code",
   "execution_count": 39,
   "id": "c511b987",
   "metadata": {},
   "outputs": [],
   "source": [
    "d3={12345:\"aakash\"}"
   ]
  },
  {
   "cell_type": "code",
   "execution_count": 40,
   "id": "9effd8ee",
   "metadata": {},
   "outputs": [
    {
     "data": {
      "text/plain": [
       "{12345: 'aakash'}"
      ]
     },
     "execution_count": 40,
     "metadata": {},
     "output_type": "execute_result"
    }
   ],
   "source": [
    "d3"
   ]
  },
  {
   "cell_type": "code",
   "execution_count": 43,
   "id": "dd9b351a",
   "metadata": {},
   "outputs": [
    {
     "ename": "SyntaxError",
     "evalue": "invalid syntax (1588181249.py, line 1)",
     "output_type": "error",
     "traceback": [
      "\u001b[1;36m  Input \u001b[1;32mIn [43]\u001b[1;36m\u001b[0m\n\u001b[1;33m    d4 ={@:\"sksjd\"}   #not work special charcter\u001b[0m\n\u001b[1;37m         ^\u001b[0m\n\u001b[1;31mSyntaxError\u001b[0m\u001b[1;31m:\u001b[0m invalid syntax\n"
     ]
    }
   ],
   "source": [
    "d4 ={@:\"sksjd\"}   #not work special charcter"
   ]
  },
  {
   "cell_type": "code",
   "execution_count": 45,
   "id": "a101c69e",
   "metadata": {},
   "outputs": [],
   "source": [
    "d4 = {\"#askj\":\"jdbd\"}"
   ]
  },
  {
   "cell_type": "code",
   "execution_count": 46,
   "id": "ef15214a",
   "metadata": {},
   "outputs": [
    {
     "data": {
      "text/plain": [
       "{'#askj': 'jdbd'}"
      ]
     },
     "execution_count": 46,
     "metadata": {},
     "output_type": "execute_result"
    }
   ],
   "source": [
    "d4"
   ]
  },
  {
   "cell_type": "code",
   "execution_count": 47,
   "id": "71f039da",
   "metadata": {},
   "outputs": [
    {
     "ename": "TypeError",
     "evalue": "unhashable type: 'list'",
     "output_type": "error",
     "traceback": [
      "\u001b[1;31m---------------------------------------------------------------------------\u001b[0m",
      "\u001b[1;31mTypeError\u001b[0m                                 Traceback (most recent call last)",
      "Input \u001b[1;32mIn [47]\u001b[0m, in \u001b[0;36m<cell line: 1>\u001b[1;34m()\u001b[0m\n\u001b[1;32m----> 1\u001b[0m d5 \u001b[38;5;241m=\u001b[39m{[\u001b[38;5;241m1\u001b[39m,\u001b[38;5;241m2\u001b[39m,\u001b[38;5;241m34\u001b[39m,\u001b[38;5;241m5\u001b[39m]:\u001b[38;5;124m\"\u001b[39m\u001b[38;5;124maakash\u001b[39m\u001b[38;5;124m\"\u001b[39m}\n",
      "\u001b[1;31mTypeError\u001b[0m: unhashable type: 'list'"
     ]
    }
   ],
   "source": [
    "d5 ={[1,2,34,5]:\"aakash\"}   # list as key not alow"
   ]
  },
  {
   "cell_type": "code",
   "execution_count": 48,
   "id": "13a3f060",
   "metadata": {},
   "outputs": [],
   "source": [
    "d6 ={(1,2,23,45):\"aakash\"}  # tuple is allow to use as key"
   ]
  },
  {
   "cell_type": "code",
   "execution_count": 49,
   "id": "f9866b25",
   "metadata": {},
   "outputs": [
    {
     "data": {
      "text/plain": [
       "{(1, 2, 23, 45): 'aakash'}"
      ]
     },
     "execution_count": 49,
     "metadata": {},
     "output_type": "execute_result"
    }
   ],
   "source": [
    "d6"
   ]
  },
  {
   "cell_type": "code",
   "execution_count": 54,
   "id": "f18b606a",
   "metadata": {},
   "outputs": [],
   "source": [
    "d7 = {\"name\":\"aaksh solanke\",\"org\":\"ineuron\",\"mail id\":\"aakshsolank99gmail.com\",\"name\":\"aaksh\",\"name1\":\"aakash\"}"
   ]
  },
  {
   "cell_type": "code",
   "execution_count": 55,
   "id": "46976338",
   "metadata": {},
   "outputs": [
    {
     "data": {
      "text/plain": [
       "{'name': 'aaksh',\n",
       " 'org': 'ineuron',\n",
       " 'mail id': 'aakshsolank99gmail.com',\n",
       " 'name1': 'aakash'}"
      ]
     },
     "execution_count": 55,
     "metadata": {},
     "output_type": "execute_result"
    }
   ],
   "source": [
    "d7   # in dictionary key is not allow to repeat (duplicate)\n",
    "\n",
    "# it try to use latest value  thats why it give aaksh"
   ]
  },
  {
   "cell_type": "code",
   "execution_count": 57,
   "id": "3ab29131",
   "metadata": {},
   "outputs": [],
   "source": [
    "d8 = {\"name\":\"aakash\",\"mentor\":{\"fsds\":\"imran\",\"fsda\":\"ananad\",\"bigdata\":\"shashank\"}}"
   ]
  },
  {
   "cell_type": "code",
   "execution_count": 58,
   "id": "80ab6d87",
   "metadata": {},
   "outputs": [
    {
     "data": {
      "text/plain": [
       "{'name': 'aakash',\n",
       " 'mentor': {'fsds': 'imran', 'fsda': 'ananad', 'bigdata': 'shashank'}}"
      ]
     },
     "execution_count": 58,
     "metadata": {},
     "output_type": "execute_result"
    }
   ],
   "source": [
    "d8"
   ]
  },
  {
   "cell_type": "code",
   "execution_count": 61,
   "id": "84d15c83",
   "metadata": {},
   "outputs": [
    {
     "data": {
      "text/plain": [
       "'aakshsolank99gmail.com'"
      ]
     },
     "execution_count": 61,
     "metadata": {},
     "output_type": "execute_result"
    }
   ],
   "source": [
    "d7[\"mail id\"]"
   ]
  },
  {
   "cell_type": "code",
   "execution_count": 62,
   "id": "53f7c77c",
   "metadata": {},
   "outputs": [
    {
     "ename": "KeyError",
     "evalue": "2",
     "output_type": "error",
     "traceback": [
      "\u001b[1;31m---------------------------------------------------------------------------\u001b[0m",
      "\u001b[1;31mKeyError\u001b[0m                                  Traceback (most recent call last)",
      "Input \u001b[1;32mIn [62]\u001b[0m, in \u001b[0;36m<cell line: 1>\u001b[1;34m()\u001b[0m\n\u001b[1;32m----> 1\u001b[0m \u001b[43md7\u001b[49m\u001b[43m[\u001b[49m\u001b[38;5;241;43m2\u001b[39;49m\u001b[43m]\u001b[49m\n",
      "\u001b[1;31mKeyError\u001b[0m: 2"
     ]
    }
   ],
   "source": [
    "d7[2]"
   ]
  },
  {
   "cell_type": "code",
   "execution_count": 73,
   "id": "3047a41f",
   "metadata": {},
   "outputs": [
    {
     "data": {
      "text/plain": [
       "'shashank'"
      ]
     },
     "execution_count": 73,
     "metadata": {},
     "output_type": "execute_result"
    }
   ],
   "source": [
    "d8[\"mentor\"][\"bigdata\"]"
   ]
  },
  {
   "cell_type": "code",
   "execution_count": 74,
   "id": "bcb93964",
   "metadata": {},
   "outputs": [
    {
     "ename": "TypeError",
     "evalue": "'dict_keys' object is not callable",
     "output_type": "error",
     "traceback": [
      "\u001b[1;31m---------------------------------------------------------------------------\u001b[0m",
      "\u001b[1;31mTypeError\u001b[0m                                 Traceback (most recent call last)",
      "Input \u001b[1;32mIn [74]\u001b[0m, in \u001b[0;36m<cell line: 1>\u001b[1;34m()\u001b[0m\n\u001b[1;32m----> 1\u001b[0m \u001b[38;5;28;43mlist\u001b[39;49m\u001b[43m(\u001b[49m\u001b[43md7\u001b[49m\u001b[38;5;241;43m.\u001b[39;49m\u001b[43mkeys\u001b[49m\u001b[43m(\u001b[49m\u001b[43m)\u001b[49m\u001b[43m)\u001b[49m\n",
      "\u001b[1;31mTypeError\u001b[0m: 'dict_keys' object is not callable"
     ]
    }
   ],
   "source": [
    "list(d7.keys())  #dou"
   ]
  },
  {
   "cell_type": "code",
   "execution_count": 71,
   "id": "45c592ef",
   "metadata": {},
   "outputs": [
    {
     "data": {
      "text/plain": [
       "dict_values(['aaksh', 'ineuron', 'aakshsolank99gmail.com', 'aakash'])"
      ]
     },
     "execution_count": 71,
     "metadata": {},
     "output_type": "execute_result"
    }
   ],
   "source": [
    "d7.values()"
   ]
  },
  {
   "cell_type": "code",
   "execution_count": 72,
   "id": "43d9857f",
   "metadata": {},
   "outputs": [
    {
     "data": {
      "text/plain": [
       "dict_items([('name', 'aaksh'), ('org', 'ineuron'), ('mail id', 'aakshsolank99gmail.com'), ('name1', 'aakash')])"
      ]
     },
     "execution_count": 72,
     "metadata": {},
     "output_type": "execute_result"
    }
   ],
   "source": [
    "d7.items()"
   ]
  },
  {
   "cell_type": "code",
   "execution_count": 75,
   "id": "6dbddc78",
   "metadata": {},
   "outputs": [
    {
     "data": {
      "text/plain": [
       "{'name': 'aakash',\n",
       " 'mentor': {'fsds': 'imran', 'fsda': 'ananad', 'bigdata': 'shashank'}}"
      ]
     },
     "execution_count": 75,
     "metadata": {},
     "output_type": "execute_result"
    }
   ],
   "source": [
    "d8"
   ]
  },
  {
   "cell_type": "code",
   "execution_count": 90,
   "id": "cebcfdc2",
   "metadata": {},
   "outputs": [
    {
     "data": {
      "text/plain": [
       "dict_values(['imran', 'ananad', 'shashank'])"
      ]
     },
     "execution_count": 90,
     "metadata": {},
     "output_type": "execute_result"
    }
   ],
   "source": [
    "d8[\"mentor\"].values()"
   ]
  },
  {
   "cell_type": "code",
   "execution_count": 91,
   "id": "20827dc1",
   "metadata": {},
   "outputs": [],
   "source": [
    "l=[]\n",
    "for i in d8.keys():\n",
    "    if type(d8[i]) == dict:\n",
    "        l.append(d8[i].values())"
   ]
  },
  {
   "cell_type": "code",
   "execution_count": 92,
   "id": "84a08b92",
   "metadata": {},
   "outputs": [
    {
     "data": {
      "text/plain": [
       "[dict_values(['imran', 'ananad', 'shashank'])]"
      ]
     },
     "execution_count": 92,
     "metadata": {},
     "output_type": "execute_result"
    }
   ],
   "source": [
    "l"
   ]
  },
  {
   "cell_type": "code",
   "execution_count": 93,
   "id": "fe3c7af7",
   "metadata": {},
   "outputs": [],
   "source": [
    "d9={'name': 'aakash',\n",
    " 'mentor': {'fsds': 'imran', 'fsda': 'ananad', 'bigdata': 'shashank'},\"mail id\":{\"imran\":\"imran@123gmail.com\",\"shashank\":\"shashank@123gmail.com\",\"ananad\":\"ananad@123gmail.com\"}}"
   ]
  },
  {
   "cell_type": "code",
   "execution_count": 94,
   "id": "f08c387e",
   "metadata": {},
   "outputs": [
    {
     "data": {
      "text/plain": [
       "{'name': 'aakash',\n",
       " 'mentor': {'fsds': 'imran', 'fsda': 'ananad', 'bigdata': 'shashank'},\n",
       " 'mail id': {'imran': 'imran@123gmail.com',\n",
       "  'shashank': 'shashank@123gmail.com',\n",
       "  'ananad': 'ananad@123gmail.com'}}"
      ]
     },
     "execution_count": 94,
     "metadata": {},
     "output_type": "execute_result"
    }
   ],
   "source": [
    "d9"
   ]
  },
  {
   "cell_type": "code",
   "execution_count": 95,
   "id": "84cf6f44",
   "metadata": {},
   "outputs": [],
   "source": [
    "l=[]\n",
    "for i in d9.keys():\n",
    "    if type(d9[i]) == dict:\n",
    "        l.append(d9[i].values())"
   ]
  },
  {
   "cell_type": "code",
   "execution_count": 96,
   "id": "96ce820f",
   "metadata": {},
   "outputs": [
    {
     "data": {
      "text/plain": [
       "[dict_values(['imran', 'ananad', 'shashank']),\n",
       " dict_values(['imran@123gmail.com', 'shashank@123gmail.com', 'ananad@123gmail.com'])]"
      ]
     },
     "execution_count": 96,
     "metadata": {},
     "output_type": "execute_result"
    }
   ],
   "source": [
    "l"
   ]
  },
  {
   "cell_type": "code",
   "execution_count": 97,
   "id": "d1d66133",
   "metadata": {},
   "outputs": [],
   "source": [
    "def test9(d):\n",
    "    l=[]\n",
    "    for i in d9.keys():\n",
    "        if type(d9[i]) == dict:\n",
    "            l.append(d9[i].values())\n",
    "    return l"
   ]
  },
  {
   "cell_type": "code",
   "execution_count": 98,
   "id": "0c4453eb",
   "metadata": {},
   "outputs": [
    {
     "data": {
      "text/plain": [
       "[dict_values(['imran', 'ananad', 'shashank']),\n",
       " dict_values(['imran@123gmail.com', 'shashank@123gmail.com', 'ananad@123gmail.com'])]"
      ]
     },
     "execution_count": 98,
     "metadata": {},
     "output_type": "execute_result"
    }
   ],
   "source": [
    "test9(d8)   #dou"
   ]
  },
  {
   "cell_type": "code",
   "execution_count": 214,
   "id": "a1852c9e",
   "metadata": {},
   "outputs": [
    {
     "data": {
      "text/plain": [
       "{'monile no': (1213, 423, 436457), 'name': 'aakash'}"
      ]
     },
     "execution_count": 214,
     "metadata": {},
     "output_type": "execute_result"
    }
   ],
   "source": [
    "d8"
   ]
  },
  {
   "cell_type": "code",
   "execution_count": 99,
   "id": "fa5969e1",
   "metadata": {},
   "outputs": [
    {
     "data": {
      "text/plain": [
       "[dict_values(['imran', 'ananad', 'shashank']),\n",
       " dict_values(['imran@123gmail.com', 'shashank@123gmail.com', 'ananad@123gmail.com'])]"
      ]
     },
     "execution_count": 99,
     "metadata": {},
     "output_type": "execute_result"
    }
   ],
   "source": [
    "test9(d9)"
   ]
  },
  {
   "cell_type": "code",
   "execution_count": 101,
   "id": "ca6ac010",
   "metadata": {},
   "outputs": [],
   "source": [
    "d8[\"monile no\"]= (1213,423,436457)"
   ]
  },
  {
   "cell_type": "code",
   "execution_count": 102,
   "id": "0d8555f2",
   "metadata": {},
   "outputs": [
    {
     "data": {
      "text/plain": [
       "{'name': 'aakash',\n",
       " 'mentor': {'fsds': 'imran', 'fsda': 'ananad', 'bigdata': 'shashank'},\n",
       " 'monile no': (1213, 423, 436457)}"
      ]
     },
     "execution_count": 102,
     "metadata": {},
     "output_type": "execute_result"
    }
   ],
   "source": [
    "d8"
   ]
  },
  {
   "cell_type": "code",
   "execution_count": 103,
   "id": "6365d173",
   "metadata": {},
   "outputs": [],
   "source": [
    "d8[\"name\"]=\"solanke \""
   ]
  },
  {
   "cell_type": "code",
   "execution_count": 104,
   "id": "64dca614",
   "metadata": {},
   "outputs": [
    {
     "data": {
      "text/plain": [
       "{'name': 'solanke ',\n",
       " 'mentor': {'fsds': 'imran', 'fsda': 'ananad', 'bigdata': 'shashank'},\n",
       " 'monile no': (1213, 423, 436457)}"
      ]
     },
     "execution_count": 104,
     "metadata": {},
     "output_type": "execute_result"
    }
   ],
   "source": [
    "d8"
   ]
  },
  {
   "cell_type": "code",
   "execution_count": 105,
   "id": "06096e20",
   "metadata": {},
   "outputs": [],
   "source": [
    "del d8[\"name\"]"
   ]
  },
  {
   "cell_type": "code",
   "execution_count": 106,
   "id": "74399c61",
   "metadata": {},
   "outputs": [
    {
     "data": {
      "text/plain": [
       "{'mentor': {'fsds': 'imran', 'fsda': 'ananad', 'bigdata': 'shashank'},\n",
       " 'monile no': (1213, 423, 436457)}"
      ]
     },
     "execution_count": 106,
     "metadata": {},
     "output_type": "execute_result"
    }
   ],
   "source": [
    "d8"
   ]
  },
  {
   "cell_type": "code",
   "execution_count": 109,
   "id": "230ca894",
   "metadata": {},
   "outputs": [
    {
     "data": {
      "text/plain": [
       "{'fsds': 'imran', 'fsda': 'ananad', 'bigdata': 'shashank'}"
      ]
     },
     "execution_count": 109,
     "metadata": {},
     "output_type": "execute_result"
    }
   ],
   "source": [
    "d8.pop(\"mentor\")"
   ]
  },
  {
   "cell_type": "code",
   "execution_count": 110,
   "id": "8260ad50",
   "metadata": {},
   "outputs": [
    {
     "data": {
      "text/plain": [
       "{'monile no': (1213, 423, 436457)}"
      ]
     },
     "execution_count": 110,
     "metadata": {},
     "output_type": "execute_result"
    }
   ],
   "source": [
    "d8"
   ]
  },
  {
   "cell_type": "code",
   "execution_count": 111,
   "id": "57d647bd",
   "metadata": {},
   "outputs": [],
   "source": [
    "d8[\"name\"]=\"aakash\""
   ]
  },
  {
   "cell_type": "code",
   "execution_count": 112,
   "id": "81931bba",
   "metadata": {},
   "outputs": [
    {
     "data": {
      "text/plain": [
       "{'monile no': (1213, 423, 436457), 'name': 'aakash'}"
      ]
     },
     "execution_count": 112,
     "metadata": {},
     "output_type": "execute_result"
    }
   ],
   "source": [
    "d8"
   ]
  },
  {
   "cell_type": "markdown",
   "id": "d4743a96",
   "metadata": {},
   "source": [
    "### Function"
   ]
  },
  {
   "cell_type": "code",
   "execution_count": 117,
   "id": "9b32f002",
   "metadata": {},
   "outputs": [],
   "source": [
    "def test10(**kwargs):    ## for ** it give dictionary and for * give tuple\n",
    "    return kwargs\n",
    "    "
   ]
  },
  {
   "cell_type": "code",
   "execution_count": 118,
   "id": "16a04cd8",
   "metadata": {},
   "outputs": [
    {
     "data": {
      "text/plain": [
       "{'a': 4, 'b': 5, 'c': 6, 'd': 7, 'sudh': [4, 5, 6, 8, 44]}"
      ]
     },
     "execution_count": 118,
     "metadata": {},
     "output_type": "execute_result"
    }
   ],
   "source": [
    "test10(a=4,b=5,c=6,d=7,sudh=[4,5,6,8,44])"
   ]
  },
  {
   "cell_type": "code",
   "execution_count": 119,
   "id": "f2271572",
   "metadata": {},
   "outputs": [],
   "source": [
    "def test11(**aka):    ## for ** it give dictionary and for * give tuple\n",
    "    return aka\n",
    "    "
   ]
  },
  {
   "cell_type": "code",
   "execution_count": 123,
   "id": "e433fb9f",
   "metadata": {},
   "outputs": [
    {
     "data": {
      "text/plain": [
       "{'a': 334, 'c': 34}"
      ]
     },
     "execution_count": 123,
     "metadata": {},
     "output_type": "execute_result"
    }
   ],
   "source": [
    "test11(a=334,c=34)"
   ]
  },
  {
   "cell_type": "code",
   "execution_count": null,
   "id": "a166b7cf",
   "metadata": {},
   "outputs": [],
   "source": []
  },
  {
   "cell_type": "code",
   "execution_count": 128,
   "id": "530852b2",
   "metadata": {},
   "outputs": [],
   "source": [
    "def test12(a):\n",
    "    return a\n",
    "\n",
    "def test13(b):\n",
    "    return b\n",
    "\n",
    "def test14(func):\n",
    "    return func(\"aakash\")"
   ]
  },
  {
   "cell_type": "code",
   "execution_count": 129,
   "id": "0a9fdf92",
   "metadata": {},
   "outputs": [
    {
     "data": {
      "text/plain": [
       "'aakash'"
      ]
     },
     "execution_count": 129,
     "metadata": {},
     "output_type": "execute_result"
    }
   ],
   "source": [
    "test14(test12)"
   ]
  },
  {
   "cell_type": "code",
   "execution_count": 130,
   "id": "406e971d",
   "metadata": {},
   "outputs": [
    {
     "data": {
      "text/plain": [
       "'aakash'"
      ]
     },
     "execution_count": 130,
     "metadata": {},
     "output_type": "execute_result"
    }
   ],
   "source": [
    "test14(test13)"
   ]
  },
  {
   "cell_type": "code",
   "execution_count": 146,
   "id": "ef77550d",
   "metadata": {},
   "outputs": [],
   "source": [
    "def test12(a):\n",
    "    return a\n",
    "\n",
    "def test13():         # we are not passing any thing in function\n",
    "    return \"sudh\"\n",
    "\n",
    "def test14(func):\n",
    "    return func(\"sudh\")"
   ]
  },
  {
   "cell_type": "code",
   "execution_count": 147,
   "id": "0de893fe",
   "metadata": {},
   "outputs": [
    {
     "data": {
      "text/plain": [
       "'sudh'"
      ]
     },
     "execution_count": 147,
     "metadata": {},
     "output_type": "execute_result"
    }
   ],
   "source": [
    "test14(test12)"
   ]
  },
  {
   "cell_type": "code",
   "execution_count": 148,
   "id": "d752eb77",
   "metadata": {},
   "outputs": [
    {
     "ename": "TypeError",
     "evalue": "test13() takes 0 positional arguments but 1 was given",
     "output_type": "error",
     "traceback": [
      "\u001b[1;31m---------------------------------------------------------------------------\u001b[0m",
      "\u001b[1;31mTypeError\u001b[0m                                 Traceback (most recent call last)",
      "Input \u001b[1;32mIn [148]\u001b[0m, in \u001b[0;36m<cell line: 1>\u001b[1;34m()\u001b[0m\n\u001b[1;32m----> 1\u001b[0m \u001b[43mtest14\u001b[49m\u001b[43m(\u001b[49m\u001b[43mtest13\u001b[49m\u001b[43m)\u001b[49m\n",
      "Input \u001b[1;32mIn [146]\u001b[0m, in \u001b[0;36mtest14\u001b[1;34m(func)\u001b[0m\n\u001b[0;32m      7\u001b[0m \u001b[38;5;28;01mdef\u001b[39;00m \u001b[38;5;21mtest14\u001b[39m(func):\n\u001b[1;32m----> 8\u001b[0m     \u001b[38;5;28;01mreturn\u001b[39;00m \u001b[43mfunc\u001b[49m\u001b[43m(\u001b[49m\u001b[38;5;124;43m\"\u001b[39;49m\u001b[38;5;124;43msudh\u001b[39;49m\u001b[38;5;124;43m\"\u001b[39;49m\u001b[43m)\u001b[49m\n",
      "\u001b[1;31mTypeError\u001b[0m: test13() takes 0 positional arguments but 1 was given"
     ]
    }
   ],
   "source": [
    "test14(test13)"
   ]
  },
  {
   "cell_type": "code",
   "execution_count": 165,
   "id": "9a727c90",
   "metadata": {},
   "outputs": [],
   "source": [
    "def test12(a):\n",
    "    return a\n",
    "\n",
    "def test13(*args):   # we are not passing any thing in function\n",
    "    print(\"this is return of test13\")\n",
    "\n",
    "def test14(func):\n",
    "    return func(\"sudh\")"
   ]
  },
  {
   "cell_type": "code",
   "execution_count": 166,
   "id": "8c0da7fe",
   "metadata": {},
   "outputs": [
    {
     "name": "stdout",
     "output_type": "stream",
     "text": [
      "this is return of test13\n"
     ]
    }
   ],
   "source": [
    "test14(test13)"
   ]
  },
  {
   "cell_type": "code",
   "execution_count": 167,
   "id": "bbc564b5",
   "metadata": {},
   "outputs": [],
   "source": [
    "def test15(a):\n",
    "    print(\"this is my test 15\")\n",
    "    \n",
    "    def test16():\n",
    "        print(\"this is test 16\")\n",
    "        \n",
    "    def test17():\n",
    "        print(\"this is my test 17\")\n",
    "        \n",
    "    if a==\"sudh\":\n",
    "        return test16()\n",
    "    elif a== \"kumar\":\n",
    "        return test17()"
   ]
  },
  {
   "cell_type": "code",
   "execution_count": 168,
   "id": "47f9dbc1",
   "metadata": {},
   "outputs": [
    {
     "name": "stdout",
     "output_type": "stream",
     "text": [
      "this is my test 15\n",
      "this is test 16\n"
     ]
    }
   ],
   "source": [
    "test15(\"sudh\")"
   ]
  },
  {
   "cell_type": "code",
   "execution_count": 169,
   "id": "4adf2f60",
   "metadata": {},
   "outputs": [
    {
     "name": "stdout",
     "output_type": "stream",
     "text": [
      "this is my test 15\n",
      "this is my test 17\n"
     ]
    }
   ],
   "source": [
    "test15(\"kumar\")"
   ]
  },
  {
   "cell_type": "code",
   "execution_count": 170,
   "id": "23c59ab4",
   "metadata": {},
   "outputs": [],
   "source": [
    "def test18(func):\n",
    "    def test19():\n",
    "        print(\"i am inside test19\")\n",
    "        func()     #its calling test13\n",
    "    return test19()"
   ]
  },
  {
   "cell_type": "code",
   "execution_count": 171,
   "id": "c0d31c8b",
   "metadata": {},
   "outputs": [
    {
     "name": "stdout",
     "output_type": "stream",
     "text": [
      "i am inside test19\n",
      "this is return of test13\n"
     ]
    }
   ],
   "source": [
    "test18(test13)"
   ]
  },
  {
   "cell_type": "code",
   "execution_count": 172,
   "id": "491429e5",
   "metadata": {},
   "outputs": [],
   "source": [
    "def test18(func):\n",
    "    def test19():\n",
    "        print(\"i am inside test19\")\n",
    "      #  func()     #its calling test13\n",
    "    return test19()"
   ]
  },
  {
   "cell_type": "code",
   "execution_count": 173,
   "id": "5a9f2e2e",
   "metadata": {},
   "outputs": [
    {
     "name": "stdout",
     "output_type": "stream",
     "text": [
      "i am inside test19\n"
     ]
    }
   ],
   "source": [
    "test18(test13)"
   ]
  },
  {
   "cell_type": "markdown",
   "id": "bbf14373",
   "metadata": {},
   "source": [
    "## Decorators"
   ]
  },
  {
   "cell_type": "code",
   "execution_count": 182,
   "id": "50570530",
   "metadata": {},
   "outputs": [],
   "source": [
    "import os\n",
    "def test18(func):\n",
    "    def test19():\n",
    "        print(\"i am inside test19 and this will behave a decorator to any function that i going to call \")\n",
    "        print(os.getcwd())\n",
    "        func()     #its calling test13\n",
    "    return test19"
   ]
  },
  {
   "cell_type": "code",
   "execution_count": 183,
   "id": "3092a760",
   "metadata": {},
   "outputs": [],
   "source": [
    "@test18   # decorator @ = pie\n",
    "def test20():\n",
    "    print(\"this is my test20\")"
   ]
  },
  {
   "cell_type": "code",
   "execution_count": 184,
   "id": "7b2b81ed",
   "metadata": {},
   "outputs": [
    {
     "name": "stdout",
     "output_type": "stream",
     "text": [
      "i am inside test19 and this will behave a decorator to any function that i going to call \n",
      "C:\\Users\\aakas\\Documents\\INeuron\n",
      "this is my test20\n"
     ]
    }
   ],
   "source": [
    "test20()"
   ]
  },
  {
   "cell_type": "code",
   "execution_count": 185,
   "id": "5d6439a9",
   "metadata": {},
   "outputs": [
    {
     "data": {
      "text/plain": [
       "'C:\\\\Users\\\\aakas\\\\Documents\\\\INeuron'"
      ]
     },
     "execution_count": 185,
     "metadata": {},
     "output_type": "execute_result"
    }
   ],
   "source": [
    "pwd"
   ]
  },
  {
   "cell_type": "code",
   "execution_count": 186,
   "id": "ffc36156",
   "metadata": {},
   "outputs": [],
   "source": [
    "def test20(func):\n",
    "    def test21():\n",
    "        func()\n",
    "        print(os.getcwd())\n",
    "    return test21"
   ]
  },
  {
   "cell_type": "code",
   "execution_count": 191,
   "id": "2596a41a",
   "metadata": {},
   "outputs": [],
   "source": [
    "@test18\n",
    "@test20\n",
    "def test22():\n",
    "    print(\"this will print inside test22\")"
   ]
  },
  {
   "cell_type": "code",
   "execution_count": 192,
   "id": "907cface",
   "metadata": {},
   "outputs": [
    {
     "name": "stdout",
     "output_type": "stream",
     "text": [
      "i am inside test19 and this will behave a decorator to any function that i going to call \n",
      "C:\\Users\\aakas\\Documents\\INeuron\n",
      "this will print inside test22\n",
      "C:\\Users\\aakas\\Documents\\INeuron\n"
     ]
    }
   ],
   "source": [
    "test22()"
   ]
  },
  {
   "cell_type": "code",
   "execution_count": 215,
   "id": "a8527eee",
   "metadata": {},
   "outputs": [
    {
     "name": "stdout",
     "output_type": "stream",
     "text": [
      "1668255460.7834373\n",
      "1668255460.7844384\n"
     ]
    }
   ],
   "source": [
    "import time \n",
    "\n",
    "start =time.time()\n",
    "print(start)\n",
    "end=time.time()\n",
    "print(end)"
   ]
  },
  {
   "cell_type": "code",
   "execution_count": 222,
   "id": "894c44d2",
   "metadata": {},
   "outputs": [],
   "source": [
    "import time\n",
    "def test25(func):\n",
    "    def test26():\n",
    "        print(\"this will give you execution time of a function\")\n",
    "        start = time.time()\n",
    "        func()\n",
    "        end=time.time()\n",
    "        print(end - start )\n",
    "    return test26"
   ]
  },
  {
   "cell_type": "code",
   "execution_count": 223,
   "id": "5ac6b638",
   "metadata": {},
   "outputs": [],
   "source": [
    "@test25\n",
    "def test27():\n",
    "    '''\n",
    "    this is a function which will take decorator for calculating a execution timing of a function\n",
    "    '''\n",
    "    l=[4,5,6,7,8]\n",
    "    l1=[]\n",
    "    for i in l:\n",
    "        if type(i)==int:\n",
    "            l1.append(i)\n",
    "    return l1\n",
    "        "
   ]
  },
  {
   "cell_type": "code",
   "execution_count": 225,
   "id": "9d104b99",
   "metadata": {},
   "outputs": [
    {
     "name": "stdout",
     "output_type": "stream",
     "text": [
      "this will give you execution time of a function\n",
      "0.0\n"
     ]
    }
   ],
   "source": [
    "test27()    ## error time showing always zero"
   ]
  },
  {
   "cell_type": "code",
   "execution_count": null,
   "id": "726ec889",
   "metadata": {},
   "outputs": [],
   "source": []
  },
  {
   "cell_type": "markdown",
   "id": "15c72822",
   "metadata": {},
   "source": [
    "## Next day cotinued"
   ]
  },
  {
   "cell_type": "markdown",
   "id": "d755fafe",
   "metadata": {},
   "source": [
    "### raper functio"
   ]
  },
  {
   "cell_type": "code",
   "execution_count": 261,
   "id": "155d9813",
   "metadata": {},
   "outputs": [],
   "source": [
    "def test1(func):\n",
    "    def test2():\n",
    "        print(\" i am inside test2\")\n",
    "        func()\n",
    "        print(func())\n",
    "        print(\"function executed\")\n",
    "        return func()  #\n",
    "    return test2"
   ]
  },
  {
   "cell_type": "code",
   "execution_count": 262,
   "id": "aafe4380",
   "metadata": {},
   "outputs": [],
   "source": [
    "@test1\n",
    "def test3():\n",
    "    print(\"i am in test3\")"
   ]
  },
  {
   "cell_type": "code",
   "execution_count": 263,
   "id": "294277a5",
   "metadata": {},
   "outputs": [
    {
     "name": "stdout",
     "output_type": "stream",
     "text": [
      " i am inside test2\n",
      "i am in test3\n",
      "i am in test3\n",
      "None\n",
      "function executed\n",
      "i am in test3\n"
     ]
    }
   ],
   "source": [
    "test3()"
   ]
  },
  {
   "cell_type": "code",
   "execution_count": 264,
   "id": "2a9e5230",
   "metadata": {},
   "outputs": [
    {
     "name": "stdout",
     "output_type": "stream",
     "text": [
      " i am inside test2\n",
      "i am in test3\n",
      "i am in test3\n",
      "None\n",
      "function executed\n",
      "i am in test3\n"
     ]
    },
    {
     "data": {
      "text/plain": [
       "<function __main__.test1.<locals>.test2()>"
      ]
     },
     "execution_count": 264,
     "metadata": {},
     "output_type": "execute_result"
    }
   ],
   "source": [
    "test1(test3())"
   ]
  },
  {
   "cell_type": "code",
   "execution_count": 265,
   "id": "dcb8af2e",
   "metadata": {},
   "outputs": [],
   "source": [
    "@test1               ## its give none type return none type we can solve by return the function fron test1 function\n",
    "def test4():\n",
    "    return 4+5"
   ]
  },
  {
   "cell_type": "code",
   "execution_count": 266,
   "id": "5cbc3e7d",
   "metadata": {},
   "outputs": [
    {
     "name": "stdout",
     "output_type": "stream",
     "text": [
      " i am inside test2\n",
      "9\n",
      "function executed\n"
     ]
    },
    {
     "data": {
      "text/plain": [
       "9"
      ]
     },
     "execution_count": 266,
     "metadata": {},
     "output_type": "execute_result"
    }
   ],
   "source": [
    "test4()"
   ]
  },
  {
   "cell_type": "code",
   "execution_count": 267,
   "id": "ea6fcf35",
   "metadata": {},
   "outputs": [
    {
     "name": "stdout",
     "output_type": "stream",
     "text": [
      " i am inside test2\n",
      "9\n",
      "function executed\n"
     ]
    }
   ],
   "source": [
    "a=test4()"
   ]
  },
  {
   "cell_type": "code",
   "execution_count": 274,
   "id": "57e604c2",
   "metadata": {},
   "outputs": [
    {
     "name": "stdout",
     "output_type": "stream",
     "text": [
      " i am inside test2\n",
      "9\n",
      "function executed\n"
     ]
    },
    {
     "data": {
      "text/plain": [
       "int"
      ]
     },
     "execution_count": 274,
     "metadata": {},
     "output_type": "execute_result"
    }
   ],
   "source": [
    "type(test4())"
   ]
  },
  {
   "cell_type": "code",
   "execution_count": 275,
   "id": "7f6fede2",
   "metadata": {},
   "outputs": [
    {
     "name": "stdout",
     "output_type": "stream",
     "text": [
      " i am inside test2\n",
      "9\n",
      "function executed\n"
     ]
    },
    {
     "data": {
      "text/plain": [
       "15"
      ]
     },
     "execution_count": 275,
     "metadata": {},
     "output_type": "execute_result"
    }
   ],
   "source": [
    "test4() + 6"
   ]
  },
  {
   "cell_type": "code",
   "execution_count": 268,
   "id": "dd0e0af4",
   "metadata": {},
   "outputs": [
    {
     "data": {
      "text/plain": [
       "9"
      ]
     },
     "execution_count": 268,
     "metadata": {},
     "output_type": "execute_result"
    }
   ],
   "source": [
    "a"
   ]
  },
  {
   "cell_type": "code",
   "execution_count": 269,
   "id": "fb627e8f",
   "metadata": {},
   "outputs": [
    {
     "name": "stdout",
     "output_type": "stream",
     "text": [
      "9\n"
     ]
    }
   ],
   "source": [
    "print(a)"
   ]
  },
  {
   "cell_type": "code",
   "execution_count": 270,
   "id": "22b2383c",
   "metadata": {},
   "outputs": [
    {
     "name": "stdout",
     "output_type": "stream",
     "text": [
      " i am inside test2\n",
      "9\n",
      "function executed\n"
     ]
    },
    {
     "data": {
      "text/plain": [
       "13"
      ]
     },
     "execution_count": 270,
     "metadata": {},
     "output_type": "execute_result"
    }
   ],
   "source": [
    "test4() +4"
   ]
  },
  {
   "cell_type": "code",
   "execution_count": 271,
   "id": "50c40814",
   "metadata": {},
   "outputs": [],
   "source": [
    "def test5():\n",
    "    return 4+5"
   ]
  },
  {
   "cell_type": "code",
   "execution_count": 272,
   "id": "f4b56273",
   "metadata": {},
   "outputs": [
    {
     "data": {
      "text/plain": [
       "int"
      ]
     },
     "execution_count": 272,
     "metadata": {},
     "output_type": "execute_result"
    }
   ],
   "source": [
    "type(test5())"
   ]
  },
  {
   "cell_type": "code",
   "execution_count": 273,
   "id": "e0fb9262",
   "metadata": {},
   "outputs": [
    {
     "data": {
      "text/plain": [
       "13"
      ]
     },
     "execution_count": 273,
     "metadata": {},
     "output_type": "execute_result"
    }
   ],
   "source": [
    "test5()+4"
   ]
  },
  {
   "cell_type": "code",
   "execution_count": 289,
   "id": "b36d129f",
   "metadata": {},
   "outputs": [],
   "source": [
    "def test6(func):\n",
    "    def test7():\n",
    "        func()\n",
    "        print(func()) # to solve the proble of return value of functon test8 if we did not write print(func()) it will return none \n",
    "        print(\"this is my decorator function\")\n",
    "        return func()\n",
    "    return test7"
   ]
  },
  {
   "cell_type": "code",
   "execution_count": 290,
   "id": "7edc1e45",
   "metadata": {},
   "outputs": [],
   "source": [
    "def test8():     # without decorator it give return type as int \n",
    "    return 5+5"
   ]
  },
  {
   "cell_type": "code",
   "execution_count": 291,
   "id": "b35ac65e",
   "metadata": {},
   "outputs": [
    {
     "data": {
      "text/plain": [
       "15"
      ]
     },
     "execution_count": 291,
     "metadata": {},
     "output_type": "execute_result"
    }
   ],
   "source": [
    "test8()+5"
   ]
  },
  {
   "cell_type": "code",
   "execution_count": 292,
   "id": "1c644cfc",
   "metadata": {},
   "outputs": [],
   "source": [
    "@test6\n",
    "def test8():     #  decorator it give return type as none  \n",
    "    return 5+5"
   ]
  },
  {
   "cell_type": "code",
   "execution_count": 293,
   "id": "1896bc25",
   "metadata": {},
   "outputs": [
    {
     "name": "stdout",
     "output_type": "stream",
     "text": [
      "10\n",
      "this is my decorator function\n"
     ]
    },
    {
     "data": {
      "text/plain": [
       "15"
      ]
     },
     "execution_count": 293,
     "metadata": {},
     "output_type": "execute_result"
    }
   ],
   "source": [
    "test8() + 5"
   ]
  },
  {
   "cell_type": "code",
   "execution_count": 294,
   "id": "9d5a43ea",
   "metadata": {},
   "outputs": [
    {
     "name": "stdout",
     "output_type": "stream",
     "text": [
      "10\n",
      "this is my decorator function\n"
     ]
    },
    {
     "data": {
      "text/plain": [
       "10"
      ]
     },
     "execution_count": 294,
     "metadata": {},
     "output_type": "execute_result"
    }
   ],
   "source": [
    "test8()"
   ]
  },
  {
   "cell_type": "code",
   "execution_count": 295,
   "id": "b42f00e1",
   "metadata": {},
   "outputs": [
    {
     "name": "stdout",
     "output_type": "stream",
     "text": [
      "10\n",
      "this is my decorator function\n"
     ]
    },
    {
     "data": {
      "text/plain": [
       "int"
      ]
     },
     "execution_count": 295,
     "metadata": {},
     "output_type": "execute_result"
    }
   ],
   "source": [
    "type(test8())  # after returning the func() it will giving int befor that is will give none type"
   ]
  },
  {
   "cell_type": "code",
   "execution_count": 302,
   "id": "f2f27f8d",
   "metadata": {},
   "outputs": [],
   "source": [
    "def test6(func):\n",
    "    def test7(a,b):\n",
    "        func(a,b)\n",
    "        print(func(a,b)) # to solve the proble of return value of functon test8 if we did not write print(func()) it will return none \n",
    "        print(\"this is my decorator function\")\n",
    "        return func(a,b)\n",
    "    return test7"
   ]
  },
  {
   "cell_type": "code",
   "execution_count": 303,
   "id": "b1494e02",
   "metadata": {},
   "outputs": [],
   "source": [
    "def test8(a,b):\n",
    "    return a+b"
   ]
  },
  {
   "cell_type": "code",
   "execution_count": 304,
   "id": "f6ac4c74",
   "metadata": {},
   "outputs": [
    {
     "ename": "TypeError",
     "evalue": "test8() missing 2 required positional arguments: 'a' and 'b'",
     "output_type": "error",
     "traceback": [
      "\u001b[1;31m---------------------------------------------------------------------------\u001b[0m",
      "\u001b[1;31mTypeError\u001b[0m                                 Traceback (most recent call last)",
      "Input \u001b[1;32mIn [304]\u001b[0m, in \u001b[0;36m<cell line: 1>\u001b[1;34m()\u001b[0m\n\u001b[1;32m----> 1\u001b[0m \u001b[43mtest8\u001b[49m\u001b[43m(\u001b[49m\u001b[43m)\u001b[49m\n",
      "\u001b[1;31mTypeError\u001b[0m: test8() missing 2 required positional arguments: 'a' and 'b'"
     ]
    }
   ],
   "source": [
    "test8()"
   ]
  },
  {
   "cell_type": "code",
   "execution_count": 305,
   "id": "9e5c245c",
   "metadata": {},
   "outputs": [
    {
     "data": {
      "text/plain": [
       "'aakashsolanke'"
      ]
     },
     "execution_count": 305,
     "metadata": {},
     "output_type": "execute_result"
    }
   ],
   "source": [
    "test8(\"aakash\",\"solanke\")"
   ]
  },
  {
   "cell_type": "code",
   "execution_count": 306,
   "id": "957ee2ef",
   "metadata": {},
   "outputs": [],
   "source": [
    "@test6\n",
    "def test8(a,b):\n",
    "    return a+b"
   ]
  },
  {
   "cell_type": "code",
   "execution_count": 307,
   "id": "71afb246",
   "metadata": {},
   "outputs": [
    {
     "name": "stdout",
     "output_type": "stream",
     "text": [
      "aakashsolanke\n",
      "this is my decorator function\n"
     ]
    },
    {
     "data": {
      "text/plain": [
       "'aakashsolanke'"
      ]
     },
     "execution_count": 307,
     "metadata": {},
     "output_type": "execute_result"
    }
   ],
   "source": [
    "test8(\"aakash\",\"solanke\")  # not going to alow me by giving no of arrgument in func(a,b) it will solve"
   ]
  },
  {
   "cell_type": "code",
   "execution_count": 308,
   "id": "a2efa54f",
   "metadata": {},
   "outputs": [],
   "source": [
    "@test6\n",
    "def test8(a,b,c):\n",
    "    return a+b+c"
   ]
  },
  {
   "cell_type": "code",
   "execution_count": 309,
   "id": "713a8e44",
   "metadata": {},
   "outputs": [
    {
     "ename": "TypeError",
     "evalue": "test8() missing 1 required positional argument: 'c'",
     "output_type": "error",
     "traceback": [
      "\u001b[1;31m---------------------------------------------------------------------------\u001b[0m",
      "\u001b[1;31mTypeError\u001b[0m                                 Traceback (most recent call last)",
      "Input \u001b[1;32mIn [309]\u001b[0m, in \u001b[0;36m<cell line: 1>\u001b[1;34m()\u001b[0m\n\u001b[1;32m----> 1\u001b[0m \u001b[43mtest8\u001b[49m\u001b[43m(\u001b[49m\u001b[38;5;124;43m\"\u001b[39;49m\u001b[38;5;124;43maakash\u001b[39;49m\u001b[38;5;124;43m\"\u001b[39;49m\u001b[43m,\u001b[49m\u001b[38;5;124;43m\"\u001b[39;49m\u001b[38;5;124;43msolanke\u001b[39;49m\u001b[38;5;124;43m\"\u001b[39;49m\u001b[43m)\u001b[49m\n",
      "Input \u001b[1;32mIn [302]\u001b[0m, in \u001b[0;36mtest6.<locals>.test7\u001b[1;34m(a, b)\u001b[0m\n\u001b[0;32m      2\u001b[0m \u001b[38;5;28;01mdef\u001b[39;00m \u001b[38;5;21mtest7\u001b[39m(a,b):\n\u001b[1;32m----> 3\u001b[0m     \u001b[43mfunc\u001b[49m\u001b[43m(\u001b[49m\u001b[43ma\u001b[49m\u001b[43m,\u001b[49m\u001b[43mb\u001b[49m\u001b[43m)\u001b[49m\n\u001b[0;32m      4\u001b[0m     \u001b[38;5;28mprint\u001b[39m(func(a,b)) \u001b[38;5;66;03m# to solve the proble of return value of functon test8 if we did not write print(func()) it will return none \u001b[39;00m\n\u001b[0;32m      5\u001b[0m     \u001b[38;5;28mprint\u001b[39m(\u001b[38;5;124m\"\u001b[39m\u001b[38;5;124mthis is my decorator function\u001b[39m\u001b[38;5;124m\"\u001b[39m)\n",
      "\u001b[1;31mTypeError\u001b[0m: test8() missing 1 required positional argument: 'c'"
     ]
    }
   ],
   "source": [
    "test8(\"aakash\",\"solanke\")"
   ]
  },
  {
   "cell_type": "code",
   "execution_count": 322,
   "id": "0ce14ee1",
   "metadata": {},
   "outputs": [],
   "source": [
    "def test6(func):\n",
    "    def test7(*args,**kwargs):\n",
    "        func(*args,**kwargs)\n",
    "        print(func(*args,**kwargs)) # to solve the proble of return value of functon test8 if we did not write print(func()) it will return none \n",
    "        print(\"this is my decorator function\")\n",
    "        return func(*args,**kwargs)\n",
    "    return test7"
   ]
  },
  {
   "cell_type": "code",
   "execution_count": 323,
   "id": "9d833d44",
   "metadata": {},
   "outputs": [],
   "source": [
    "@test6\n",
    "def test8(a,b,c):\n",
    "    return a+b+c"
   ]
  },
  {
   "cell_type": "code",
   "execution_count": 324,
   "id": "2fec78d2",
   "metadata": {},
   "outputs": [
    {
     "name": "stdout",
     "output_type": "stream",
     "text": [
      "aakashsolankesantosh\n",
      "this is my decorator function\n"
     ]
    },
    {
     "data": {
      "text/plain": [
       "'aakashsolankesantosh'"
      ]
     },
     "execution_count": 324,
     "metadata": {},
     "output_type": "execute_result"
    }
   ],
   "source": [
    "test8(\"aakash\",\"solanke\",\"santosh\")"
   ]
  },
  {
   "cell_type": "code",
   "execution_count": 325,
   "id": "ef60c680",
   "metadata": {},
   "outputs": [],
   "source": [
    "@test6\n",
    "def test8(a,b):\n",
    "    return a+b"
   ]
  },
  {
   "cell_type": "code",
   "execution_count": 326,
   "id": "300721e2",
   "metadata": {},
   "outputs": [
    {
     "name": "stdout",
     "output_type": "stream",
     "text": [
      "aakashsantosh\n",
      "this is my decorator function\n"
     ]
    },
    {
     "data": {
      "text/plain": [
       "'aakashsantosh'"
      ]
     },
     "execution_count": 326,
     "metadata": {},
     "output_type": "execute_result"
    }
   ],
   "source": [
    "test8(\"aakash\",\"santosh\")"
   ]
  },
  {
   "cell_type": "code",
   "execution_count": 328,
   "id": "ff7d72fc",
   "metadata": {},
   "outputs": [],
   "source": [
    "@test6\n",
    "def test9(**kwargs):\n",
    "    return kwargs"
   ]
  },
  {
   "cell_type": "code",
   "execution_count": 321,
   "id": "5c9394fb",
   "metadata": {},
   "outputs": [
    {
     "ename": "TypeError",
     "evalue": "test7() got an unexpected keyword argument 'a'",
     "output_type": "error",
     "traceback": [
      "\u001b[1;31m---------------------------------------------------------------------------\u001b[0m",
      "\u001b[1;31mTypeError\u001b[0m                                 Traceback (most recent call last)",
      "Input \u001b[1;32mIn [321]\u001b[0m, in \u001b[0;36m<cell line: 1>\u001b[1;34m()\u001b[0m\n\u001b[1;32m----> 1\u001b[0m \u001b[43mtest9\u001b[49m\u001b[43m(\u001b[49m\u001b[43ma\u001b[49m\u001b[38;5;241;43m=\u001b[39;49m\u001b[38;5;241;43m33\u001b[39;49m\u001b[43m,\u001b[49m\u001b[43mb\u001b[49m\u001b[38;5;241;43m=\u001b[39;49m\u001b[38;5;241;43m34\u001b[39;49m\u001b[43m)\u001b[49m\n",
      "\u001b[1;31mTypeError\u001b[0m: test7() got an unexpected keyword argument 'a'"
     ]
    }
   ],
   "source": [
    "test9(a=33,b=34)   #to solve pass both args and kwargs as in func"
   ]
  },
  {
   "cell_type": "code",
   "execution_count": 329,
   "id": "e1a9599b",
   "metadata": {},
   "outputs": [
    {
     "name": "stdout",
     "output_type": "stream",
     "text": [
      "{'a': 33, 'b': 34}\n",
      "this is my decorator function\n"
     ]
    },
    {
     "data": {
      "text/plain": [
       "{'a': 33, 'b': 34}"
      ]
     },
     "execution_count": 329,
     "metadata": {},
     "output_type": "execute_result"
    }
   ],
   "source": [
    "test9(a=33,b=34)"
   ]
  },
  {
   "cell_type": "markdown",
   "id": "972f0346",
   "metadata": {},
   "source": [
    "### Anonomus function / lambada function"
   ]
  },
  {
   "cell_type": "code",
   "execution_count": 336,
   "id": "a9854d5f",
   "metadata": {},
   "outputs": [
    {
     "data": {
      "text/plain": [
       "<function __main__.<lambda>(a, b)>"
      ]
     },
     "execution_count": 336,
     "metadata": {},
     "output_type": "execute_result"
    }
   ],
   "source": [
    "lambda a,b : a+b"
   ]
  },
  {
   "cell_type": "code",
   "execution_count": 334,
   "id": "0ed6f18b",
   "metadata": {},
   "outputs": [
    {
     "data": {
      "text/plain": [
       "<function __main__.test1(func)>"
      ]
     },
     "execution_count": 334,
     "metadata": {},
     "output_type": "execute_result"
    }
   ],
   "source": [
    "test1"
   ]
  },
  {
   "cell_type": "code",
   "execution_count": 337,
   "id": "135a7d55",
   "metadata": {},
   "outputs": [],
   "source": [
    "c=lambda a,b : a+b"
   ]
  },
  {
   "cell_type": "code",
   "execution_count": 338,
   "id": "848fdb7b",
   "metadata": {},
   "outputs": [
    {
     "data": {
      "text/plain": [
       "'aaksh solanke'"
      ]
     },
     "execution_count": 338,
     "metadata": {},
     "output_type": "execute_result"
    }
   ],
   "source": [
    "c(\"aaksh \",'solanke')"
   ]
  },
  {
   "cell_type": "code",
   "execution_count": 339,
   "id": "bd1ceb4b",
   "metadata": {},
   "outputs": [],
   "source": [
    "d =lambda a,b,c,d: a*b+c/d"
   ]
  },
  {
   "cell_type": "code",
   "execution_count": 341,
   "id": "7da94a87",
   "metadata": {},
   "outputs": [
    {
     "data": {
      "text/plain": [
       "12.833333333333334"
      ]
     },
     "execution_count": 341,
     "metadata": {},
     "output_type": "execute_result"
    }
   ],
   "source": [
    "d(3,4,5,6)"
   ]
  },
  {
   "cell_type": "code",
   "execution_count": 342,
   "id": "496febe6",
   "metadata": {},
   "outputs": [],
   "source": [
    "e =lambda *args : args\n"
   ]
  },
  {
   "cell_type": "code",
   "execution_count": 343,
   "id": "a554da88",
   "metadata": {},
   "outputs": [
    {
     "data": {
      "text/plain": [
       "()"
      ]
     },
     "execution_count": 343,
     "metadata": {},
     "output_type": "execute_result"
    }
   ],
   "source": [
    "e()"
   ]
  },
  {
   "cell_type": "code",
   "execution_count": 344,
   "id": "2d1d3551",
   "metadata": {},
   "outputs": [
    {
     "data": {
      "text/plain": [
       "(3, 4, 5, 7)"
      ]
     },
     "execution_count": 344,
     "metadata": {},
     "output_type": "execute_result"
    }
   ],
   "source": [
    "e(3,4,5,7)"
   ]
  },
  {
   "cell_type": "markdown",
   "id": "9a3b1588",
   "metadata": {},
   "source": [
    "### map function"
   ]
  },
  {
   "cell_type": "code",
   "execution_count": 1,
   "id": "6b66f7b2",
   "metadata": {},
   "outputs": [],
   "source": [
    "l =[1,2,3,4,5,6,7]"
   ]
  },
  {
   "cell_type": "code",
   "execution_count": 2,
   "id": "ca210328",
   "metadata": {},
   "outputs": [],
   "source": [
    "l1=[]\n",
    "for i in l:\n",
    "    l1.append(i+10)"
   ]
  },
  {
   "cell_type": "code",
   "execution_count": 3,
   "id": "edb5eee1",
   "metadata": {},
   "outputs": [
    {
     "data": {
      "text/plain": [
       "[11, 12, 13, 14, 15, 16, 17]"
      ]
     },
     "execution_count": 3,
     "metadata": {},
     "output_type": "execute_result"
    }
   ],
   "source": [
    "l1"
   ]
  },
  {
   "cell_type": "code",
   "execution_count": 4,
   "id": "8a3c31fb",
   "metadata": {},
   "outputs": [],
   "source": [
    "def test14(a):\n",
    "    return a+10"
   ]
  },
  {
   "cell_type": "code",
   "execution_count": 6,
   "id": "3e89b591",
   "metadata": {},
   "outputs": [
    {
     "data": {
      "text/plain": [
       "[11, 12, 13, 14, 15, 16, 17]"
      ]
     },
     "execution_count": 6,
     "metadata": {},
     "output_type": "execute_result"
    }
   ],
   "source": [
    "list(map(test14,l))   #map pass one by one data to function and return "
   ]
  },
  {
   "cell_type": "code",
   "execution_count": 8,
   "id": "517e5792",
   "metadata": {},
   "outputs": [
    {
     "data": {
      "text/plain": [
       "[11, 12, 13, 14, 15, 16, 17]"
      ]
     },
     "execution_count": 8,
     "metadata": {},
     "output_type": "execute_result"
    }
   ],
   "source": [
    "list(map(lambda a: a+10, l))"
   ]
  },
  {
   "cell_type": "code",
   "execution_count": 9,
   "id": "45b69234",
   "metadata": {},
   "outputs": [],
   "source": [
    "n=lambda a: a+10"
   ]
  },
  {
   "cell_type": "code",
   "execution_count": 10,
   "id": "7438d0ac",
   "metadata": {},
   "outputs": [
    {
     "data": {
      "text/plain": [
       "[11, 12, 13, 14, 15, 16, 17]"
      ]
     },
     "execution_count": 10,
     "metadata": {},
     "output_type": "execute_result"
    }
   ],
   "source": [
    "list(map(n, l))"
   ]
  },
  {
   "cell_type": "code",
   "execution_count": 13,
   "id": "e6bf6ad8",
   "metadata": {},
   "outputs": [
    {
     "data": {
      "text/plain": [
       "['AAKASH', 'SOLANKE']"
      ]
     },
     "execution_count": 13,
     "metadata": {},
     "output_type": "execute_result"
    }
   ],
   "source": [
    "l = [\"aakash\",\"solanke\"]\n",
    "x =lambda a: a.upper()\n",
    "list(map(x,l))"
   ]
  },
  {
   "cell_type": "code",
   "execution_count": 16,
   "id": "67f0835e",
   "metadata": {},
   "outputs": [],
   "source": [
    "l1=[]\n",
    "l = [\"aakash\",\"solanke\"]\n",
    "for i in l:\n",
    "    l1.append(i.upper())"
   ]
  },
  {
   "cell_type": "code",
   "execution_count": 17,
   "id": "36f41d3a",
   "metadata": {},
   "outputs": [
    {
     "data": {
      "text/plain": [
       "['AAKASH', 'SOLANKE']"
      ]
     },
     "execution_count": 17,
     "metadata": {},
     "output_type": "execute_result"
    }
   ],
   "source": [
    "l1"
   ]
  },
  {
   "cell_type": "code",
   "execution_count": 18,
   "id": "98c74ad3",
   "metadata": {},
   "outputs": [
    {
     "data": {
      "text/plain": [
       "['aakash', 'solanke']"
      ]
     },
     "execution_count": 18,
     "metadata": {},
     "output_type": "execute_result"
    }
   ],
   "source": [
    "l"
   ]
  },
  {
   "cell_type": "code",
   "execution_count": 19,
   "id": "69bc0110",
   "metadata": {},
   "outputs": [
    {
     "data": {
      "text/plain": [
       "[6, 7]"
      ]
     },
     "execution_count": 19,
     "metadata": {},
     "output_type": "execute_result"
    }
   ],
   "source": [
    "list(map(lambda a:len(a),l))"
   ]
  },
  {
   "cell_type": "code",
   "execution_count": 20,
   "id": "08b4940a",
   "metadata": {},
   "outputs": [
    {
     "data": {
      "text/plain": [
       "[6, 7]"
      ]
     },
     "execution_count": 20,
     "metadata": {},
     "output_type": "execute_result"
    }
   ],
   "source": [
    "list(map(len,l))"
   ]
  },
  {
   "cell_type": "code",
   "execution_count": 22,
   "id": "726491b3",
   "metadata": {},
   "outputs": [],
   "source": [
    "def test15(a):\n",
    "    return len(a)"
   ]
  },
  {
   "cell_type": "code",
   "execution_count": 23,
   "id": "66d6ad8c",
   "metadata": {},
   "outputs": [
    {
     "data": {
      "text/plain": [
       "[6, 7]"
      ]
     },
     "execution_count": 23,
     "metadata": {},
     "output_type": "execute_result"
    }
   ],
   "source": [
    "list(map(test15,l))"
   ]
  },
  {
   "cell_type": "markdown",
   "id": "589d0292",
   "metadata": {},
   "source": [
    "### filter function"
   ]
  },
  {
   "cell_type": "code",
   "execution_count": 24,
   "id": "ca04491c",
   "metadata": {},
   "outputs": [],
   "source": [
    "l =[1,2,3,4,5,6,7,8]"
   ]
  },
  {
   "cell_type": "code",
   "execution_count": 27,
   "id": "8842c03e",
   "metadata": {},
   "outputs": [],
   "source": [
    "l1=[]\n",
    "for i in l:\n",
    "    if i%2==0:\n",
    "        l1.append(i)"
   ]
  },
  {
   "cell_type": "code",
   "execution_count": 29,
   "id": "8416ea30",
   "metadata": {},
   "outputs": [
    {
     "data": {
      "text/plain": [
       "[2, 4, 6, 8]"
      ]
     },
     "execution_count": 29,
     "metadata": {},
     "output_type": "execute_result"
    }
   ],
   "source": [
    "l1"
   ]
  },
  {
   "cell_type": "code",
   "execution_count": 30,
   "id": "f982b242",
   "metadata": {},
   "outputs": [
    {
     "data": {
      "text/plain": [
       "[2, 4, 6, 8]"
      ]
     },
     "execution_count": 30,
     "metadata": {},
     "output_type": "execute_result"
    }
   ],
   "source": [
    "[i for i in l if i%2==0]"
   ]
  },
  {
   "cell_type": "code",
   "execution_count": 31,
   "id": "5e47198e",
   "metadata": {},
   "outputs": [],
   "source": [
    "def test16(a):\n",
    "    l1=[]\n",
    "    if type(a)==list:\n",
    "        for i in a:\n",
    "            if i%2==0:\n",
    "                l1.append(i)"
   ]
  },
  {
   "cell_type": "code",
   "execution_count": 32,
   "id": "cff07079",
   "metadata": {},
   "outputs": [
    {
     "data": {
      "text/plain": [
       "[2, 4, 6, 8]"
      ]
     },
     "execution_count": 32,
     "metadata": {},
     "output_type": "execute_result"
    }
   ],
   "source": [
    "l1"
   ]
  },
  {
   "cell_type": "code",
   "execution_count": 33,
   "id": "87d42007",
   "metadata": {},
   "outputs": [],
   "source": [
    "c =lambda a :a if a%2==0 else None"
   ]
  },
  {
   "cell_type": "code",
   "execution_count": 35,
   "id": "fb6ce2c3",
   "metadata": {},
   "outputs": [
    {
     "data": {
      "text/plain": [
       "[None, 2, None, 4, None, 6, None, 8]"
      ]
     },
     "execution_count": 35,
     "metadata": {},
     "output_type": "execute_result"
    }
   ],
   "source": [
    "list(map(c,l))"
   ]
  },
  {
   "cell_type": "code",
   "execution_count": 36,
   "id": "eb3a081c",
   "metadata": {},
   "outputs": [
    {
     "data": {
      "text/plain": [
       "[1, 2, 3, 4, 5, 6, 7, 8]"
      ]
     },
     "execution_count": 36,
     "metadata": {},
     "output_type": "execute_result"
    }
   ],
   "source": [
    "l"
   ]
  },
  {
   "cell_type": "code",
   "execution_count": 37,
   "id": "4d35a142",
   "metadata": {},
   "outputs": [
    {
     "data": {
      "text/plain": [
       "[2, 4, 6, 8]"
      ]
     },
     "execution_count": 37,
     "metadata": {},
     "output_type": "execute_result"
    }
   ],
   "source": [
    "list(filter(c,l))   # filter work on bool if function return true filter only takse true condition in function \n",
    "                    # filter works on true condition"
   ]
  },
  {
   "cell_type": "code",
   "execution_count": 41,
   "id": "8b2f585d",
   "metadata": {},
   "outputs": [],
   "source": [
    "def test17(a):\n",
    "    if a%2==0:\n",
    "        return True\n",
    "    else:\n",
    "        return False\n",
    "    "
   ]
  },
  {
   "cell_type": "code",
   "execution_count": 42,
   "id": "b751464b",
   "metadata": {},
   "outputs": [
    {
     "data": {
      "text/plain": [
       "True"
      ]
     },
     "execution_count": 42,
     "metadata": {},
     "output_type": "execute_result"
    }
   ],
   "source": [
    "test17(32)"
   ]
  },
  {
   "cell_type": "code",
   "execution_count": 43,
   "id": "5ed2f2b5",
   "metadata": {},
   "outputs": [
    {
     "data": {
      "text/plain": [
       "False"
      ]
     },
     "execution_count": 43,
     "metadata": {},
     "output_type": "execute_result"
    }
   ],
   "source": [
    "test17(11)"
   ]
  },
  {
   "cell_type": "code",
   "execution_count": 44,
   "id": "5b1d165e",
   "metadata": {},
   "outputs": [
    {
     "data": {
      "text/plain": [
       "[2, 4, 6, 8]"
      ]
     },
     "execution_count": 44,
     "metadata": {},
     "output_type": "execute_result"
    }
   ],
   "source": [
    "list(filter(test17,l))"
   ]
  },
  {
   "cell_type": "code",
   "execution_count": 45,
   "id": "e274c1e3",
   "metadata": {},
   "outputs": [
    {
     "data": {
      "text/plain": [
       "[1, 2, 3, 4, 5, 6, 7, 8]"
      ]
     },
     "execution_count": 45,
     "metadata": {},
     "output_type": "execute_result"
    }
   ],
   "source": [
    "l"
   ]
  },
  {
   "cell_type": "code",
   "execution_count": 47,
   "id": "cb21cd63",
   "metadata": {},
   "outputs": [],
   "source": [
    "def test17(a):\n",
    "    if a%2==0:\n",
    "        return False\n",
    "    else:\n",
    "        return True\n",
    "    "
   ]
  },
  {
   "cell_type": "code",
   "execution_count": 48,
   "id": "d92ee379",
   "metadata": {},
   "outputs": [
    {
     "data": {
      "text/plain": [
       "[1, 3, 5, 7]"
      ]
     },
     "execution_count": 48,
     "metadata": {},
     "output_type": "execute_result"
    }
   ],
   "source": [
    "list(filter(test17,l))"
   ]
  },
  {
   "cell_type": "markdown",
   "id": "a41ba652",
   "metadata": {},
   "source": [
    "### reduce function"
   ]
  },
  {
   "cell_type": "code",
   "execution_count": 49,
   "id": "f92e2797",
   "metadata": {},
   "outputs": [
    {
     "data": {
      "text/plain": [
       "36"
      ]
     },
     "execution_count": 49,
     "metadata": {},
     "output_type": "execute_result"
    }
   ],
   "source": [
    "sum(l)"
   ]
  },
  {
   "cell_type": "code",
   "execution_count": 52,
   "id": "288b21b6",
   "metadata": {},
   "outputs": [],
   "source": [
    "from functools import reduce"
   ]
  },
  {
   "cell_type": "code",
   "execution_count": 53,
   "id": "1bf40c7a",
   "metadata": {},
   "outputs": [
    {
     "data": {
      "text/plain": [
       "40320"
      ]
     },
     "execution_count": 53,
     "metadata": {},
     "output_type": "execute_result"
    }
   ],
   "source": [
    "reduce(lambda a, b: a*b, l)    # 1 2 3 4 5 6 7 8\n",
    "                               # a b \n",
    "                               # a=2   b=3\n",
    "                               # a=6 b=4\n",
    "                               #  a=24 b=5\n",
    "                               #    a = 120 b=6\n",
    "                               #    a = 720 b= 7\n",
    "                               #     a=    5040 b=8\n",
    "                               #      a=  40320"
   ]
  },
  {
   "cell_type": "code",
   "execution_count": 54,
   "id": "8c3a9e9e",
   "metadata": {},
   "outputs": [
    {
     "ename": "TypeError",
     "evalue": "<lambda>() missing 1 required positional argument: 'c'",
     "output_type": "error",
     "traceback": [
      "\u001b[1;31m---------------------------------------------------------------------------\u001b[0m",
      "\u001b[1;31mTypeError\u001b[0m                                 Traceback (most recent call last)",
      "Input \u001b[1;32mIn [54]\u001b[0m, in \u001b[0;36m<cell line: 1>\u001b[1;34m()\u001b[0m\n\u001b[1;32m----> 1\u001b[0m \u001b[43mreduce\u001b[49m\u001b[43m(\u001b[49m\u001b[38;5;28;43;01mlambda\u001b[39;49;00m\u001b[43m \u001b[49m\u001b[43ma\u001b[49m\u001b[43m,\u001b[49m\u001b[43m \u001b[49m\u001b[43mb\u001b[49m\u001b[43m,\u001b[49m\u001b[43mc\u001b[49m\u001b[43m:\u001b[49m\u001b[43m \u001b[49m\u001b[43ma\u001b[49m\u001b[38;5;241;43m*\u001b[39;49m\u001b[43mb\u001b[49m\u001b[38;5;241;43m*\u001b[39;49m\u001b[43mc\u001b[49m\u001b[43m,\u001b[49m\u001b[43m \u001b[49m\u001b[43ml\u001b[49m\u001b[43m)\u001b[49m\n",
      "\u001b[1;31mTypeError\u001b[0m: <lambda>() missing 1 required positional argument: 'c'"
     ]
    }
   ],
   "source": [
    "reduce(lambda a, b,c: a*b*c, l)   # reqired an pair of three we don't have it \n",
    "                                  # always use two argumnet "
   ]
  },
  {
   "cell_type": "code",
   "execution_count": 57,
   "id": "59ecd365",
   "metadata": {},
   "outputs": [
    {
     "data": {
      "text/plain": [
       "3"
      ]
     },
     "execution_count": 57,
     "metadata": {},
     "output_type": "execute_result"
    }
   ],
   "source": [
    "l1=[3] \n",
    "reduce(lambda a, b: a*b,l1)"
   ]
  },
  {
   "cell_type": "code",
   "execution_count": 62,
   "id": "f6747826",
   "metadata": {},
   "outputs": [],
   "source": [
    "def test20()  -> int:         # hint to programmer \n",
    "    '''\n",
    "    this is my doc string to give a hind to next programer\n",
    "    '''\n",
    "    return \" this is my fun \""
   ]
  },
  {
   "cell_type": "code",
   "execution_count": 63,
   "id": "183fff89",
   "metadata": {},
   "outputs": [
    {
     "data": {
      "text/plain": [
       "' this is my fun '"
      ]
     },
     "execution_count": 63,
     "metadata": {},
     "output_type": "execute_result"
    }
   ],
   "source": [
    "test20()"
   ]
  },
  {
   "cell_type": "code",
   "execution_count": 69,
   "id": "b05db0d2",
   "metadata": {},
   "outputs": [],
   "source": [
    "def test21(a:int,b:\"func\")  -> int:   # hint to programmer \n",
    "    '''\n",
    "    this is my doc string to give a hind to next programer\n",
    "    '''\n",
    "    return a+b"
   ]
  },
  {
   "cell_type": "code",
   "execution_count": 70,
   "id": "fdd21b8f",
   "metadata": {},
   "outputs": [
    {
     "data": {
      "text/plain": [
       "'aaakshsolanke'"
      ]
     },
     "execution_count": 70,
     "metadata": {},
     "output_type": "execute_result"
    }
   ],
   "source": [
    "test21(\"aaaksh\",\"solanke\")    # shift + tab to see information"
   ]
  },
  {
   "cell_type": "code",
   "execution_count": 68,
   "id": "424cc013",
   "metadata": {},
   "outputs": [
    {
     "ename": "TypeError",
     "evalue": "reduce() arg 2 must support iteration",
     "output_type": "error",
     "traceback": [
      "\u001b[1;31m---------------------------------------------------------------------------\u001b[0m",
      "\u001b[1;31mTypeError\u001b[0m                                 Traceback (most recent call last)",
      "Input \u001b[1;32mIn [68]\u001b[0m, in \u001b[0;36m<cell line: 1>\u001b[1;34m()\u001b[0m\n\u001b[1;32m----> 1\u001b[0m \u001b[43mreduce\u001b[49m\u001b[43m(\u001b[49m\u001b[38;5;28;43;01mlambda\u001b[39;49;00m\u001b[43m \u001b[49m\u001b[43ma\u001b[49m\u001b[43m,\u001b[49m\u001b[43m \u001b[49m\u001b[43mb\u001b[49m\u001b[43m:\u001b[49m\u001b[43m \u001b[49m\u001b[43ma\u001b[49m\u001b[38;5;241;43m*\u001b[39;49m\u001b[43mb\u001b[49m\u001b[43m,\u001b[49m\u001b[43m \u001b[49m\u001b[38;5;241;43m5\u001b[39;49m\u001b[43m)\u001b[49m\n",
      "\u001b[1;31mTypeError\u001b[0m: reduce() arg 2 must support iteration"
     ]
    }
   ],
   "source": [
    "reduce(lambda a, b: a*b, 5)"
   ]
  },
  {
   "cell_type": "code",
   "execution_count": 71,
   "id": "3ecc07f9",
   "metadata": {},
   "outputs": [],
   "source": [
    "def test21(a:int,b:\"func\",c=234)  -> int:   # hint to programer \n",
    "    '''\n",
    "    this is my doc string to give a hind to next programer\n",
    "    '''\n",
    "    return a+b+str(c)"
   ]
  },
  {
   "cell_type": "code",
   "execution_count": 73,
   "id": "ee9a76b9",
   "metadata": {},
   "outputs": [
    {
     "data": {
      "text/plain": [
       "'aaakshsolanke234'"
      ]
     },
     "execution_count": 73,
     "metadata": {},
     "output_type": "execute_result"
    }
   ],
   "source": [
    "test21(\"aaaksh\",\"solanke\") "
   ]
  },
  {
   "cell_type": "markdown",
   "id": "c3e51b87",
   "metadata": {},
   "source": [
    "##  function part-2"
   ]
  },
  {
   "cell_type": "code",
   "execution_count": 74,
   "id": "1f97d5e9",
   "metadata": {},
   "outputs": [
    {
     "ename": "SyntaxError",
     "evalue": "invalid syntax (1750517826.py, line 1)",
     "output_type": "error",
     "traceback": [
      "\u001b[1;36m  Input \u001b[1;32mIn [74]\u001b[1;36m\u001b[0m\n\u001b[1;33m    def test42(a,**sudh,*args):\u001b[0m\n\u001b[1;37m                        ^\u001b[0m\n\u001b[1;31mSyntaxError\u001b[0m\u001b[1;31m:\u001b[0m invalid syntax\n"
     ]
    }
   ],
   "source": [
    "def test42(a,**sudh,*args):\n",
    "    return a, args, sudh\n"
   ]
  },
  {
   "cell_type": "code",
   "execution_count": 75,
   "id": "873bf56b",
   "metadata": {},
   "outputs": [],
   "source": [
    "def test43(a,*args,**kwargs):\n",
    "    return a,args,kwargs"
   ]
  },
  {
   "cell_type": "code",
   "execution_count": 76,
   "id": "d450f534",
   "metadata": {},
   "outputs": [
    {
     "data": {
      "text/plain": [
       "(23, (231, 434, 656, 778), {'b': 828, 'c': 'asa'})"
      ]
     },
     "execution_count": 76,
     "metadata": {},
     "output_type": "execute_result"
    }
   ],
   "source": [
    "test43(23,231,434,656,778,b=828,c=\"asa\")"
   ]
  },
  {
   "cell_type": "code",
   "execution_count": 81,
   "id": "d657003b",
   "metadata": {},
   "outputs": [],
   "source": [
    "c=lambda a:a*a"
   ]
  },
  {
   "cell_type": "code",
   "execution_count": 82,
   "id": "86dd9038",
   "metadata": {},
   "outputs": [
    {
     "data": {
      "text/plain": [
       "4"
      ]
     },
     "execution_count": 82,
     "metadata": {},
     "output_type": "execute_result"
    }
   ],
   "source": [
    "c(2)"
   ]
  },
  {
   "cell_type": "code",
   "execution_count": 83,
   "id": "35ab9384",
   "metadata": {},
   "outputs": [],
   "source": [
    "x= lambda x:[i for i in x]"
   ]
  },
  {
   "cell_type": "code",
   "execution_count": 84,
   "id": "98fc4b93",
   "metadata": {},
   "outputs": [
    {
     "data": {
      "text/plain": [
       "[12, 34, 5, 6, 7, 8]"
      ]
     },
     "execution_count": 84,
     "metadata": {},
     "output_type": "execute_result"
    }
   ],
   "source": [
    "x([12,34,5,6,7,8])"
   ]
  },
  {
   "cell_type": "code",
   "execution_count": 1,
   "id": "133f5300",
   "metadata": {},
   "outputs": [
    {
     "data": {
      "text/plain": [
       "{0: 0, 1: 1, 2: 4, 3: 9, 4: 16, 5: 25, 6: 36, 7: 49, 8: 64, 9: 81}"
      ]
     },
     "execution_count": 1,
     "metadata": {},
     "output_type": "execute_result"
    }
   ],
   "source": [
    "{i:i*i for i in range(10)}"
   ]
  },
  {
   "cell_type": "code",
   "execution_count": 2,
   "id": "d7860cf4",
   "metadata": {},
   "outputs": [],
   "source": [
    "d1={}\n",
    "for i in range(10):\n",
    "    d1[i]=i*i\n",
    "    "
   ]
  },
  {
   "cell_type": "code",
   "execution_count": 3,
   "id": "c426dfb8",
   "metadata": {},
   "outputs": [
    {
     "data": {
      "text/plain": [
       "{0: 0, 1: 1, 2: 4, 3: 9, 4: 16, 5: 25, 6: 36, 7: 49, 8: 64, 9: 81}"
      ]
     },
     "execution_count": 3,
     "metadata": {},
     "output_type": "execute_result"
    }
   ],
   "source": [
    "d1"
   ]
  },
  {
   "cell_type": "code",
   "execution_count": 5,
   "id": "80830e64",
   "metadata": {},
   "outputs": [
    {
     "data": {
      "text/plain": [
       "(0, 1, 2, 3, 4, 5, 6, 7, 8, 9)"
      ]
     },
     "execution_count": 5,
     "metadata": {},
     "output_type": "execute_result"
    }
   ],
   "source": [
    "tuple(i for i in range(10))"
   ]
  },
  {
   "cell_type": "code",
   "execution_count": 6,
   "id": "7262134f",
   "metadata": {},
   "outputs": [
    {
     "name": "stdout",
     "output_type": "stream",
     "text": [
      "s\n",
      "u\n",
      "d\n",
      "h\n"
     ]
    }
   ],
   "source": [
    "s=\"sudh\"\n",
    "for i in s:\n",
    "    print(i)"
   ]
  },
  {
   "cell_type": "code",
   "execution_count": 7,
   "id": "8b87986b",
   "metadata": {},
   "outputs": [
    {
     "ename": "TypeError",
     "evalue": "'int' object is not iterable",
     "output_type": "error",
     "traceback": [
      "\u001b[1;31m---------------------------------------------------------------------------\u001b[0m",
      "\u001b[1;31mTypeError\u001b[0m                                 Traceback (most recent call last)",
      "Input \u001b[1;32mIn [7]\u001b[0m, in \u001b[0;36m<cell line: 2>\u001b[1;34m()\u001b[0m\n\u001b[0;32m      1\u001b[0m s\u001b[38;5;241m=\u001b[39m\u001b[38;5;241m3\u001b[39m\n\u001b[1;32m----> 2\u001b[0m \u001b[38;5;28;01mfor\u001b[39;00m i \u001b[38;5;129;01min\u001b[39;00m s:\n\u001b[0;32m      3\u001b[0m     \u001b[38;5;28mprint\u001b[39m(i)\n",
      "\u001b[1;31mTypeError\u001b[0m: 'int' object is not iterable"
     ]
    }
   ],
   "source": [
    "s=3\n",
    "for i in s:\n",
    "    print(i)    ## string is iterable not iterator"
   ]
  },
  {
   "cell_type": "code",
   "execution_count": 12,
   "id": "3d83fc28",
   "metadata": {},
   "outputs": [],
   "source": [
    "s=\"sudh\""
   ]
  },
  {
   "cell_type": "code",
   "execution_count": 13,
   "id": "2d6845a9",
   "metadata": {},
   "outputs": [
    {
     "ename": "TypeError",
     "evalue": "'str' object is not an iterator",
     "output_type": "error",
     "traceback": [
      "\u001b[1;31m---------------------------------------------------------------------------\u001b[0m",
      "\u001b[1;31mTypeError\u001b[0m                                 Traceback (most recent call last)",
      "Input \u001b[1;32mIn [13]\u001b[0m, in \u001b[0;36m<cell line: 1>\u001b[1;34m()\u001b[0m\n\u001b[1;32m----> 1\u001b[0m \u001b[38;5;28;43mnext\u001b[39;49m\u001b[43m(\u001b[49m\u001b[43ms\u001b[49m\u001b[43m)\u001b[49m\n",
      "\u001b[1;31mTypeError\u001b[0m: 'str' object is not an iterator"
     ]
    }
   ],
   "source": [
    "next(s)    "
   ]
  },
  {
   "cell_type": "code",
   "execution_count": 16,
   "id": "781c379e",
   "metadata": {},
   "outputs": [],
   "source": [
    "s=iter(s)"
   ]
  },
  {
   "cell_type": "code",
   "execution_count": 17,
   "id": "8cea4312",
   "metadata": {},
   "outputs": [
    {
     "data": {
      "text/plain": [
       "'s'"
      ]
     },
     "execution_count": 17,
     "metadata": {},
     "output_type": "execute_result"
    }
   ],
   "source": [
    "next(s)"
   ]
  },
  {
   "cell_type": "markdown",
   "id": "66c5c97d",
   "metadata": {},
   "source": [
    "## differnce btn iterable and iterator\n",
    "\n",
    "## iterable ---> when we will able to hold the value of every index if we iterate ex:- string \n",
    "\n",
    "## iterator --> "
   ]
  },
  {
   "cell_type": "code",
   "execution_count": 18,
   "id": "cc67cbb0",
   "metadata": {},
   "outputs": [],
   "source": [
    "s=iter(s)"
   ]
  },
  {
   "cell_type": "code",
   "execution_count": 19,
   "id": "877b910f",
   "metadata": {},
   "outputs": [
    {
     "data": {
      "text/plain": [
       "'u'"
      ]
     },
     "execution_count": 19,
     "metadata": {},
     "output_type": "execute_result"
    }
   ],
   "source": [
    "next(s)"
   ]
  },
  {
   "cell_type": "code",
   "execution_count": 20,
   "id": "fc351265",
   "metadata": {},
   "outputs": [
    {
     "data": {
      "text/plain": [
       "'d'"
      ]
     },
     "execution_count": 20,
     "metadata": {},
     "output_type": "execute_result"
    }
   ],
   "source": [
    "next(s)"
   ]
  },
  {
   "cell_type": "code",
   "execution_count": 21,
   "id": "4b4b507c",
   "metadata": {},
   "outputs": [
    {
     "data": {
      "text/plain": [
       "'h'"
      ]
     },
     "execution_count": 21,
     "metadata": {},
     "output_type": "execute_result"
    }
   ],
   "source": [
    "next(s)"
   ]
  },
  {
   "cell_type": "code",
   "execution_count": 22,
   "id": "ef644843",
   "metadata": {},
   "outputs": [
    {
     "ename": "StopIteration",
     "evalue": "",
     "output_type": "error",
     "traceback": [
      "\u001b[1;31m---------------------------------------------------------------------------\u001b[0m",
      "\u001b[1;31mStopIteration\u001b[0m                             Traceback (most recent call last)",
      "Input \u001b[1;32mIn [22]\u001b[0m, in \u001b[0;36m<cell line: 1>\u001b[1;34m()\u001b[0m\n\u001b[1;32m----> 1\u001b[0m \u001b[38;5;28;43mnext\u001b[39;49m\u001b[43m(\u001b[49m\u001b[43ms\u001b[49m\u001b[43m)\u001b[49m\n",
      "\u001b[1;31mStopIteration\u001b[0m: "
     ]
    }
   ],
   "source": [
    "next(s)"
   ]
  },
  {
   "cell_type": "code",
   "execution_count": 23,
   "id": "033a4bf3",
   "metadata": {},
   "outputs": [],
   "source": [
    "l=[2,3,4,5,6,7]"
   ]
  },
  {
   "cell_type": "code",
   "execution_count": 24,
   "id": "805317bc",
   "metadata": {},
   "outputs": [
    {
     "ename": "TypeError",
     "evalue": "'list' object is not an iterator",
     "output_type": "error",
     "traceback": [
      "\u001b[1;31m---------------------------------------------------------------------------\u001b[0m",
      "\u001b[1;31mTypeError\u001b[0m                                 Traceback (most recent call last)",
      "Input \u001b[1;32mIn [24]\u001b[0m, in \u001b[0;36m<cell line: 1>\u001b[1;34m()\u001b[0m\n\u001b[1;32m----> 1\u001b[0m \u001b[38;5;28;43mnext\u001b[39;49m\u001b[43m(\u001b[49m\u001b[43ml\u001b[49m\u001b[43m)\u001b[49m\n",
      "\u001b[1;31mTypeError\u001b[0m: 'list' object is not an iterator"
     ]
    }
   ],
   "source": [
    "next(l)"
   ]
  },
  {
   "cell_type": "code",
   "execution_count": 25,
   "id": "8dac7298",
   "metadata": {},
   "outputs": [
    {
     "ename": "TypeError",
     "evalue": "'int' object is not iterable",
     "output_type": "error",
     "traceback": [
      "\u001b[1;31m---------------------------------------------------------------------------\u001b[0m",
      "\u001b[1;31mTypeError\u001b[0m                                 Traceback (most recent call last)",
      "Input \u001b[1;32mIn [25]\u001b[0m, in \u001b[0;36m<cell line: 1>\u001b[1;34m()\u001b[0m\n\u001b[1;32m----> 1\u001b[0m \u001b[38;5;28;43miter\u001b[39;49m\u001b[43m(\u001b[49m\u001b[38;5;241;43m45\u001b[39;49m\u001b[43m)\u001b[49m\n",
      "\u001b[1;31mTypeError\u001b[0m: 'int' object is not iterable"
     ]
    }
   ],
   "source": [
    "iter(45)         #  'int' object is not iterable\n"
   ]
  },
  {
   "cell_type": "code",
   "execution_count": 32,
   "id": "609314d3",
   "metadata": {},
   "outputs": [],
   "source": [
    "l=iter(l)"
   ]
  },
  {
   "cell_type": "code",
   "execution_count": 33,
   "id": "14d31306",
   "metadata": {},
   "outputs": [
    {
     "data": {
      "text/plain": [
       "2"
      ]
     },
     "execution_count": 33,
     "metadata": {},
     "output_type": "execute_result"
    }
   ],
   "source": [
    "next(l)"
   ]
  },
  {
   "cell_type": "code",
   "execution_count": 34,
   "id": "fed3917b",
   "metadata": {},
   "outputs": [
    {
     "data": {
      "text/plain": [
       "3"
      ]
     },
     "execution_count": 34,
     "metadata": {},
     "output_type": "execute_result"
    }
   ],
   "source": [
    "next(l)"
   ]
  },
  {
   "cell_type": "code",
   "execution_count": 35,
   "id": "bffe652e",
   "metadata": {},
   "outputs": [
    {
     "data": {
      "text/plain": [
       "4"
      ]
     },
     "execution_count": 35,
     "metadata": {},
     "output_type": "execute_result"
    }
   ],
   "source": [
    "next(l)"
   ]
  },
  {
   "cell_type": "code",
   "execution_count": 36,
   "id": "023584f5",
   "metadata": {},
   "outputs": [
    {
     "data": {
      "text/plain": [
       "5"
      ]
     },
     "execution_count": 36,
     "metadata": {},
     "output_type": "execute_result"
    }
   ],
   "source": [
    "next(l)"
   ]
  },
  {
   "cell_type": "code",
   "execution_count": 37,
   "id": "92450360",
   "metadata": {},
   "outputs": [
    {
     "data": {
      "text/plain": [
       "6"
      ]
     },
     "execution_count": 37,
     "metadata": {},
     "output_type": "execute_result"
    }
   ],
   "source": [
    "next(l)"
   ]
  },
  {
   "cell_type": "code",
   "execution_count": 38,
   "id": "c2c76cf8",
   "metadata": {},
   "outputs": [
    {
     "data": {
      "text/plain": [
       "7"
      ]
     },
     "execution_count": 38,
     "metadata": {},
     "output_type": "execute_result"
    }
   ],
   "source": [
    "next(l)"
   ]
  },
  {
   "cell_type": "code",
   "execution_count": 39,
   "id": "40634003",
   "metadata": {},
   "outputs": [
    {
     "ename": "StopIteration",
     "evalue": "",
     "output_type": "error",
     "traceback": [
      "\u001b[1;31m---------------------------------------------------------------------------\u001b[0m",
      "\u001b[1;31mStopIteration\u001b[0m                             Traceback (most recent call last)",
      "Input \u001b[1;32mIn [39]\u001b[0m, in \u001b[0;36m<cell line: 1>\u001b[1;34m()\u001b[0m\n\u001b[1;32m----> 1\u001b[0m \u001b[38;5;28;43mnext\u001b[39;49m\u001b[43m(\u001b[49m\u001b[43ml\u001b[49m\u001b[43m)\u001b[49m\n",
      "\u001b[1;31mStopIteration\u001b[0m: "
     ]
    }
   ],
   "source": [
    "next(l)"
   ]
  },
  {
   "cell_type": "code",
   "execution_count": null,
   "id": "3dc8af37",
   "metadata": {},
   "outputs": [],
   "source": []
  }
 ],
 "metadata": {
  "kernelspec": {
   "display_name": "Python 3 (ipykernel)",
   "language": "python",
   "name": "python3"
  },
  "language_info": {
   "codemirror_mode": {
    "name": "ipython",
    "version": 3
   },
   "file_extension": ".py",
   "mimetype": "text/x-python",
   "name": "python",
   "nbconvert_exporter": "python",
   "pygments_lexer": "ipython3",
   "version": "3.9.12"
  }
 },
 "nbformat": 4,
 "nbformat_minor": 5
}
