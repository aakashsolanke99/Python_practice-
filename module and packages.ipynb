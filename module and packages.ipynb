{
 "cells": [
  {
   "cell_type": "code",
   "execution_count": 1,
   "id": "34509f6a",
   "metadata": {},
   "outputs": [],
   "source": [
    "import os"
   ]
  },
  {
   "cell_type": "code",
   "execution_count": 1,
   "id": "0eb3b47f",
   "metadata": {},
   "outputs": [],
   "source": [
    "def text(a,b):\n",
    "    return a+b"
   ]
  },
  {
   "cell_type": "code",
   "execution_count": 2,
   "id": "7a53eb1a",
   "metadata": {},
   "outputs": [
    {
     "data": {
      "text/plain": [
       "'C:\\\\Users\\\\aakas\\\\Documents\\\\INeuron'"
      ]
     },
     "execution_count": 2,
     "metadata": {},
     "output_type": "execute_result"
    }
   ],
   "source": [
    "pwd"
   ]
  },
  {
   "cell_type": "code",
   "execution_count": 3,
   "id": "26af51f0",
   "metadata": {},
   "outputs": [
    {
     "name": "stdout",
     "output_type": "stream",
     "text": [
      " Volume in drive C is Acer\n",
      " Volume Serial Number is 44A5-598D\n",
      "\n",
      " Directory of C:\\Users\\aakas\\Documents\\INeuron\n",
      "\n",
      "21-11-2022  16:04    <DIR>          .\n",
      "21-11-2022  16:04    <DIR>          ..\n",
      "20-11-2022  20:16    <DIR>          .ipynb_checkpoints\n",
      "20-11-2022  10:19            23,572 demo_003.ipynb\n",
      "08-11-2022  22:49            14,946 demo_004.ipynb\n",
      "10-11-2022  12:12            27,467 demo_005.ipynb\n",
      "10-11-2022  22:19             5,992 demo_006.ipynb\n",
      "11-11-2022  23:28            25,248 demo_007.ipynb\n",
      "15-11-2022  15:30            40,831 demo_functions.ipynb\n",
      "18-11-2022  19:17            26,773 exception handling .ipynb\n",
      "16-11-2022  22:57            85,130 function_continued.ipynb\n",
      "18-11-2022  11:49               816 google.txt\n",
      "18-11-2022  17:47            45,288 iterator-generator-file-system .ipynb\n",
      "20-11-2022  20:14            20,283 logging.ipynb\n",
      "21-11-2022  16:02             1,278 module and packages.ipynb\n",
      "21-11-2022  16:04                14 test.py\n",
      "18-11-2022  17:43                19 test.txt\n",
      "18-11-2022  17:52                 0 test3.txt\n",
      "18-11-2022  17:58                 0 test4.txt\n",
      "20-11-2022  20:07               860 text.log\n",
      "18-11-2022  10:09                 0 text.txt\n",
      "18-11-2022  10:31                78 text1.txt\n",
      "20-11-2022  19:41                 0 text2.log\n",
      "18-11-2022  10:19                51 text2.txt\n",
      "20-11-2022  20:07                 0 text3.log\n",
      "              22 File(s)        318,646 bytes\n",
      "               3 Dir(s)  226,307,575,808 bytes free\n"
     ]
    }
   ],
   "source": [
    "ls"
   ]
  },
  {
   "cell_type": "code",
   "execution_count": 1,
   "id": "dd01b5cb",
   "metadata": {},
   "outputs": [],
   "source": [
    "import test"
   ]
  },
  {
   "cell_type": "code",
   "execution_count": 2,
   "id": "a310c231",
   "metadata": {},
   "outputs": [
    {
     "data": {
      "text/plain": [
       "13.9"
      ]
     },
     "execution_count": 2,
     "metadata": {},
     "output_type": "execute_result"
    }
   ],
   "source": [
    "test.test(5.9,8)"
   ]
  },
  {
   "cell_type": "code",
   "execution_count": 3,
   "id": "004f0f85",
   "metadata": {},
   "outputs": [
    {
     "data": {
      "text/plain": [
       "6"
      ]
     },
     "execution_count": 3,
     "metadata": {},
     "output_type": "execute_result"
    }
   ],
   "source": [
    "test.test1(2,3)"
   ]
  },
  {
   "cell_type": "code",
   "execution_count": 4,
   "id": "7d373280",
   "metadata": {},
   "outputs": [
    {
     "data": {
      "text/plain": [
       "0.5"
      ]
     },
     "execution_count": 4,
     "metadata": {},
     "output_type": "execute_result"
    }
   ],
   "source": [
    "test.test2(4,8)"
   ]
  },
  {
   "cell_type": "code",
   "execution_count": 5,
   "id": "ee283f31",
   "metadata": {},
   "outputs": [],
   "source": [
    "from test import test1"
   ]
  },
  {
   "cell_type": "code",
   "execution_count": 7,
   "id": "1e9351cc",
   "metadata": {},
   "outputs": [
    {
     "data": {
      "text/plain": [
       "12"
      ]
     },
     "execution_count": 7,
     "metadata": {},
     "output_type": "execute_result"
    }
   ],
   "source": [
    "test1(3,4)"
   ]
  },
  {
   "cell_type": "code",
   "execution_count": 1,
   "id": "f856c8a5",
   "metadata": {},
   "outputs": [],
   "source": [
    "from test import *"
   ]
  },
  {
   "cell_type": "code",
   "execution_count": 4,
   "id": "b834f7c7",
   "metadata": {},
   "outputs": [
    {
     "data": {
      "text/plain": [
       "27"
      ]
     },
     "execution_count": 4,
     "metadata": {},
     "output_type": "execute_result"
    }
   ],
   "source": [
    "test(23,4)"
   ]
  },
  {
   "cell_type": "code",
   "execution_count": 3,
   "id": "141690ba",
   "metadata": {},
   "outputs": [
    {
     "data": {
      "text/plain": [
       "0.6666666666666666"
      ]
     },
     "execution_count": 3,
     "metadata": {},
     "output_type": "execute_result"
    }
   ],
   "source": [
    "test2(4,6)"
   ]
  },
  {
   "cell_type": "code",
   "execution_count": 6,
   "id": "4d249c4f",
   "metadata": {},
   "outputs": [
    {
     "data": {
      "text/plain": [
       "['In',\n",
       " 'Out',\n",
       " '_',\n",
       " '_2',\n",
       " '_3',\n",
       " '_4',\n",
       " '_5',\n",
       " '__',\n",
       " '___',\n",
       " '__builtin__',\n",
       " '__builtins__',\n",
       " '__doc__',\n",
       " '__loader__',\n",
       " '__name__',\n",
       " '__package__',\n",
       " '__spec__',\n",
       " '_dh',\n",
       " '_i',\n",
       " '_i1',\n",
       " '_i2',\n",
       " '_i3',\n",
       " '_i4',\n",
       " '_i5',\n",
       " '_i6',\n",
       " '_ih',\n",
       " '_ii',\n",
       " '_iii',\n",
       " '_oh',\n",
       " 'exit',\n",
       " 'get_ipython',\n",
       " 'quit',\n",
       " 'test',\n",
       " 'test1',\n",
       " 'test2']"
      ]
     },
     "execution_count": 6,
     "metadata": {},
     "output_type": "execute_result"
    }
   ],
   "source": [
    " dir()\n",
    "    "
   ]
  },
  {
   "cell_type": "code",
   "execution_count": 7,
   "id": "5b4b2206",
   "metadata": {},
   "outputs": [
    {
     "data": {
      "text/plain": [
       "<_io.TextIOWrapper name='my_module.py' mode='w' encoding='cp1252'>"
      ]
     },
     "execution_count": 7,
     "metadata": {},
     "output_type": "execute_result"
    }
   ],
   "source": [
    "open(\"my_module.py\",\"w\")"
   ]
  },
  {
   "cell_type": "code",
   "execution_count": 8,
   "id": "0f3e98b7",
   "metadata": {},
   "outputs": [
    {
     "name": "stdout",
     "output_type": "stream",
     "text": [
      " Volume in drive C is Acer\n",
      " Volume Serial Number is 44A5-598D\n",
      "\n",
      " Directory of C:\\Users\\aakas\\Documents\\INeuron\n",
      "\n",
      "22-11-2022  08:58    <DIR>          .\n",
      "22-11-2022  08:58    <DIR>          ..\n",
      "21-11-2022  16:10    <DIR>          .ipynb_checkpoints\n",
      "21-11-2022  16:25    <DIR>          __pycache__\n",
      "20-11-2022  10:19            23,572 demo_003.ipynb\n",
      "08-11-2022  22:49            14,946 demo_004.ipynb\n",
      "10-11-2022  12:12            27,467 demo_005.ipynb\n",
      "10-11-2022  22:19             5,992 demo_006.ipynb\n",
      "11-11-2022  23:28            25,248 demo_007.ipynb\n",
      "15-11-2022  15:30            40,831 demo_functions.ipynb\n",
      "18-11-2022  19:17            26,773 exception handling .ipynb\n",
      "16-11-2022  22:57            85,130 function_continued.ipynb\n",
      "18-11-2022  11:49               816 google.txt\n",
      "18-11-2022  17:47            45,288 iterator-generator-file-system .ipynb\n",
      "20-11-2022  20:14            20,283 logging.ipynb\n",
      "22-11-2022  08:58             7,209 module and packages.ipynb\n",
      "22-11-2022  09:02               231 my_module.py\n",
      "21-11-2022  16:24               141 test.py\n",
      "18-11-2022  17:43                19 test.txt\n",
      "18-11-2022  17:52                 0 test3.txt\n",
      "18-11-2022  17:58                 0 test4.txt\n",
      "20-11-2022  20:07               860 text.log\n",
      "18-11-2022  10:09                 0 text.txt\n",
      "18-11-2022  10:31                78 text1.txt\n",
      "20-11-2022  19:41                 0 text2.log\n",
      "18-11-2022  10:19                51 text2.txt\n",
      "20-11-2022  20:07                 0 text3.log\n",
      "21-11-2022  16:12             1,065 Untitled.ipynb\n",
      "              24 File(s)        326,000 bytes\n",
      "               4 Dir(s)  227,559,100,416 bytes free\n"
     ]
    }
   ],
   "source": [
    "ls\n"
   ]
  },
  {
   "cell_type": "code",
   "execution_count": 12,
   "id": "a7e3c9ac",
   "metadata": {},
   "outputs": [],
   "source": [
    "import my_module"
   ]
  },
  {
   "cell_type": "code",
   "execution_count": 16,
   "id": "467299e6",
   "metadata": {},
   "outputs": [
    {
     "data": {
      "text/plain": [
       "'greeting from ineuron'"
      ]
     },
     "execution_count": 16,
     "metadata": {},
     "output_type": "execute_result"
    }
   ],
   "source": [
    "my_module.greeting()"
   ]
  },
  {
   "cell_type": "code",
   "execution_count": 17,
   "id": "c79cdf9f",
   "metadata": {},
   "outputs": [
    {
     "data": {
      "text/plain": [
       "'ineuron'"
      ]
     },
     "execution_count": 17,
     "metadata": {},
     "output_type": "execute_result"
    }
   ],
   "source": [
    "my_module.data[\"name\"]"
   ]
  },
  {
   "cell_type": "markdown",
   "id": "fbefa191",
   "metadata": {},
   "source": [
    "### collection of moduels are called packegese"
   ]
  },
  {
   "cell_type": "code",
   "execution_count": null,
   "id": "93c80fef",
   "metadata": {},
   "outputs": [],
   "source": []
  }
 ],
 "metadata": {
  "kernelspec": {
   "display_name": "Python 3 (ipykernel)",
   "language": "python",
   "name": "python3"
  },
  "language_info": {
   "codemirror_mode": {
    "name": "ipython",
    "version": 3
   },
   "file_extension": ".py",
   "mimetype": "text/x-python",
   "name": "python",
   "nbconvert_exporter": "python",
   "pygments_lexer": "ipython3",
   "version": "3.9.12"
  }
 },
 "nbformat": 4,
 "nbformat_minor": 5
}
